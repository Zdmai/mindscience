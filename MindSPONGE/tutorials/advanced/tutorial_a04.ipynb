{
 "cells": [
  {
   "attachments": {},
   "cell_type": "markdown",
   "metadata": {},
   "source": [
    "Copyright 2021-2023 @ Shenzhen Bay Laboratory & Peking University & Huawei Technologies Co., Ltd\n",
    "\n",
    "This code is a part of MindSPONGE:\n",
    "MindSpore Simulation Package tOwards Next Generation molecular modelling.\n",
    "\n",
    "MindSPONGE is open-source software based on the AI-framework:\n",
    "MindSpore (https://www.mindspore.cn/)\n",
    "\n",
    "Licensed under the Apache License, Version 2.0 (the \"License\");\n",
    "you may not use this file except in compliance with the License.\n",
    "\n",
    "You may obtain a copy of the License at http://www.apache.org/licenses/LICENSE-2.0\n",
    "\n",
    "Unless required by applicable law or agreed to in writing, software\n",
    "distributed under the License is distributed on an \"AS IS\" BASIS,\n",
    "WITHOUT WARRANTIES OR CONDITIONS OF ANY KIND, either express or implied.\n",
    "\n",
    "See the License for the specific language governing permissions and\n",
    "limitations under the License.\n",
    "\n",
    "MindSPONGE advanced tutorial 04: Hybrid enhanced sampling and MetaITS"
   ]
  },
  {
   "cell_type": "code",
   "execution_count": 1,
   "metadata": {},
   "outputs": [
    {
     "name": "stderr",
     "output_type": "stream",
     "text": [
      "[WARNING] ME(190458:140013692118272,MainProcess):2023-03-24-17:55:32.801.147 [mindspore/run_check/_check_version.py:75] Can not found cuda libs, please confirm that the correct cuda version has been installed, you can refer to the installation guidelines: https://www.mindspore.cn/install\n"
     ]
    }
   ],
   "source": [
    "from mindspore import context\n",
    "from mindsponge import Sponge\n",
    "from mindsponge import ForceField\n",
    "from mindsponge import set_global_units\n",
    "from mindsponge import Protein\n",
    "from mindsponge import WithEnergyCell\n",
    "from mindsponge import UpdaterMD\n",
    "from mindsponge.optimizer import SteepestDescent\n",
    "from mindsponge.control import VelocityVerlet\n",
    "from mindsponge.callback import WriteH5MD, RunInfo\n",
    "from mindsponge.control import Langevin\n",
    "from mindsponge.sampling import Metadynamics, ITS\n",
    "from mindsponge.function import VelocityGenerator\n",
    "from mindsponge.colvar import Torsion\n",
    "from mindsponge.function import PI"
   ]
  },
  {
   "cell_type": "code",
   "execution_count": 2,
   "metadata": {},
   "outputs": [],
   "source": [
    "context.set_context(mode=context.PYNATIVE_MODE, device_target=\"GPU\")\n",
    "set_global_units('nm', 'kj/mol')"
   ]
  },
  {
   "cell_type": "code",
   "execution_count": 3,
   "metadata": {},
   "outputs": [],
   "source": [
    "system = Protein(pdb='alad.pdb')\n",
    "potential = ForceField(system, 'AMBER.FF14SB')"
   ]
  },
  {
   "cell_type": "code",
   "execution_count": 4,
   "metadata": {},
   "outputs": [],
   "source": [
    "phi = Torsion([4, 6, 8, 14])\n",
    "psi = Torsion([6, 8, 14, 16])"
   ]
  },
  {
   "cell_type": "code",
   "execution_count": 5,
   "metadata": {},
   "outputs": [
    {
     "name": "stdout",
     "output_type": "stream",
     "text": [
      "[MindSPONGE] Using fully connected neighbour list (not updated).\n"
     ]
    }
   ],
   "source": [
    "min_opt = SteepestDescent(system.trainable_params(), 1e-7)\n",
    "mini = Sponge(system, potential, min_opt, metrics={'phi': phi, 'psi': psi})"
   ]
  },
  {
   "cell_type": "code",
   "execution_count": 6,
   "metadata": {},
   "outputs": [
    {
     "name": "stdout",
     "output_type": "stream",
     "text": [
      "[MindSPONGE] Started simulation at 2023-03-24 17:55:42\n",
      "[MindSPONGE] Step: 0, E_pot: -55.75643, phi: -3.140886, psi: -3.1410766\n",
      "[MindSPONGE] Step: 10, E_pot: -58.41481, phi: -3.1339903, psi: -3.1368215\n",
      "[MindSPONGE] Step: 20, E_pot: -60.197777, phi: -3.1276336, psi: -3.1337032\n",
      "[MindSPONGE] Step: 30, E_pot: -61.60443, phi: -3.1219037, psi: -3.1313035\n",
      "[MindSPONGE] Step: 40, E_pot: -62.77914, phi: -3.1167603, psi: -3.1294105\n",
      "[MindSPONGE] Step: 50, E_pot: -63.786407, phi: -3.1121268, psi: -3.1279025\n",
      "[MindSPONGE] Step: 60, E_pot: -64.66443, phi: -3.107924, psi: -3.126701\n",
      "[MindSPONGE] Step: 70, E_pot: -65.43921, phi: -3.1040812, psi: -3.125749\n",
      "[MindSPONGE] Step: 80, E_pot: -66.13011, phi: -3.100538, psi: -3.125002\n",
      "[MindSPONGE] Step: 90, E_pot: -66.75129, phi: -3.0972445, psi: -3.1244242\n",
      "[MindSPONGE] Finished simulation at 2023-03-24 17:55:46\n",
      "[MindSPONGE] Simulation time: 4.04 seconds.\n",
      "--------------------------------------------------------------------------------\n"
     ]
    },
    {
     "data": {
      "text/plain": [
       "<mindsponge.core.sponge.Sponge at 0x7f566303b190>"
      ]
     },
     "execution_count": 6,
     "metadata": {},
     "output_type": "execute_result"
    }
   ],
   "source": [
    "run_info = RunInfo(10)\n",
    "mini.run(100, callbacks=[run_info])"
   ]
  },
  {
   "cell_type": "code",
   "execution_count": 7,
   "metadata": {},
   "outputs": [],
   "source": [
    "metad = Metadynamics(\n",
    "    colvar=[phi, psi],\n",
    "    update_pace=10,\n",
    "    height=2.5,\n",
    "    sigma=0.05,\n",
    "    grid_min=-PI,\n",
    "    grid_max=PI,\n",
    "    grid_bin=360,\n",
    "    temperature=300,\n",
    "    bias_factor=100,\n",
    ")"
   ]
  },
  {
   "cell_type": "code",
   "execution_count": 8,
   "metadata": {},
   "outputs": [],
   "source": [
    "its = ITS(\n",
    "    sim_temp=300,\n",
    "    temp_min=270,\n",
    "    temp_max=670,\n",
    "    temp_bin=200,\n",
    "    update_pace=100,\n",
    "    unlinear_temp=True,\n",
    ")"
   ]
  },
  {
   "cell_type": "code",
   "execution_count": 9,
   "metadata": {},
   "outputs": [
    {
     "name": "stdout",
     "output_type": "stream",
     "text": [
      "[MindSPONGE] Using fully connected neighbour list (not updated).\n"
     ]
    }
   ],
   "source": [
    "sim = WithEnergyCell(system, potential, bias=metad, wrapper=its)"
   ]
  },
  {
   "cell_type": "code",
   "execution_count": 10,
   "metadata": {},
   "outputs": [],
   "source": [
    "vgen = VelocityGenerator(300)\n",
    "velocity = vgen(system.coordinate.shape, system.atom_mass)\n",
    "opt = UpdaterMD(\n",
    "    system,\n",
    "    integrator=VelocityVerlet(system),\n",
    "    thermostat=Langevin(system, 300),\n",
    "    time_step=1e-3,\n",
    "    velocity=velocity\n",
    ")"
   ]
  },
  {
   "cell_type": "code",
   "execution_count": 11,
   "metadata": {},
   "outputs": [],
   "source": [
    "md = Sponge(sim, optimizer=opt, metrics={'phi': phi, 'psi': psi})"
   ]
  },
  {
   "cell_type": "code",
   "execution_count": 12,
   "metadata": {},
   "outputs": [
    {
     "name": "stdout",
     "output_type": "stream",
     "text": [
      "[MindSPONGE] Started simulation at 2023-03-24 17:55:53\n",
      "[MindSPONGE] Step: 0, E_pot: -80.015175, E_kin: 111.25446, E_tot: 31.239288, Temperature: 424.78848, phi: -3.090533, psi: -3.1262357\n",
      "[MindSPONGE] Step: 10, E_pot: -94.96431, E_kin: 48.351128, E_tot: -46.613182, Temperature: 184.61284, phi: -3.0379052, psi: 3.1247265\n",
      "[MindSPONGE] Step: 20, E_pot: -104.170815, E_kin: 52.031548, E_tot: -52.139267, Temperature: 198.6653, phi: -2.9780364, psi: -3.1205432\n",
      "[MindSPONGE] Step: 30, E_pot: -105.9071, E_kin: 47.039566, E_tot: -58.86753, Temperature: 179.60506, phi: -2.8954506, psi: -3.0621872\n",
      "[MindSPONGE] Step: 40, E_pot: -113.51082, E_kin: 64.22586, E_tot: -49.284958, Temperature: 245.22525, phi: -2.8580468, psi: -3.0479946\n",
      "[MindSPONGE] Step: 50, E_pot: -123.635796, E_kin: 77.99435, E_tot: -45.64145, Temperature: 297.7957, phi: -2.84861, psi: -3.0790868\n",
      "[MindSPONGE] Step: 60, E_pot: -112.17632, E_kin: 69.66453, E_tot: -42.511795, Temperature: 265.99103, phi: -2.834069, psi: 3.1268237\n",
      "[MindSPONGE] Step: 70, E_pot: -98.11848, E_kin: 57.599785, E_tot: -40.518692, Temperature: 219.92578, phi: -2.786615, psi: 3.0485003\n",
      "[MindSPONGE] Step: 80, E_pot: -115.72, E_kin: 67.67559, E_tot: -48.04441, Temperature: 258.39694, phi: -2.6729698, psi: 3.0216396\n",
      "[MindSPONGE] Step: 90, E_pot: -113.262405, E_kin: 80.807915, E_tot: -32.45449, Temperature: 308.5384, phi: -2.5184557, psi: 3.060053\n",
      "[MindSPONGE] Step: 100, E_pot: -100.77872, E_kin: 63.354435, E_tot: -37.424282, Temperature: 241.89801, phi: -2.389302, psi: 3.1348896\n",
      "[MindSPONGE] Step: 110, E_pot: -93.533325, E_kin: 65.53291, E_tot: -28.000412, Temperature: 250.21582, phi: -2.2925797, psi: -3.1250675\n",
      "[MindSPONGE] Step: 120, E_pot: -102.91278, E_kin: 78.058014, E_tot: -24.854767, Temperature: 298.03876, phi: -2.2824817, psi: -3.1174526\n",
      "[MindSPONGE] Step: 130, E_pot: -98.180145, E_kin: 83.78092, E_tot: -14.399223, Temperature: 319.8898, phi: -2.277664, psi: -3.08425\n",
      "[MindSPONGE] Step: 140, E_pot: -91.66766, E_kin: 66.25719, E_tot: -25.410477, Temperature: 252.98122, phi: -2.1995974, psi: -3.037313\n",
      "[MindSPONGE] Step: 150, E_pot: -87.71382, E_kin: 65.660736, E_tot: -22.053085, Temperature: 250.70387, phi: -2.1029828, psi: -3.0145102\n",
      "[MindSPONGE] Step: 160, E_pot: -99.89664, E_kin: 83.86017, E_tot: -16.036469, Temperature: 320.19238, phi: -2.1006265, psi: -2.9913883\n",
      "[MindSPONGE] Step: 170, E_pot: -101.99764, E_kin: 82.70006, E_tot: -19.297585, Temperature: 315.76288, phi: -2.1327724, psi: -2.9907076\n",
      "[MindSPONGE] Step: 180, E_pot: -89.03647, E_kin: 72.4715, E_tot: -16.564972, Temperature: 276.70853, phi: -2.1549902, psi: -3.061316\n",
      "[MindSPONGE] Step: 190, E_pot: -89.84118, E_kin: 80.11066, E_tot: -9.730522, Temperature: 305.87613, phi: -2.1731732, psi: 3.0833473\n",
      "[MindSPONGE] Step: 200, E_pot: -83.053856, E_kin: 71.41133, E_tot: -11.642525, Temperature: 272.6606, phi: -2.123561, psi: 2.9334824\n",
      "[MindSPONGE] Step: 210, E_pot: -87.389084, E_kin: 78.22146, E_tot: -9.167625, Temperature: 298.6628, phi: -2.1046345, psi: 2.8554988\n",
      "[MindSPONGE] Step: 220, E_pot: -84.281876, E_kin: 72.95606, E_tot: -11.325813, Temperature: 278.55865, phi: -2.1824849, psi: 2.8521755\n",
      "[MindSPONGE] Step: 230, E_pot: -84.64071, E_kin: 83.58478, E_tot: -1.0559311, Temperature: 319.1409, phi: -2.234532, psi: 2.8971665\n",
      "[MindSPONGE] Step: 240, E_pot: -79.03144, E_kin: 76.37849, E_tot: -2.652954, Temperature: 291.62607, phi: -2.1614714, psi: 2.9546027\n",
      "[MindSPONGE] Step: 250, E_pot: -73.20447, E_kin: 63.452415, E_tot: -9.752052, Temperature: 242.27211, phi: -2.084936, psi: 2.970253\n",
      "[MindSPONGE] Step: 260, E_pot: -101.30883, E_kin: 99.95869, E_tot: -1.3501434, Temperature: 381.65927, phi: -1.9891343, psi: 2.8337138\n",
      "[MindSPONGE] Step: 270, E_pot: -68.832436, E_kin: 60.132465, E_tot: -8.69997, Temperature: 229.59598, phi: -1.9124222, psi: 2.6921227\n",
      "[MindSPONGE] Step: 280, E_pot: -84.16871, E_kin: 73.89729, E_tot: -10.271416, Temperature: 282.15244, phi: -1.9193481, psi: 2.677923\n",
      "[MindSPONGE] Step: 290, E_pot: -97.195404, E_kin: 85.78737, E_tot: -11.408035, Temperature: 327.55075, phi: -2.010479, psi: 2.7411356\n",
      "[MindSPONGE] Step: 300, E_pot: -88.897644, E_kin: 71.93493, E_tot: -16.962715, Temperature: 274.6598, phi: -2.1588435, psi: 2.7923632\n",
      "[MindSPONGE] Step: 310, E_pot: -101.50937, E_kin: 74.32463, E_tot: -27.184738, Temperature: 283.7841, phi: -2.217279, psi: 2.7015483\n",
      "[MindSPONGE] Step: 320, E_pot: -93.48227, E_kin: 68.20118, E_tot: -25.28109, Temperature: 260.40372, phi: -2.1749163, psi: 2.5093627\n",
      "[MindSPONGE] Step: 330, E_pot: -84.22807, E_kin: 60.593037, E_tot: -23.635036, Temperature: 231.35452, phi: -2.0894036, psi: 2.4082396\n",
      "[MindSPONGE] Step: 340, E_pot: -101.119804, E_kin: 80.03705, E_tot: -21.082756, Temperature: 305.59506, phi: -2.034453, psi: 2.4011638\n",
      "[MindSPONGE] Step: 350, E_pot: -89.51232, E_kin: 64.65098, E_tot: -24.861343, Temperature: 246.84843, phi: -2.042367, psi: 2.4372451\n",
      "[MindSPONGE] Step: 360, E_pot: -103.66467, E_kin: 72.04761, E_tot: -31.617065, Temperature: 275.09003, phi: -2.0045464, psi: 2.4251447\n",
      "[MindSPONGE] Step: 370, E_pot: -99.74312, E_kin: 72.79899, E_tot: -26.94413, Temperature: 277.95892, phi: -1.8766662, psi: 2.3712063\n",
      "[MindSPONGE] Step: 380, E_pot: -90.74012, E_kin: 66.27518, E_tot: -24.464943, Temperature: 253.0499, phi: -1.8059673, psi: 2.349896\n",
      "[MindSPONGE] Step: 390, E_pot: -94.89736, E_kin: 72.92441, E_tot: -21.972954, Temperature: 278.4378, phi: -1.7023988, psi: 2.3466444\n",
      "[MindSPONGE] Step: 400, E_pot: -91.49223, E_kin: 73.686676, E_tot: -17.805557, Temperature: 281.34827, phi: -1.6333104, psi: 2.2944632\n",
      "[MindSPONGE] Step: 410, E_pot: -78.59482, E_kin: 67.15846, E_tot: -11.436356, Temperature: 256.42245, phi: -1.500877, psi: 2.1799607\n",
      "[MindSPONGE] Step: 420, E_pot: -95.653694, E_kin: 86.442986, E_tot: -9.210709, Temperature: 330.05402, phi: -1.3985083, psi: 2.107458\n",
      "[MindSPONGE] Step: 430, E_pot: -97.23323, E_kin: 84.235, E_tot: -12.99823, Temperature: 321.62357, phi: -1.4788947, psi: 2.1901758\n",
      "[MindSPONGE] Step: 440, E_pot: -80.142555, E_kin: 70.429825, E_tot: -9.71273, Temperature: 268.91306, phi: -1.5510927, psi: 2.2856712\n",
      "[MindSPONGE] Step: 450, E_pot: -95.448784, E_kin: 78.9888, E_tot: -16.459984, Temperature: 301.59268, phi: -1.599848, psi: 2.2855177\n",
      "[MindSPONGE] Step: 460, E_pot: -94.79303, E_kin: 98.87967, E_tot: 4.0866394, Temperature: 377.5394, phi: -1.5598614, psi: 2.2344465\n",
      "[MindSPONGE] Step: 470, E_pot: -65.81865, E_kin: 65.570496, E_tot: -0.24815369, Temperature: 250.35931, phi: -1.5994343, psi: 2.2114882\n",
      "[MindSPONGE] Step: 480, E_pot: -86.80773, E_kin: 97.64197, E_tot: 10.834236, Temperature: 372.81366, phi: -1.7620676, psi: 2.2241874\n",
      "[MindSPONGE] Step: 490, E_pot: -69.47315, E_kin: 77.11893, E_tot: 7.645775, Temperature: 294.4532, phi: -1.8197466, psi: 2.2627861\n",
      "[MindSPONGE] Step: 500, E_pot: -66.78273, E_kin: 79.62888, E_tot: 12.846153, Temperature: 304.03662, phi: -1.6915133, psi: 2.3155208\n",
      "[MindSPONGE] Step: 510, E_pot: -88.70456, E_kin: 105.61552, E_tot: 16.910957, Temperature: 403.25803, phi: -1.5397545, psi: 2.3280263\n",
      "[MindSPONGE] Step: 520, E_pot: -68.919975, E_kin: 81.46731, E_tot: 12.547333, Temperature: 311.05603, phi: -1.2946723, psi: 2.287836\n",
      "[MindSPONGE] Step: 530, E_pot: -81.9403, E_kin: 90.27821, E_tot: 8.3379135, Temperature: 344.6976, phi: -1.1363325, psi: 2.1993928\n",
      "[MindSPONGE] Step: 540, E_pot: -65.15341, E_kin: 90.03822, E_tot: 24.884811, Temperature: 343.78125, phi: -1.1264284, psi: 2.0601895\n",
      "[MindSPONGE] Step: 550, E_pot: -51.356876, E_kin: 74.01479, E_tot: 22.657917, Temperature: 282.60107, phi: -1.187495, psi: 1.9372678\n",
      "[MindSPONGE] Step: 560, E_pot: -68.574875, E_kin: 91.69351, E_tot: 23.118637, Temperature: 350.1014, phi: -1.279979, psi: 2.006962\n",
      "[MindSPONGE] Step: 570, E_pot: -70.539505, E_kin: 94.21378, E_tot: 23.674278, Temperature: 359.72427, phi: -1.2641526, psi: 2.198039\n",
      "[MindSPONGE] Step: 580, E_pot: -55.146362, E_kin: 68.71099, E_tot: 13.564629, Temperature: 262.35025, phi: -1.1286073, psi: 2.3772392\n",
      "[MindSPONGE] Step: 590, E_pot: -80.6394, E_kin: 101.46489, E_tot: 20.825493, Temperature: 387.41022, phi: -0.9472161, psi: 2.3911238\n",
      "[MindSPONGE] Step: 600, E_pot: -67.88506, E_kin: 83.196106, E_tot: 15.311043, Temperature: 317.6569, phi: -0.8215506, psi: 2.2391858\n",
      "[MindSPONGE] Step: 610, E_pot: -71.235664, E_kin: 87.27649, E_tot: 16.040825, Temperature: 333.23648, phi: -0.8767907, psi: 2.0872335\n",
      "[MindSPONGE] Step: 620, E_pot: -49.767365, E_kin: 61.680603, E_tot: 11.913239, Temperature: 235.50703, phi: -1.0571113, psi: 2.1115208\n",
      "[MindSPONGE] Step: 630, E_pot: -63.12712, E_kin: 78.79441, E_tot: 15.66729, Temperature: 300.85046, phi: -1.0815663, psi: 2.1557035\n",
      "[MindSPONGE] Step: 640, E_pot: -99.210526, E_kin: 112.82675, E_tot: 13.616226, Temperature: 430.79172, phi: -0.9744806, psi: 2.2235177\n",
      "[MindSPONGE] Step: 650, E_pot: -72.67015, E_kin: 87.98067, E_tot: 15.310516, Temperature: 335.92514, phi: -0.930225, psi: 2.1904168\n",
      "[MindSPONGE] Step: 660, E_pot: -62.384193, E_kin: 74.86917, E_tot: 12.484978, Temperature: 285.86322, phi: -0.9035732, psi: 2.0687263\n",
      "[MindSPONGE] Step: 670, E_pot: -67.53525, E_kin: 75.65669, E_tot: 8.121445, Temperature: 288.87012, phi: -0.88797253, psi: 1.9024599\n",
      "[MindSPONGE] Step: 680, E_pot: -80.62441, E_kin: 84.61987, E_tot: 3.9954605, Temperature: 323.09305, phi: -0.8934569, psi: 1.800162\n",
      "[MindSPONGE] Step: 690, E_pot: -72.79304, E_kin: 79.92422, E_tot: 7.13118, Temperature: 305.16425, phi: -0.84918964, psi: 1.7666312\n",
      "[MindSPONGE] Step: 700, E_pot: -71.89746, E_kin: 75.405334, E_tot: 3.5078735, Temperature: 287.91037, phi: -0.79263085, psi: 1.8760706\n",
      "[MindSPONGE] Step: 710, E_pot: -70.97358, E_kin: 72.13222, E_tot: 1.158638, Temperature: 275.4131, phi: -0.7380448, psi: 1.9941983\n",
      "[MindSPONGE] Step: 720, E_pot: -68.07535, E_kin: 75.72829, E_tot: 7.652939, Temperature: 289.14346, phi: -0.5822123, psi: 2.0194778\n",
      "[MindSPONGE] Step: 730, E_pot: -70.204666, E_kin: 78.27144, E_tot: 8.066772, Temperature: 298.85367, phi: -0.64052373, psi: 1.9604365\n",
      "[MindSPONGE] Step: 740, E_pot: -69.823105, E_kin: 82.84362, E_tot: 13.020515, Temperature: 316.31104, phi: -0.8022154, psi: 1.8479573\n",
      "[MindSPONGE] Step: 750, E_pot: -74.00755, E_kin: 90.933044, E_tot: 16.925491, Temperature: 347.19785, phi: -0.7669916, psi: 1.7163829\n",
      "[MindSPONGE] Step: 760, E_pot: -69.29164, E_kin: 82.8008, E_tot: 13.509155, Temperature: 316.14752, phi: -0.7587211, psi: 1.7451345\n",
      "[MindSPONGE] Step: 770, E_pot: -88.0033, E_kin: 96.21643, E_tot: 8.213127, Temperature: 367.3707, phi: -0.89397204, psi: 1.9206082\n",
      "[MindSPONGE] Step: 780, E_pot: -72.1627, E_kin: 71.975174, E_tot: -0.18752289, Temperature: 274.81345, phi: -1.0408633, psi: 2.0136564\n",
      "[MindSPONGE] Step: 790, E_pot: -83.811386, E_kin: 77.09226, E_tot: -6.719124, Temperature: 294.35138, phi: -1.1691273, psi: 1.9411656\n",
      "[MindSPONGE] Step: 800, E_pot: -98.6985, E_kin: 95.38757, E_tot: -3.3109283, Temperature: 364.206, phi: -1.2761192, psi: 1.80264\n",
      "[MindSPONGE] Step: 810, E_pot: -78.40544, E_kin: 71.78194, E_tot: -6.6235046, Temperature: 274.07565, phi: -1.319569, psi: 1.6773598\n",
      "[MindSPONGE] Step: 820, E_pot: -88.296074, E_kin: 72.25301, E_tot: -16.04306, Temperature: 275.8743, phi: -1.4537683, psi: 1.7034829\n",
      "[MindSPONGE] Step: 830, E_pot: -97.88897, E_kin: 78.21224, E_tot: -19.676727, Temperature: 298.62762, phi: -1.6039281, psi: 1.8317283\n",
      "[MindSPONGE] Step: 840, E_pot: -99.12567, E_kin: 79.9981, E_tot: -19.127571, Temperature: 305.44635, phi: -1.6106843, psi: 1.879967\n",
      "[MindSPONGE] Step: 850, E_pot: -94.97591, E_kin: 76.74443, E_tot: -18.231476, Temperature: 293.0233, phi: -1.5675683, psi: 1.8694919\n",
      "[MindSPONGE] Step: 860, E_pot: -89.035805, E_kin: 65.23036, E_tot: -23.805443, Temperature: 249.06061, phi: -1.5001329, psi: 1.7702372\n",
      "[MindSPONGE] Step: 870, E_pot: -101.36529, E_kin: 70.043564, E_tot: -31.321724, Temperature: 267.43823, phi: -1.4003136, psi: 1.5499737\n",
      "[MindSPONGE] Step: 880, E_pot: -89.52285, E_kin: 60.068455, E_tot: -29.454395, Temperature: 229.35158, phi: -1.423193, psi: 1.3799484\n",
      "[MindSPONGE] Step: 890, E_pot: -99.27005, E_kin: 78.41082, E_tot: -20.85923, Temperature: 299.38583, phi: -1.5862411, psi: 1.4030336\n",
      "[MindSPONGE] Step: 900, E_pot: -87.8326, E_kin: 70.19934, E_tot: -17.633263, Temperature: 268.03302, phi: -1.7150521, psi: 1.5763435\n",
      "[MindSPONGE] Step: 910, E_pot: -78.13144, E_kin: 71.61154, E_tot: -6.5198975, Temperature: 273.42505, phi: -1.7268021, psi: 1.6527792\n",
      "[MindSPONGE] Step: 920, E_pot: -74.10644, E_kin: 84.33307, E_tot: 10.226631, Temperature: 321.99802, phi: -1.627725, psi: 1.5789653\n",
      "[MindSPONGE] Step: 930, E_pot: -83.68345, E_kin: 92.88218, E_tot: 9.19873, Temperature: 354.63995, phi: -1.489671, psi: 1.3135568\n",
      "[MindSPONGE] Step: 940, E_pot: -83.74959, E_kin: 86.7531, E_tot: 3.0035095, Temperature: 331.2381, phi: -1.5438048, psi: 1.1573077\n",
      "[MindSPONGE] Step: 950, E_pot: -69.92216, E_kin: 68.16898, E_tot: -1.7531738, Temperature: 260.28076, phi: -1.6899537, psi: 1.1520541\n",
      "[MindSPONGE] Step: 960, E_pot: -94.4229, E_kin: 77.6909, E_tot: -16.731995, Temperature: 296.6371, phi: -1.8244809, psi: 1.1807878\n",
      "[MindSPONGE] Step: 970, E_pot: -91.77876, E_kin: 78.91336, E_tot: -12.865402, Temperature: 301.30463, phi: -1.9113802, psi: 1.2292606\n",
      "[MindSPONGE] Step: 980, E_pot: -89.53966, E_kin: 86.811676, E_tot: -2.7279816, Temperature: 331.46173, phi: -1.883441, psi: 1.2105794\n",
      "[MindSPONGE] Step: 990, E_pot: -73.55316, E_kin: 66.88962, E_tot: -6.6635437, Temperature: 255.39594, phi: -1.782841, psi: 1.1241195\n",
      "[MindSPONGE] Finished simulation at 2023-03-24 17:56:23\n",
      "[MindSPONGE] Simulation time: 30.21 seconds.\n",
      "--------------------------------------------------------------------------------\n"
     ]
    },
    {
     "data": {
      "text/plain": [
       "<mindsponge.core.sponge.Sponge at 0x7f54d4ea9070>"
      ]
     },
     "execution_count": 12,
     "metadata": {},
     "output_type": "execute_result"
    }
   ],
   "source": [
    "cb_h5md = WriteH5MD(system, 'tutorial_a04.h5md', save_freq=10)\n",
    "md.run(1000, callbacks=[run_info, cb_h5md])"
   ]
  }
 ],
 "metadata": {
  "kernelspec": {
   "display_name": "mindspore-1.10",
   "language": "python",
   "name": "python3"
  },
  "language_info": {
   "codemirror_mode": {
    "name": "ipython",
    "version": 3
   },
   "file_extension": ".py",
   "mimetype": "text/x-python",
   "name": "python",
   "nbconvert_exporter": "python",
   "pygments_lexer": "ipython3",
   "version": "3.8.13"
  },
  "orig_nbformat": 4
 },
 "nbformat": 4,
 "nbformat_minor": 2
}
