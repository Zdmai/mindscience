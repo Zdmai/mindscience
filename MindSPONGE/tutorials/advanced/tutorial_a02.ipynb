{
 "cells": [
  {
   "attachments": {},
   "cell_type": "markdown",
   "metadata": {},
   "source": [
    "Copyright 2021-2023 @ Shenzhen Bay Laboratory & Peking University & Huawei Technologies Co., Ltd\n",
    "\n",
    "This code is a part of MindSPONGE:\n",
    "MindSpore Simulation Package tOwards Next Generation molecular modelling.\n",
    "\n",
    "MindSPONGE is open-source software based on the AI-framework:\n",
    "MindSpore (https://www.mindspore.cn/)\n",
    "\n",
    "Licensed under the Apache License, Version 2.0 (the \"License\");\n",
    "you may not use this file except in compliance with the License.\n",
    "\n",
    "You may obtain a copy of the License at http://www.apache.org/licenses/LICENSE-2.0\n",
    "\n",
    "Unless required by applicable law or agreed to in writing, software\n",
    "distributed under the License is distributed on an \"AS IS\" BASIS,\n",
    "WITHOUT WARRANTIES OR CONDITIONS OF ANY KIND, either express or implied.\n",
    "\n",
    "See the License for the specific language governing permissions and\n",
    "limitations under the License.\n",
    "\n",
    "MindSPONGE advanced tutorial 02: Bias potential and metadynamics (MetaD)"
   ]
  },
  {
   "cell_type": "code",
   "execution_count": 1,
   "metadata": {},
   "outputs": [
    {
     "name": "stderr",
     "output_type": "stream",
     "text": [
      "[WARNING] ME(185000:140541717730560,MainProcess):2023-03-24-17:39:25.936.302 [mindspore/run_check/_check_version.py:75] Can not found cuda libs, please confirm that the correct cuda version has been installed, you can refer to the installation guidelines: https://www.mindspore.cn/install\n"
     ]
    }
   ],
   "source": [
    "from mindspore import context\n",
    "from mindsponge import Sponge\n",
    "from mindsponge import ForceField\n",
    "from mindsponge import set_global_units\n",
    "from mindsponge import Protein\n",
    "from mindsponge import WithEnergyCell\n",
    "from mindsponge import UpdaterMD\n",
    "from mindsponge.optimizer import SteepestDescent\n",
    "from mindsponge.control import VelocityVerlet\n",
    "from mindsponge.callback import WriteH5MD, RunInfo\n",
    "from mindsponge.control import Langevin\n",
    "from mindsponge.sampling import Metadynamics\n",
    "from mindsponge.function import VelocityGenerator\n",
    "from mindsponge.colvar import Torsion\n",
    "from mindsponge.function import PI"
   ]
  },
  {
   "cell_type": "code",
   "execution_count": 2,
   "metadata": {},
   "outputs": [],
   "source": [
    "context.set_context(mode=context.PYNATIVE_MODE, device_target=\"GPU\")\n",
    "set_global_units('nm', 'kj/mol')"
   ]
  },
  {
   "cell_type": "code",
   "execution_count": 3,
   "metadata": {},
   "outputs": [],
   "source": [
    "system = Protein(pdb='alad.pdb')\n",
    "potential = ForceField(system, 'AMBER.FF14SB')"
   ]
  },
  {
   "cell_type": "code",
   "execution_count": 4,
   "metadata": {},
   "outputs": [],
   "source": [
    "phi = Torsion([4, 6, 8, 14])\n",
    "psi = Torsion([6, 8, 14, 16])"
   ]
  },
  {
   "cell_type": "code",
   "execution_count": 5,
   "metadata": {},
   "outputs": [
    {
     "name": "stdout",
     "output_type": "stream",
     "text": [
      "[MindSPONGE] Using fully connected neighbour list (not updated).\n"
     ]
    }
   ],
   "source": [
    "min_opt = SteepestDescent(system.trainable_params(), 1e-7)\n",
    "mini = Sponge(system, potential, min_opt, metrics={'phi': phi, 'psi': psi})"
   ]
  },
  {
   "cell_type": "code",
   "execution_count": 6,
   "metadata": {},
   "outputs": [
    {
     "name": "stdout",
     "output_type": "stream",
     "text": [
      "[MindSPONGE] Started simulation at 2023-03-24 17:39:40\n",
      "[MindSPONGE] Step: 0, E_pot: -55.75643, phi: -3.140886, psi: -3.1410766\n",
      "[MindSPONGE] Step: 10, E_pot: -58.41481, phi: -3.1339903, psi: -3.1368215\n",
      "[MindSPONGE] Step: 20, E_pot: -60.197777, phi: -3.1276336, psi: -3.1337032\n",
      "[MindSPONGE] Step: 30, E_pot: -61.60443, phi: -3.1219037, psi: -3.1313035\n",
      "[MindSPONGE] Step: 40, E_pot: -62.77914, phi: -3.1167603, psi: -3.1294105\n",
      "[MindSPONGE] Step: 50, E_pot: -63.786407, phi: -3.1121268, psi: -3.1279025\n",
      "[MindSPONGE] Step: 60, E_pot: -64.66443, phi: -3.107924, psi: -3.126701\n",
      "[MindSPONGE] Step: 70, E_pot: -65.43921, phi: -3.1040812, psi: -3.125749\n",
      "[MindSPONGE] Step: 80, E_pot: -66.13011, phi: -3.100538, psi: -3.125002\n",
      "[MindSPONGE] Step: 90, E_pot: -66.75129, phi: -3.0972445, psi: -3.1244242\n",
      "[MindSPONGE] Finished simulation at 2023-03-24 17:39:44\n",
      "[MindSPONGE] Simulation time: 3.98 seconds.\n",
      "--------------------------------------------------------------------------------\n"
     ]
    },
    {
     "data": {
      "text/plain": [
       "<mindsponge.core.sponge.Sponge at 0x7fd24d230040>"
      ]
     },
     "execution_count": 6,
     "metadata": {},
     "output_type": "execute_result"
    }
   ],
   "source": [
    "run_info = RunInfo(10)\n",
    "mini.run(100, callbacks=[run_info])"
   ]
  },
  {
   "cell_type": "code",
   "execution_count": 7,
   "metadata": {},
   "outputs": [],
   "source": [
    "metad = Metadynamics(\n",
    "    colvar=[phi, psi],\n",
    "    update_pace=10,\n",
    "    height=2.5,\n",
    "    sigma=0.05,\n",
    "    grid_min=-PI,\n",
    "    grid_max=PI,\n",
    "    grid_bin=360,\n",
    "    temperature=300,\n",
    "    bias_factor=100,\n",
    ")"
   ]
  },
  {
   "cell_type": "code",
   "execution_count": 8,
   "metadata": {},
   "outputs": [
    {
     "name": "stdout",
     "output_type": "stream",
     "text": [
      "[MindSPONGE] Using fully connected neighbour list (not updated).\n"
     ]
    }
   ],
   "source": [
    "sim = WithEnergyCell(system, potential, bias=metad)"
   ]
  },
  {
   "cell_type": "code",
   "execution_count": 9,
   "metadata": {},
   "outputs": [],
   "source": [
    "vgen = VelocityGenerator(300)\n",
    "velocity = vgen(system.coordinate.shape, system.atom_mass)\n",
    "opt = UpdaterMD(\n",
    "    system,\n",
    "    integrator=VelocityVerlet(system),\n",
    "    thermostat=Langevin(system, 300),\n",
    "    time_step=1e-3,\n",
    "    velocity=velocity\n",
    ")"
   ]
  },
  {
   "cell_type": "code",
   "execution_count": 10,
   "metadata": {},
   "outputs": [],
   "source": [
    "md = Sponge(sim, optimizer=opt, metrics={'phi': phi, 'psi': psi})"
   ]
  },
  {
   "cell_type": "code",
   "execution_count": 11,
   "metadata": {},
   "outputs": [
    {
     "name": "stdout",
     "output_type": "stream",
     "text": [
      "[MindSPONGE] Started simulation at 2023-03-24 17:40:02\n",
      "[MindSPONGE] Step: 0, E_pot: -67.31398, E_kin: 110.406906, E_tot: 43.092926, Temperature: 421.55234, phi: -3.1031148, psi: -3.113236\n",
      "[MindSPONGE] Step: 10, E_pot: -21.638275, E_kin: 59.025436, E_tot: 37.38716, Temperature: 225.36916, phi: -3.138378, psi: -3.0506594\n",
      "[MindSPONGE] Step: 20, E_pot: -13.997249, E_kin: 58.894936, E_tot: 44.897686, Temperature: 224.87088, phi: -3.0901785, psi: -3.0282526\n",
      "[MindSPONGE] Step: 30, E_pot: -15.513279, E_kin: 68.00424, E_tot: 52.490963, Temperature: 259.65176, phi: -3.0149684, psi: -2.9992619\n",
      "[MindSPONGE] Step: 40, E_pot: -13.233526, E_kin: 78.49111, E_tot: 65.25758, Temperature: 299.6924, phi: -2.9764829, psi: -2.9917028\n",
      "[MindSPONGE] Step: 50, E_pot: -14.61941, E_kin: 83.28073, E_tot: 68.66132, Temperature: 317.97998, phi: -2.9594758, psi: -2.912541\n",
      "[MindSPONGE] Step: 60, E_pot: -17.372175, E_kin: 77.772964, E_tot: 60.400787, Temperature: 296.9504, phi: -2.8799992, psi: -2.801089\n",
      "[MindSPONGE] Step: 70, E_pot: 2.5214217, E_kin: 73.72153, E_tot: 76.24295, Temperature: 281.48132, phi: -2.8270354, psi: -2.7161906\n",
      "[MindSPONGE] Step: 80, E_pot: 9.026318, E_kin: 75.697205, E_tot: 84.723526, Temperature: 289.0248, phi: -2.7785919, psi: -2.6365345\n",
      "[MindSPONGE] Step: 90, E_pot: 13.71904, E_kin: 76.04244, E_tot: 89.76148, Temperature: 290.343, phi: -2.6665118, psi: -2.604272\n",
      "[MindSPONGE] Step: 100, E_pot: -3.6204875, E_kin: 88.89462, E_tot: 85.27413, Temperature: 339.4148, phi: -2.581397, psi: -2.6311579\n",
      "[MindSPONGE] Step: 110, E_pot: -1.3441154, E_kin: 87.95866, E_tot: 86.61454, Temperature: 335.84113, phi: -2.5291443, psi: -2.6347785\n",
      "[MindSPONGE] Step: 120, E_pot: 8.331916, E_kin: 72.630264, E_tot: 80.96218, Temperature: 277.3147, phi: -2.547995, psi: -2.5547028\n",
      "[MindSPONGE] Step: 130, E_pot: -6.9070344, E_kin: 80.2733, E_tot: 73.366264, Temperature: 306.4971, phi: -2.5300333, psi: -2.4315212\n",
      "[MindSPONGE] Step: 140, E_pot: 0.17237492, E_kin: 77.771736, E_tot: 77.944115, Temperature: 296.94574, phi: -2.3638885, psi: -2.350844\n",
      "[MindSPONGE] Step: 150, E_pot: 17.291893, E_kin: 65.8665, E_tot: 83.158394, Temperature: 251.48952, phi: -2.3429713, psi: -2.3840208\n",
      "[MindSPONGE] Step: 160, E_pot: -0.90440494, E_kin: 94.64462, E_tot: 93.74022, Temperature: 361.36926, phi: -2.430568, psi: -2.4537163\n",
      "[MindSPONGE] Step: 170, E_pot: -10.246134, E_kin: 87.33274, E_tot: 77.08661, Temperature: 333.45123, phi: -2.4503856, psi: -2.4670694\n",
      "[MindSPONGE] Step: 180, E_pot: 19.97942, E_kin: 73.131195, E_tot: 93.11061, Temperature: 279.22736, phi: -2.4071374, psi: -2.5424645\n",
      "[MindSPONGE] Step: 190, E_pot: 19.674303, E_kin: 84.11253, E_tot: 103.786835, Temperature: 321.15598, phi: -2.3177633, psi: -2.618803\n",
      "[MindSPONGE] Step: 200, E_pot: 10.355567, E_kin: 96.763214, E_tot: 107.11878, Temperature: 369.45844, phi: -2.170499, psi: -2.5826893\n",
      "[MindSPONGE] Step: 210, E_pot: 17.564877, E_kin: 88.342636, E_tot: 105.90752, Temperature: 337.30722, phi: -2.192394, psi: -2.4862862\n",
      "[MindSPONGE] Step: 220, E_pot: 21.290419, E_kin: 85.98088, E_tot: 107.2713, Temperature: 328.28964, phi: -2.2251318, psi: -2.471254\n",
      "[MindSPONGE] Step: 230, E_pot: 23.07166, E_kin: 78.167595, E_tot: 101.23926, Temperature: 298.45715, phi: -2.2206929, psi: -2.490239\n",
      "[MindSPONGE] Step: 240, E_pot: 12.100352, E_kin: 84.45682, E_tot: 96.55717, Temperature: 322.4705, phi: -2.1741266, psi: -2.6626112\n",
      "[MindSPONGE] Step: 250, E_pot: -13.719841, E_kin: 114.674164, E_tot: 100.95432, Temperature: 437.8455, phi: -2.2872577, psi: -2.9014852\n",
      "[MindSPONGE] Step: 260, E_pot: 11.605857, E_kin: 93.99296, E_tot: 105.598816, Temperature: 358.8811, phi: -2.3008127, psi: -3.0749574\n",
      "[MindSPONGE] Step: 270, E_pot: 5.33723, E_kin: 104.09546, E_tot: 109.432686, Temperature: 397.45416, phi: -2.1689317, psi: -3.094691\n",
      "[MindSPONGE] Step: 280, E_pot: -1.6986116, E_kin: 109.98497, E_tot: 108.28636, Temperature: 419.94135, phi: -2.082567, psi: -3.1025217\n",
      "[MindSPONGE] Step: 290, E_pot: 1.750844, E_kin: 121.57196, E_tot: 123.32281, Temperature: 464.1824, phi: -2.128539, psi: -3.0975277\n",
      "[MindSPONGE] Step: 300, E_pot: 14.34738, E_kin: 123.24336, E_tot: 137.59074, Temperature: 470.56412, phi: -2.200684, psi: 3.1220477\n",
      "[MindSPONGE] Step: 310, E_pot: 31.945824, E_kin: 106.88701, E_tot: 138.83282, Temperature: 408.11276, phi: -2.2492678, psi: 2.932701\n",
      "[MindSPONGE] Step: 320, E_pot: 11.878233, E_kin: 133.525, E_tot: 145.40323, Temperature: 509.82114, phi: -2.182417, psi: 2.7588959\n",
      "[MindSPONGE] Step: 330, E_pot: -17.606392, E_kin: 153.22687, E_tot: 135.62048, Temperature: 585.04626, phi: -2.1213903, psi: 2.6789973\n",
      "[MindSPONGE] Step: 340, E_pot: 2.5794497, E_kin: 120.798706, E_tot: 123.37816, Temperature: 461.23, phi: -2.1913064, psi: 2.5855417\n",
      "[MindSPONGE] Step: 350, E_pot: 30.714691, E_kin: 95.90742, E_tot: 126.62211, Temperature: 366.19083, phi: -2.4033055, psi: 2.3835104\n",
      "[MindSPONGE] Step: 360, E_pot: 26.582119, E_kin: 99.30083, E_tot: 125.88295, Temperature: 379.14743, phi: -2.4681678, psi: 2.2210574\n",
      "[MindSPONGE] Step: 370, E_pot: -3.0463905, E_kin: 126.347916, E_tot: 123.30153, Temperature: 482.41785, phi: -2.3926837, psi: 2.2562087\n",
      "[MindSPONGE] Step: 380, E_pot: 4.060735, E_kin: 124.44539, E_tot: 128.50612, Temperature: 475.1537, phi: -2.212049, psi: 2.28721\n",
      "[MindSPONGE] Step: 390, E_pot: -0.851572, E_kin: 131.38239, E_tot: 130.5308, Temperature: 501.6403, phi: -2.0712056, psi: 2.1727023\n",
      "[MindSPONGE] Step: 400, E_pot: -3.3105483, E_kin: 124.550674, E_tot: 121.24013, Temperature: 475.55566, phi: -2.2009008, psi: 2.0068903\n",
      "[MindSPONGE] Step: 410, E_pot: 0.4780022, E_kin: 126.9924, E_tot: 127.470406, Temperature: 484.87857, phi: -2.4003866, psi: 1.889895\n",
      "[MindSPONGE] Step: 420, E_pot: 13.2501745, E_kin: 120.02976, E_tot: 133.27994, Temperature: 458.29407, phi: -2.4197054, psi: 1.7438319\n",
      "[MindSPONGE] Step: 430, E_pot: 27.802511, E_kin: 109.71956, E_tot: 137.52206, Temperature: 418.92792, phi: -2.3812137, psi: 1.62049\n",
      "[MindSPONGE] Step: 440, E_pot: 17.70474, E_kin: 124.6378, E_tot: 142.34254, Temperature: 475.88834, phi: -2.4625263, psi: 1.5073385\n",
      "[MindSPONGE] Step: 450, E_pot: 0.47323245, E_kin: 139.74887, E_tot: 140.2221, Temperature: 533.58496, phi: -2.4905272, psi: 1.4328316\n",
      "[MindSPONGE] Step: 460, E_pot: 15.900599, E_kin: 110.05235, E_tot: 125.95295, Temperature: 420.1986, phi: -2.4290967, psi: 1.3660719\n",
      "[MindSPONGE] Step: 470, E_pot: 15.520211, E_kin: 108.891846, E_tot: 124.412056, Temperature: 415.76758, phi: -2.2314863, psi: 1.2928959\n",
      "[MindSPONGE] Step: 480, E_pot: 14.291096, E_kin: 118.19182, E_tot: 132.48291, Temperature: 451.27646, phi: -2.1164138, psi: 1.1723752\n",
      "[MindSPONGE] Step: 490, E_pot: 3.5269456, E_kin: 123.14517, E_tot: 126.67212, Temperature: 470.18924, phi: -2.2867835, psi: 1.142853\n",
      "[MindSPONGE] Step: 500, E_pot: 44.235226, E_kin: 81.22046, E_tot: 125.45569, Temperature: 310.11353, phi: -2.299036, psi: 1.0810869\n",
      "[MindSPONGE] Step: 510, E_pot: 14.987588, E_kin: 114.52498, E_tot: 129.51257, Temperature: 437.27585, phi: -2.0012429, psi: 0.83668375\n",
      "[MindSPONGE] Step: 520, E_pot: 7.4802647, E_kin: 109.8089, E_tot: 117.28916, Temperature: 419.26904, phi: -1.8222703, psi: 0.7340809\n",
      "[MindSPONGE] Step: 530, E_pot: 8.231816, E_kin: 113.86963, E_tot: 122.10145, Temperature: 434.77362, phi: -2.0185986, psi: 0.8509948\n",
      "[MindSPONGE] Step: 540, E_pot: 26.22647, E_kin: 81.63305, E_tot: 107.85952, Temperature: 311.68887, phi: -2.1309533, psi: 0.78096396\n",
      "[MindSPONGE] Step: 550, E_pot: -4.7682595, E_kin: 105.81118, E_tot: 101.04292, Temperature: 404.0051, phi: -1.9958394, psi: 0.5538025\n",
      "[MindSPONGE] Step: 560, E_pot: 3.2538016, E_kin: 99.46891, E_tot: 102.72271, Temperature: 379.7892, phi: -1.7623861, psi: 0.30179587\n",
      "[MindSPONGE] Step: 570, E_pot: 11.604708, E_kin: 91.28281, E_tot: 102.88751, Temperature: 348.5333, phi: -1.7732006, psi: 0.34739634\n",
      "[MindSPONGE] Step: 580, E_pot: 27.339706, E_kin: 78.523674, E_tot: 105.86338, Temperature: 299.81674, phi: -1.93469, psi: 0.41575715\n",
      "[MindSPONGE] Step: 590, E_pot: 4.8768253, E_kin: 101.28044, E_tot: 106.157265, Temperature: 386.70596, phi: -1.7810009, psi: 0.16152814\n",
      "[MindSPONGE] Step: 600, E_pot: 14.002966, E_kin: 89.632355, E_tot: 103.63532, Temperature: 342.2316, phi: -1.5092902, psi: -0.0441065\n",
      "[MindSPONGE] Step: 610, E_pot: 39.290394, E_kin: 59.851906, E_tot: 99.1423, Temperature: 228.52477, phi: -1.519277, psi: 0.07748949\n",
      "[MindSPONGE] Step: 620, E_pot: -1.0622425, E_kin: 100.45027, E_tot: 99.38803, Temperature: 383.53622, phi: -1.7114396, psi: 0.17902409\n",
      "[MindSPONGE] Step: 630, E_pot: -5.812624, E_kin: 107.611626, E_tot: 101.799, Temperature: 410.8795, phi: -1.6746478, psi: -0.022477435\n",
      "[MindSPONGE] Step: 640, E_pot: 18.413528, E_kin: 88.06181, E_tot: 106.47534, Temperature: 336.235, phi: -1.495474, psi: -0.13861611\n",
      "[MindSPONGE] Step: 650, E_pot: 19.057518, E_kin: 99.90804, E_tot: 118.96556, Temperature: 381.46588, phi: -1.4474939, psi: 0.05163895\n",
      "[MindSPONGE] Step: 660, E_pot: 17.93601, E_kin: 104.843414, E_tot: 122.77943, Temperature: 400.31, phi: -1.3433348, psi: 0.09704691\n",
      "[MindSPONGE] Step: 670, E_pot: 31.20092, E_kin: 92.768036, E_tot: 123.968956, Temperature: 354.20416, phi: -1.1769993, psi: 0.005788764\n",
      "[MindSPONGE] Step: 680, E_pot: 25.456793, E_kin: 89.997536, E_tot: 115.45433, Temperature: 343.62592, phi: -1.0685172, psi: -0.12429462\n",
      "[MindSPONGE] Step: 690, E_pot: 32.10469, E_kin: 84.25775, E_tot: 116.36244, Temperature: 321.71042, phi: -1.0101715, psi: -0.20914511\n",
      "[MindSPONGE] Step: 700, E_pot: 59.06958, E_kin: 73.317375, E_tot: 132.38696, Temperature: 279.9382, phi: -1.1471279, psi: -0.06268651\n",
      "[MindSPONGE] Step: 710, E_pot: 1.2493086, E_kin: 120.35099, E_tot: 121.600296, Temperature: 459.52054, phi: -1.2996902, psi: 0.030887023\n",
      "[MindSPONGE] Step: 720, E_pot: -8.562431, E_kin: 113.82165, E_tot: 105.25922, Temperature: 434.59042, phi: -1.2042012, psi: -0.15074673\n",
      "[MindSPONGE] Step: 730, E_pot: 8.375159, E_kin: 102.95442, E_tot: 111.32958, Temperature: 393.09747, phi: -1.1921475, psi: -0.25991926\n",
      "[MindSPONGE] Step: 740, E_pot: 22.292015, E_kin: 85.71019, E_tot: 108.002205, Temperature: 327.2561, phi: -1.2382615, psi: -0.2085137\n",
      "[MindSPONGE] Step: 750, E_pot: 16.401182, E_kin: 116.049126, E_tot: 132.4503, Temperature: 443.0953, phi: -1.3485246, psi: -0.077800445\n",
      "[MindSPONGE] Step: 760, E_pot: 29.03963, E_kin: 109.29524, E_tot: 138.33487, Temperature: 417.30783, phi: -1.215047, psi: -0.29680607\n",
      "[MindSPONGE] Step: 770, E_pot: 42.80826, E_kin: 97.23457, E_tot: 140.04283, Temperature: 371.25815, phi: -1.0579703, psi: -0.47494307\n",
      "[MindSPONGE] Step: 780, E_pot: 42.218147, E_kin: 108.72474, E_tot: 150.94289, Temperature: 415.12955, phi: -0.9444331, psi: -0.3975921\n",
      "[MindSPONGE] Step: 790, E_pot: 43.961124, E_kin: 108.43527, E_tot: 152.3964, Temperature: 414.0243, phi: -0.95048255, psi: -0.37705755\n",
      "[MindSPONGE] Step: 800, E_pot: 23.38044, E_kin: 120.69918, E_tot: 144.07962, Temperature: 460.85, phi: -1.1926959, psi: -0.2571592\n",
      "[MindSPONGE] Step: 810, E_pot: 40.229713, E_kin: 106.19606, E_tot: 146.42578, Temperature: 405.47464, phi: -1.2700472, psi: -0.3744932\n",
      "[MindSPONGE] Step: 820, E_pot: 35.67389, E_kin: 111.43494, E_tot: 147.10883, Temperature: 425.47754, phi: -1.1911418, psi: -0.46237358\n",
      "[MindSPONGE] Step: 830, E_pot: 30.985352, E_kin: 108.355515, E_tot: 139.34087, Temperature: 413.7198, phi: -1.1295707, psi: -0.2801788\n",
      "[MindSPONGE] Step: 840, E_pot: 23.400438, E_kin: 119.96357, E_tot: 143.36401, Temperature: 458.04132, phi: -0.94651264, psi: -0.34140965\n",
      "[MindSPONGE] Step: 850, E_pot: 45.805283, E_kin: 93.50429, E_tot: 139.30957, Temperature: 357.01526, phi: -1.0501717, psi: -0.22560413\n",
      "[MindSPONGE] Step: 860, E_pot: 17.35339, E_kin: 119.402725, E_tot: 136.75612, Temperature: 455.8999, phi: -1.0229936, psi: -0.41073447\n",
      "[MindSPONGE] Step: 870, E_pot: 47.769547, E_kin: 93.435524, E_tot: 141.20508, Temperature: 356.75272, phi: -0.8888967, psi: -0.48273733\n",
      "[MindSPONGE] Step: 880, E_pot: 24.657984, E_kin: 119.95073, E_tot: 144.60872, Temperature: 457.99228, phi: -0.8311565, psi: -0.3702829\n",
      "[MindSPONGE] Step: 890, E_pot: 22.329788, E_kin: 116.3799, E_tot: 138.70969, Temperature: 444.35825, phi: -0.90036947, psi: -0.24280353\n",
      "[MindSPONGE] Step: 900, E_pot: 30.874582, E_kin: 113.743416, E_tot: 144.618, Temperature: 434.29172, phi: -0.9778711, psi: -0.23716328\n",
      "[MindSPONGE] Step: 910, E_pot: 27.677217, E_kin: 129.33676, E_tot: 157.01398, Temperature: 493.82974, phi: -1.0226326, psi: -0.32889515\n",
      "[MindSPONGE] Step: 920, E_pot: 37.3963, E_kin: 119.6924, E_tot: 157.0887, Temperature: 457.00595, phi: -1.1126503, psi: -0.35749322\n",
      "[MindSPONGE] Step: 930, E_pot: 42.468704, E_kin: 107.95131, E_tot: 150.42001, Temperature: 412.17648, phi: -1.1227918, psi: -0.30395445\n",
      "[MindSPONGE] Step: 940, E_pot: 21.983597, E_kin: 127.9252, E_tot: 149.9088, Temperature: 488.4402, phi: -0.9637996, psi: -0.28392604\n",
      "[MindSPONGE] Step: 950, E_pot: 33.984604, E_kin: 106.57221, E_tot: 140.55682, Temperature: 406.91083, phi: -0.95516557, psi: -0.09780286\n",
      "[MindSPONGE] Step: 960, E_pot: 16.785345, E_kin: 124.21925, E_tot: 141.0046, Temperature: 474.29022, phi: -0.7638997, psi: -0.34228575\n",
      "[MindSPONGE] Step: 970, E_pot: 44.413334, E_kin: 97.979515, E_tot: 142.39285, Temperature: 374.10245, phi: -0.84412766, psi: -0.39967686\n",
      "[MindSPONGE] Step: 980, E_pot: 33.432617, E_kin: 107.94022, E_tot: 141.37283, Temperature: 412.13412, phi: -1.1263974, psi: -0.13921234\n",
      "[MindSPONGE] Step: 990, E_pot: 51.10191, E_kin: 92.63516, E_tot: 143.73708, Temperature: 353.6968, phi: -1.2797973, psi: 0.044446077\n",
      "[MindSPONGE] Finished simulation at 2023-03-24 17:40:30\n",
      "[MindSPONGE] Simulation time: 28.57 seconds.\n",
      "--------------------------------------------------------------------------------\n"
     ]
    },
    {
     "data": {
      "text/plain": [
       "<mindsponge.core.sponge.Sponge at 0x7fcfc5b2f490>"
      ]
     },
     "execution_count": 11,
     "metadata": {},
     "output_type": "execute_result"
    }
   ],
   "source": [
    "cb_h5md = WriteH5MD(system, 'tutorial_a02.h5md', save_freq=10)\n",
    "md.run(1000, callbacks=[run_info, cb_h5md])"
   ]
  }
 ],
 "metadata": {
  "kernelspec": {
   "display_name": "mindspore-1.10",
   "language": "python",
   "name": "python3"
  },
  "language_info": {
   "codemirror_mode": {
    "name": "ipython",
    "version": 3
   },
   "file_extension": ".py",
   "mimetype": "text/x-python",
   "name": "python",
   "nbconvert_exporter": "python",
   "pygments_lexer": "ipython3",
   "version": "3.8.13"
  },
  "orig_nbformat": 4
 },
 "nbformat": 4,
 "nbformat_minor": 2
}
