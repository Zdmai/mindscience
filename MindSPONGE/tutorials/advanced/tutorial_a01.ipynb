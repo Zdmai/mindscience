{
 "cells": [
  {
   "attachments": {},
   "cell_type": "markdown",
   "metadata": {},
   "source": [
    "Copyright 2021-2023 @ Shenzhen Bay Laboratory & Peking University & Huawei Technologies Co., Ltd\n",
    "\n",
    "This code is a part of MindSPONGE:\n",
    "MindSpore Simulation Package tOwards Next Generation molecular modelling.\n",
    "\n",
    "MindSPONGE is open-source software based on the AI-framework:\n",
    "MindSpore (https://www.mindspore.cn/)\n",
    "\n",
    "Licensed under the Apache License, Version 2.0 (the \"License\");\n",
    "you may not use this file except in compliance with the License.\n",
    "\n",
    "You may obtain a copy of the License at http://www.apache.org/licenses/LICENSE-2.0\n",
    "\n",
    "Unless required by applicable law or agreed to in writing, software\n",
    "distributed under the License is distributed on an \"AS IS\" BASIS,\n",
    "WITHOUT WARRANTIES OR CONDITIONS OF ANY KIND, either express or implied.\n",
    "\n",
    "See the License for the specific language governing permissions and\n",
    "limitations under the License.\n",
    "\n",
    "MindSPONGE advanced tutorial 01: Collective variables (CVs), metrics and analyse."
   ]
  },
  {
   "cell_type": "code",
   "execution_count": 1,
   "metadata": {},
   "outputs": [
    {
     "name": "stderr",
     "output_type": "stream",
     "text": [
      "[WARNING] ME(280321:140287255590144,MainProcess):2023-03-25-14:24:54.815.123 [mindspore/run_check/_check_version.py:75] Can not found cuda libs, please confirm that the correct cuda version has been installed, you can refer to the installation guidelines: https://www.mindspore.cn/install\n"
     ]
    }
   ],
   "source": [
    "from mindspore import context\n",
    "from mindsponge import Sponge\n",
    "from mindsponge import ForceField\n",
    "from mindsponge import set_global_units\n",
    "from mindsponge import Protein\n",
    "from mindsponge import UpdaterMD\n",
    "from mindsponge.optimizer import SteepestDescent\n",
    "from mindsponge.control import VelocityVerlet\n",
    "from mindsponge.callback import WriteH5MD, RunInfo\n",
    "from mindsponge.control import Langevin\n",
    "from mindsponge.function import VelocityGenerator\n",
    "from mindsponge.colvar import Torsion"
   ]
  },
  {
   "cell_type": "code",
   "execution_count": 2,
   "metadata": {},
   "outputs": [],
   "source": [
    "context.set_context(mode=context.PYNATIVE_MODE, device_target=\"GPU\")\n",
    "set_global_units('nm', 'kj/mol')"
   ]
  },
  {
   "cell_type": "code",
   "execution_count": 3,
   "metadata": {},
   "outputs": [],
   "source": [
    "system = Protein(pdb='alad.pdb')\n",
    "potential = ForceField(system, 'AMBER.FF14SB')"
   ]
  },
  {
   "cell_type": "code",
   "execution_count": 4,
   "metadata": {},
   "outputs": [],
   "source": [
    "phi = Torsion([4, 6, 8, 14])\n",
    "psi = Torsion([6, 8, 14, 16])"
   ]
  },
  {
   "cell_type": "code",
   "execution_count": 5,
   "metadata": {},
   "outputs": [
    {
     "name": "stdout",
     "output_type": "stream",
     "text": [
      "[MindSPONGE] Using fully connected neighbour list (not updated).\n"
     ]
    }
   ],
   "source": [
    "min_opt = SteepestDescent(system.trainable_params(), 1e-7)\n",
    "mini = Sponge(system, potential, min_opt, metrics={'phi': phi, 'psi': psi})"
   ]
  },
  {
   "cell_type": "code",
   "execution_count": 6,
   "metadata": {},
   "outputs": [
    {
     "name": "stdout",
     "output_type": "stream",
     "text": [
      "phi [[3.1415927]]\n",
      "psi [[3.1415927]]\n"
     ]
    }
   ],
   "source": [
    "cv = mini.analyse()\n",
    "for k, v in cv.items():\n",
    "    print(k, v)\n"
   ]
  },
  {
   "cell_type": "code",
   "execution_count": 7,
   "metadata": {},
   "outputs": [
    {
     "name": "stdout",
     "output_type": "stream",
     "text": [
      "[MindSPONGE] Started simulation at 2023-03-25 14:25:06\n",
      "[MindSPONGE] Step: 0, E_pot: -55.75643, phi: -3.140886, psi: -3.1410766\n",
      "[MindSPONGE] Step: 10, E_pot: -58.41481, phi: -3.1339903, psi: -3.1368215\n",
      "[MindSPONGE] Step: 20, E_pot: -60.197777, phi: -3.1276336, psi: -3.1337032\n",
      "[MindSPONGE] Step: 30, E_pot: -61.60443, phi: -3.1219037, psi: -3.1313035\n",
      "[MindSPONGE] Step: 40, E_pot: -62.77914, phi: -3.1167603, psi: -3.1294105\n",
      "[MindSPONGE] Step: 50, E_pot: -63.786407, phi: -3.1121268, psi: -3.1279025\n",
      "[MindSPONGE] Step: 60, E_pot: -64.6644, phi: -3.107924, psi: -3.126701\n",
      "[MindSPONGE] Step: 70, E_pot: -65.43922, phi: -3.1040812, psi: -3.125749\n",
      "[MindSPONGE] Step: 80, E_pot: -66.13011, phi: -3.100538, psi: -3.125002\n",
      "[MindSPONGE] Step: 90, E_pot: -66.7513, phi: -3.0972445, psi: -3.1244242\n",
      "[MindSPONGE] Finished simulation at 2023-03-25 14:25:10\n",
      "[MindSPONGE] Simulation time: 3.51 seconds.\n",
      "--------------------------------------------------------------------------------\n"
     ]
    },
    {
     "data": {
      "text/plain": [
       "<mindsponge.core.sponge.Sponge at 0x7f960ca73c40>"
      ]
     },
     "execution_count": 7,
     "metadata": {},
     "output_type": "execute_result"
    }
   ],
   "source": [
    "run_info = RunInfo(10)\n",
    "mini.run(100, callbacks=[run_info])"
   ]
  },
  {
   "cell_type": "code",
   "execution_count": 8,
   "metadata": {},
   "outputs": [
    {
     "name": "stdout",
     "output_type": "stream",
     "text": [
      "phi [[-3.0944598]]\n",
      "psi [[-3.124025]]\n"
     ]
    }
   ],
   "source": [
    "cv = mini.analyse()\n",
    "for k, v in cv.items():\n",
    "    print(k, v)"
   ]
  },
  {
   "cell_type": "code",
   "execution_count": 9,
   "metadata": {},
   "outputs": [],
   "source": [
    "vgen = VelocityGenerator(300)\n",
    "velocity = vgen(system.coordinate.shape, system.atom_mass)\n",
    "opt = UpdaterMD(\n",
    "    system,\n",
    "    integrator=VelocityVerlet(system),\n",
    "    thermostat=Langevin(system, 300),\n",
    "    time_step=1e-3,\n",
    "    velocity=velocity\n",
    ")"
   ]
  },
  {
   "cell_type": "code",
   "execution_count": 10,
   "metadata": {},
   "outputs": [
    {
     "name": "stdout",
     "output_type": "stream",
     "text": [
      "[MindSPONGE] Using fully connected neighbour list (not updated).\n"
     ]
    }
   ],
   "source": [
    "md = Sponge(system, potential, opt, metrics={'phi': phi, 'psi': psi})"
   ]
  },
  {
   "cell_type": "code",
   "execution_count": 11,
   "metadata": {},
   "outputs": [
    {
     "name": "stdout",
     "output_type": "stream",
     "text": [
      "[MindSPONGE] Started simulation at 2023-03-25 14:25:15\n",
      "[MindSPONGE] Step: 0, E_pot: -67.313965, E_kin: 75.75505, E_tot: 8.441086, Temperature: 289.24567, phi: -3.0934665, psi: -3.1182637\n",
      "[MindSPONGE] Step: 10, E_pot: -39.731663, E_kin: 52.939987, E_tot: 13.208324, Temperature: 202.13388, phi: -3.0182748, psi: -3.0506635\n",
      "[MindSPONGE] Step: 20, E_pot: -34.170845, E_kin: 47.605576, E_tot: 13.434731, Temperature: 181.76619, phi: -2.951082, psi: -3.0755272\n",
      "[MindSPONGE] Step: 30, E_pot: -38.478653, E_kin: 56.822617, E_tot: 18.343964, Temperature: 216.95842, phi: -2.9615834, psi: -3.1192112\n",
      "[MindSPONGE] Step: 40, E_pot: -23.734085, E_kin: 51.823418, E_tot: 28.089333, Temperature: 197.87062, phi: -2.9811082, psi: 3.0580652\n",
      "[MindSPONGE] Step: 50, E_pot: -35.640747, E_kin: 58.800564, E_tot: 23.159817, Temperature: 224.51056, phi: -2.897594, psi: 2.9556272\n",
      "[MindSPONGE] Step: 60, E_pot: -35.642273, E_kin: 61.218464, E_tot: 25.57619, Temperature: 233.74251, phi: -2.759038, psi: 2.9617794\n",
      "[MindSPONGE] Step: 70, E_pot: -28.3345, E_kin: 61.141796, E_tot: 32.807297, Temperature: 233.44978, phi: -2.657512, psi: 3.0135937\n",
      "[MindSPONGE] Step: 80, E_pot: -37.050278, E_kin: 70.49795, E_tot: 33.44767, Temperature: 269.17316, phi: -2.716854, psi: 3.053458\n",
      "[MindSPONGE] Step: 90, E_pot: -26.007751, E_kin: 68.552666, E_tot: 42.544914, Temperature: 261.74573, phi: -2.757957, psi: 3.0988145\n",
      "[MindSPONGE] Step: 100, E_pot: -29.954319, E_kin: 70.53865, E_tot: 40.58433, Temperature: 269.32855, phi: -2.6639369, psi: 3.1350625\n",
      "[MindSPONGE] Step: 110, E_pot: -43.87599, E_kin: 82.27151, E_tot: 38.395515, Temperature: 314.12662, phi: -2.524528, psi: 3.1298509\n",
      "[MindSPONGE] Step: 120, E_pot: -22.052887, E_kin: 61.905964, E_tot: 39.853077, Temperature: 236.36751, phi: -2.4415617, psi: 3.0815644\n",
      "[MindSPONGE] Step: 130, E_pot: -34.47661, E_kin: 79.21393, E_tot: 44.73732, Temperature: 302.45224, phi: -2.4076362, psi: 3.035852\n",
      "[MindSPONGE] Step: 140, E_pot: -32.10041, E_kin: 69.98183, E_tot: 37.881416, Temperature: 267.2025, phi: -2.4371064, psi: 3.0496466\n",
      "[MindSPONGE] Step: 150, E_pot: -16.221306, E_kin: 56.19169, E_tot: 39.970383, Temperature: 214.54944, phi: -2.4658961, psi: 3.0705895\n",
      "[MindSPONGE] Step: 160, E_pot: -23.292587, E_kin: 69.76163, E_tot: 46.46904, Temperature: 266.3618, phi: -2.412796, psi: 3.0518317\n",
      "[MindSPONGE] Step: 170, E_pot: -20.726887, E_kin: 72.414116, E_tot: 51.68723, Temperature: 276.4894, phi: -2.3156962, psi: 3.0722594\n",
      "[MindSPONGE] Step: 180, E_pot: -29.94896, E_kin: 75.46515, E_tot: 45.51619, Temperature: 288.1388, phi: -2.311107, psi: 3.0875692\n",
      "[MindSPONGE] Step: 190, E_pot: -37.240524, E_kin: 78.28139, E_tot: 41.040863, Temperature: 298.89166, phi: -2.3391676, psi: 3.0178013\n",
      "[MindSPONGE] Step: 200, E_pot: -29.9113, E_kin: 81.128136, E_tot: 51.216835, Temperature: 309.76102, phi: -2.4406905, psi: 2.923591\n",
      "[MindSPONGE] Step: 210, E_pot: -34.776825, E_kin: 76.24934, E_tot: 41.47251, Temperature: 291.13293, phi: -2.4821255, psi: 2.828708\n",
      "[MindSPONGE] Step: 220, E_pot: -32.188133, E_kin: 72.06787, E_tot: 39.879738, Temperature: 275.1674, phi: -2.474539, psi: 2.783288\n",
      "[MindSPONGE] Step: 230, E_pot: -18.120407, E_kin: 62.59632, E_tot: 44.475914, Temperature: 239.0034, phi: -2.4421, psi: 2.7268817\n",
      "[MindSPONGE] Step: 240, E_pot: -23.33979, E_kin: 74.94354, E_tot: 51.603752, Temperature: 286.14722, phi: -2.5509763, psi: 2.6351244\n",
      "[MindSPONGE] Step: 250, E_pot: -25.698814, E_kin: 66.08327, E_tot: 40.384453, Temperature: 252.31717, phi: -2.6814437, psi: 2.6120505\n",
      "[MindSPONGE] Step: 260, E_pot: -26.640953, E_kin: 63.92662, E_tot: 37.285667, Temperature: 244.08272, phi: -2.761235, psi: 2.6508646\n",
      "[MindSPONGE] Step: 270, E_pot: -35.88611, E_kin: 71.90507, E_tot: 36.01896, Temperature: 274.54578, phi: -2.778285, psi: 2.6116562\n",
      "[MindSPONGE] Step: 280, E_pot: -23.867783, E_kin: 66.78696, E_tot: 42.919174, Temperature: 255.00397, phi: -2.929372, psi: 2.5859036\n",
      "[MindSPONGE] Step: 290, E_pot: -24.299149, E_kin: 71.64812, E_tot: 47.34897, Temperature: 273.5647, phi: -3.010931, psi: 2.5513835\n",
      "[MindSPONGE] Step: 300, E_pot: -20.329315, E_kin: 61.650543, E_tot: 41.321228, Temperature: 235.39226, phi: -3.0332558, psi: 2.5697422\n",
      "[MindSPONGE] Step: 310, E_pot: -17.668282, E_kin: 57.02807, E_tot: 39.359787, Temperature: 217.74287, phi: -3.0017898, psi: 2.6043084\n",
      "[MindSPONGE] Step: 320, E_pot: -22.720085, E_kin: 62.479343, E_tot: 39.75926, Temperature: 238.55676, phi: -3.048252, psi: 2.553029\n",
      "[MindSPONGE] Step: 330, E_pot: -15.992432, E_kin: 57.76207, E_tot: 41.769638, Temperature: 220.54541, phi: -3.0436444, psi: 2.5300994\n",
      "[MindSPONGE] Step: 340, E_pot: -21.485718, E_kin: 74.79608, E_tot: 53.310364, Temperature: 285.58417, phi: -2.9448402, psi: 2.6742694\n",
      "[MindSPONGE] Step: 350, E_pot: -8.079636, E_kin: 68.94057, E_tot: 60.86093, Temperature: 263.2268, phi: -2.8544018, psi: 2.7362628\n",
      "[MindSPONGE] Step: 360, E_pot: -12.851875, E_kin: 77.91077, E_tot: 65.05889, Temperature: 297.47656, phi: -2.8883712, psi: 2.704843\n",
      "[MindSPONGE] Step: 370, E_pot: -15.483856, E_kin: 75.89748, E_tot: 60.41362, Temperature: 289.78946, phi: -2.9081993, psi: 2.7032194\n",
      "[MindSPONGE] Step: 380, E_pot: -9.799591, E_kin: 79.92403, E_tot: 70.124435, Temperature: 305.16354, phi: -2.909053, psi: 2.7453883\n",
      "[MindSPONGE] Step: 390, E_pot: 11.449692, E_kin: 66.42227, E_tot: 77.87196, Temperature: 253.61153, phi: -2.8330166, psi: 2.7992258\n",
      "[MindSPONGE] Step: 400, E_pot: -7.429085, E_kin: 82.185616, E_tot: 74.75653, Temperature: 313.79868, phi: -2.7957673, psi: 2.7983584\n",
      "[MindSPONGE] Step: 410, E_pot: -1.3808746, E_kin: 70.38897, E_tot: 69.008095, Temperature: 268.75705, phi: -2.7834005, psi: 2.761028\n",
      "[MindSPONGE] Step: 420, E_pot: -7.8422394, E_kin: 83.202126, E_tot: 75.359886, Temperature: 317.67987, phi: -2.7529247, psi: 2.8112073\n",
      "[MindSPONGE] Step: 430, E_pot: -16.670639, E_kin: 81.82359, E_tot: 65.152954, Temperature: 312.4164, phi: -2.6504695, psi: 2.9310956\n",
      "[MindSPONGE] Step: 440, E_pot: -16.552452, E_kin: 76.10124, E_tot: 59.54879, Temperature: 290.56747, phi: -2.599349, psi: 2.9568663\n",
      "[MindSPONGE] Step: 450, E_pot: -17.63234, E_kin: 78.69281, E_tot: 61.06047, Temperature: 300.46252, phi: -2.6206605, psi: 2.9338038\n",
      "[MindSPONGE] Step: 460, E_pot: -8.266388, E_kin: 72.092865, E_tot: 63.826477, Temperature: 275.26282, phi: -2.5873985, psi: 3.0066655\n",
      "[MindSPONGE] Step: 470, E_pot: -34.264046, E_kin: 83.967, E_tot: 49.702957, Temperature: 320.6003, phi: -2.535904, psi: 3.0665162\n",
      "[MindSPONGE] Step: 480, E_pot: -36.038292, E_kin: 77.29107, E_tot: 41.252777, Temperature: 295.11047, phi: -2.5482388, psi: 3.1333458\n",
      "[MindSPONGE] Step: 490, E_pot: -2.4756012, E_kin: 53.3386, E_tot: 50.863, Temperature: 203.65585, phi: -2.5263522, psi: -3.1159496\n",
      "[MindSPONGE] Step: 500, E_pot: -0.8191223, E_kin: 58.544773, E_tot: 57.72565, Temperature: 223.5339, phi: -2.4932594, psi: -3.1113327\n",
      "[MindSPONGE] Step: 510, E_pot: 4.407257, E_kin: 55.26912, E_tot: 59.676376, Temperature: 211.0269, phi: -2.5046039, psi: -3.0535958\n",
      "[MindSPONGE] Step: 520, E_pot: -17.700302, E_kin: 83.74841, E_tot: 66.04811, Temperature: 319.7657, phi: -2.5579307, psi: -3.08539\n",
      "[MindSPONGE] Step: 530, E_pot: -22.00898, E_kin: 92.66343, E_tot: 70.65445, Temperature: 353.80475, phi: -2.480319, psi: 3.1274002\n",
      "[MindSPONGE] Step: 540, E_pot: -19.855598, E_kin: 82.70628, E_tot: 62.850685, Temperature: 315.78665, phi: -2.3745413, psi: -3.0960603\n",
      "[MindSPONGE] Step: 550, E_pot: -5.581009, E_kin: 84.18399, E_tot: 78.60298, Temperature: 321.42877, phi: -2.37304, psi: -3.0606747\n",
      "[MindSPONGE] Step: 560, E_pot: -7.154129, E_kin: 95.34543, E_tot: 88.1913, Temperature: 364.04507, phi: -2.30055, psi: -3.1003134\n",
      "[MindSPONGE] Step: 570, E_pot: 6.1253586, E_kin: 97.47864, E_tot: 103.604, Temperature: 372.19003, phi: -2.3307946, psi: 3.0639405\n",
      "[MindSPONGE] Step: 580, E_pot: 5.018318, E_kin: 108.047615, E_tot: 113.06593, Temperature: 412.5442, phi: -2.4925199, psi: 3.0236304\n",
      "[MindSPONGE] Step: 590, E_pot: -0.3123474, E_kin: 95.11952, E_tot: 94.807175, Temperature: 363.18253, phi: -2.458251, psi: 2.9709525\n",
      "[MindSPONGE] Step: 600, E_pot: 21.577995, E_kin: 68.70576, E_tot: 90.28375, Temperature: 262.33026, phi: -2.3788223, psi: 2.9085946\n",
      "[MindSPONGE] Step: 610, E_pot: 13.065079, E_kin: 82.61598, E_tot: 95.68106, Temperature: 315.44186, phi: -2.4662232, psi: 2.9004102\n",
      "[MindSPONGE] Step: 620, E_pot: 12.831192, E_kin: 87.714165, E_tot: 100.54536, Temperature: 334.9076, phi: -2.5747945, psi: 2.8704214\n",
      "[MindSPONGE] Step: 630, E_pot: 5.8559914, E_kin: 85.37838, E_tot: 91.234375, Temperature: 325.98917, phi: -2.5376046, psi: 2.9050143\n",
      "[MindSPONGE] Step: 640, E_pot: -5.9503937, E_kin: 101.40235, E_tot: 95.45196, Temperature: 387.17142, phi: -2.5640116, psi: 2.9270935\n",
      "[MindSPONGE] Step: 650, E_pot: -7.3266068, E_kin: 102.87939, E_tot: 95.55278, Temperature: 392.81097, phi: -2.6248422, psi: 2.9743512\n",
      "[MindSPONGE] Step: 660, E_pot: 10.093796, E_kin: 82.346565, E_tot: 92.44036, Temperature: 314.4132, phi: -2.6363199, psi: 2.9736438\n",
      "[MindSPONGE] Step: 670, E_pot: -13.9543, E_kin: 93.26232, E_tot: 79.30802, Temperature: 356.0914, phi: -2.6363287, psi: 2.9097242\n",
      "[MindSPONGE] Step: 680, E_pot: 6.061569, E_kin: 86.28737, E_tot: 92.34894, Temperature: 329.45987, phi: -2.6331666, psi: 2.825393\n",
      "[MindSPONGE] Step: 690, E_pot: 5.629364, E_kin: 95.49027, E_tot: 101.11964, Temperature: 364.59808, phi: -2.6887522, psi: 2.8037398\n",
      "[MindSPONGE] Step: 700, E_pot: -6.000557, E_kin: 109.4586, E_tot: 103.458046, Temperature: 417.93155, phi: -2.7514246, psi: 2.8324902\n",
      "[MindSPONGE] Step: 710, E_pot: -21.820831, E_kin: 106.23536, E_tot: 84.41453, Temperature: 405.6247, phi: -2.6465507, psi: 2.9040859\n",
      "[MindSPONGE] Step: 720, E_pot: -7.1134033, E_kin: 77.536156, E_tot: 70.42275, Temperature: 296.04623, phi: -2.5169964, psi: 2.936443\n",
      "[MindSPONGE] Step: 730, E_pot: -20.629425, E_kin: 87.69494, E_tot: 67.06551, Temperature: 334.8342, phi: -2.6423683, psi: 2.8949633\n",
      "[MindSPONGE] Step: 740, E_pot: -8.844849, E_kin: 73.89243, E_tot: 65.047585, Temperature: 282.13388, phi: -2.743934, psi: 2.7263806\n",
      "[MindSPONGE] Step: 750, E_pot: -21.889885, E_kin: 91.37491, E_tot: 69.48502, Temperature: 348.88495, phi: -2.6856034, psi: 2.5593326\n",
      "[MindSPONGE] Step: 760, E_pot: -16.873062, E_kin: 93.25958, E_tot: 76.38652, Temperature: 356.08093, phi: -2.6078262, psi: 2.6009727\n",
      "[MindSPONGE] Step: 770, E_pot: -7.0342255, E_kin: 78.51437, E_tot: 71.48015, Temperature: 299.78125, phi: -2.5882258, psi: 2.648809\n",
      "[MindSPONGE] Step: 780, E_pot: -4.6728516, E_kin: 81.04321, E_tot: 76.37036, Temperature: 309.43677, phi: -2.6158972, psi: 2.59518\n",
      "[MindSPONGE] Step: 790, E_pot: -0.45597076, E_kin: 88.25635, E_tot: 87.80038, Temperature: 336.97775, phi: -2.6562946, psi: 2.5919287\n",
      "[MindSPONGE] Step: 800, E_pot: 11.873123, E_kin: 79.30554, E_tot: 91.178665, Temperature: 302.80206, phi: -2.7303152, psi: 2.706791\n",
      "[MindSPONGE] Step: 810, E_pot: -1.6449127, E_kin: 96.77021, E_tot: 95.1253, Temperature: 369.4851, phi: -2.6124456, psi: 2.7819855\n",
      "[MindSPONGE] Step: 820, E_pot: -7.8562775, E_kin: 92.63429, E_tot: 84.778015, Temperature: 353.69348, phi: -2.5021286, psi: 2.77658\n",
      "[MindSPONGE] Step: 830, E_pot: 4.419861, E_kin: 85.721016, E_tot: 90.14088, Temperature: 327.29742, phi: -2.5260508, psi: 2.668433\n",
      "[MindSPONGE] Step: 840, E_pot: -13.198471, E_kin: 112.0182, E_tot: 98.81973, Temperature: 427.70456, phi: -2.607519, psi: 2.5862067\n",
      "[MindSPONGE] Step: 850, E_pot: 4.716034, E_kin: 88.89685, E_tot: 93.612885, Temperature: 339.4233, phi: -2.6036294, psi: 2.6244648\n",
      "[MindSPONGE] Step: 860, E_pot: -0.14453125, E_kin: 87.29745, E_tot: 87.152916, Temperature: 333.3165, phi: -2.5695634, psi: 2.7397993\n",
      "[MindSPONGE] Step: 870, E_pot: -2.9840088, E_kin: 85.03216, E_tot: 82.04815, Temperature: 324.66724, phi: -2.4646964, psi: 2.8101063\n",
      "[MindSPONGE] Step: 880, E_pot: -1.6828766, E_kin: 80.08349, E_tot: 78.40061, Temperature: 305.77237, phi: -2.4039466, psi: 2.8329413\n",
      "[MindSPONGE] Step: 890, E_pot: -17.753342, E_kin: 97.11229, E_tot: 79.35895, Temperature: 370.79123, phi: -2.4159176, psi: 2.8643656\n",
      "[MindSPONGE] Step: 900, E_pot: 13.145737, E_kin: 78.59752, E_tot: 91.743256, Temperature: 300.0987, phi: -2.3465884, psi: 2.794623\n",
      "[MindSPONGE] Step: 910, E_pot: 9.391113, E_kin: 89.101105, E_tot: 98.49222, Temperature: 340.2032, phi: -2.2682796, psi: 2.8272212\n",
      "[MindSPONGE] Step: 920, E_pot: 7.4536743, E_kin: 84.96739, E_tot: 92.42107, Temperature: 324.41995, phi: -2.3891838, psi: 2.8771656\n",
      "[MindSPONGE] Step: 930, E_pot: 26.32904, E_kin: 71.17549, E_tot: 97.50453, Temperature: 271.76013, phi: -2.4144077, psi: 2.9468923\n",
      "[MindSPONGE] Step: 940, E_pot: 9.374466, E_kin: 89.42049, E_tot: 98.79495, Temperature: 341.42264, phi: -2.2268186, psi: 2.9845035\n",
      "[MindSPONGE] Step: 950, E_pot: 24.29216, E_kin: 81.26605, E_tot: 105.55821, Temperature: 310.28763, phi: -2.2031448, psi: 2.9590106\n",
      "[MindSPONGE] Step: 960, E_pot: 5.1987915, E_kin: 99.43252, E_tot: 104.63131, Temperature: 379.65027, phi: -2.384647, psi: 2.8486676\n",
      "[MindSPONGE] Step: 970, E_pot: 6.62294, E_kin: 89.199585, E_tot: 95.822525, Temperature: 340.57916, phi: -2.3711474, psi: 2.828473\n",
      "[MindSPONGE] Step: 980, E_pot: -15.547821, E_kin: 120.45711, E_tot: 104.90929, Temperature: 459.92572, phi: -2.252169, psi: 2.824843\n",
      "[MindSPONGE] Step: 990, E_pot: 24.255348, E_kin: 87.35689, E_tot: 111.612236, Temperature: 333.54346, phi: -2.1923308, psi: 2.7781544\n",
      "[MindSPONGE] Finished simulation at 2023-03-25 14:25:31\n",
      "[MindSPONGE] Simulation time: 15.53 seconds.\n",
      "--------------------------------------------------------------------------------\n"
     ]
    },
    {
     "data": {
      "text/plain": [
       "<mindsponge.core.sponge.Sponge at 0x7f960ca73520>"
      ]
     },
     "execution_count": 11,
     "metadata": {},
     "output_type": "execute_result"
    }
   ],
   "source": [
    "cb_h5md = WriteH5MD(system, 'tutorial_a01.h5md', save_freq=10)\n",
    "md.run(1000, callbacks=[run_info, cb_h5md])"
   ]
  },
  {
   "cell_type": "code",
   "execution_count": 12,
   "metadata": {},
   "outputs": [
    {
     "name": "stdout",
     "output_type": "stream",
     "text": [
      "phi [[-2.2645469]]\n",
      "psi [[2.712899]]\n"
     ]
    }
   ],
   "source": [
    "cv = md.analyse()\n",
    "for k, v in cv.items():\n",
    "    print(k, v)"
   ]
  }
 ],
 "metadata": {
  "kernelspec": {
   "display_name": "mindspore-1.10",
   "language": "python",
   "name": "python3"
  },
  "language_info": {
   "codemirror_mode": {
    "name": "ipython",
    "version": 3
   },
   "file_extension": ".py",
   "mimetype": "text/x-python",
   "name": "python",
   "nbconvert_exporter": "python",
   "pygments_lexer": "ipython3",
   "version": "3.8.13"
  },
  "orig_nbformat": 4
 },
 "nbformat": 4,
 "nbformat_minor": 2
}
