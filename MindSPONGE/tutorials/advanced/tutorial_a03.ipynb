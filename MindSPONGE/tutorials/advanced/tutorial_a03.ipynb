{
 "cells": [
  {
   "attachments": {},
   "cell_type": "markdown",
   "metadata": {},
   "source": [
    "Copyright 2021-2023 @ Shenzhen Bay Laboratory & Peking University & Huawei Technologies Co., Ltd\n",
    "\n",
    "This code is a part of MindSPONGE:\n",
    "MindSpore Simulation Package tOwards Next Generation molecular modelling.\n",
    "\n",
    "MindSPONGE is open-source software based on the AI-framework:\n",
    "MindSpore (https://www.mindspore.cn/)\n",
    "\n",
    "Licensed under the Apache License, Version 2.0 (the \"License\");\n",
    "you may not use this file except in compliance with the License.\n",
    "\n",
    "You may obtain a copy of the License at http://www.apache.org/licenses/LICENSE-2.0\n",
    "\n",
    "Unless required by applicable law or agreed to in writing, software\n",
    "distributed under the License is distributed on an \"AS IS\" BASIS,\n",
    "WITHOUT WARRANTIES OR CONDITIONS OF ANY KIND, either express or implied.\n",
    "\n",
    "See the License for the specific language governing permissions and\n",
    "limitations under the License.\n",
    "\n",
    "MindSPONGE advanced tutorial 03: Energy wrapper and integrated tempering sampling (ITS)."
   ]
  },
  {
   "cell_type": "code",
   "execution_count": 1,
   "metadata": {},
   "outputs": [
    {
     "name": "stderr",
     "output_type": "stream",
     "text": [
      "[WARNING] ME(189726:140331995714816,MainProcess):2023-03-24-17:52:25.361.797 [mindspore/run_check/_check_version.py:75] Can not found cuda libs, please confirm that the correct cuda version has been installed, you can refer to the installation guidelines: https://www.mindspore.cn/install\n"
     ]
    }
   ],
   "source": [
    "from mindspore import context\n",
    "from mindsponge import Sponge\n",
    "from mindsponge import ForceField\n",
    "from mindsponge import set_global_units\n",
    "from mindsponge import Protein\n",
    "from mindsponge import WithEnergyCell\n",
    "from mindsponge import UpdaterMD\n",
    "from mindsponge.optimizer import SteepestDescent\n",
    "from mindsponge.control import VelocityVerlet\n",
    "from mindsponge.callback import WriteH5MD, RunInfo\n",
    "from mindsponge.control import Langevin\n",
    "from mindsponge.sampling import ITS\n",
    "from mindsponge.function import VelocityGenerator\n",
    "from mindsponge.colvar import Torsion"
   ]
  },
  {
   "cell_type": "code",
   "execution_count": 2,
   "metadata": {},
   "outputs": [],
   "source": [
    "context.set_context(mode=context.PYNATIVE_MODE, device_target=\"GPU\")\n",
    "set_global_units('nm', 'kj/mol')"
   ]
  },
  {
   "cell_type": "code",
   "execution_count": 3,
   "metadata": {},
   "outputs": [],
   "source": [
    "system = Protein(pdb='alad.pdb')\n",
    "potential = ForceField(system, 'AMBER.FF14SB')"
   ]
  },
  {
   "cell_type": "code",
   "execution_count": 4,
   "metadata": {},
   "outputs": [],
   "source": [
    "phi = Torsion([4, 6, 8, 14])\n",
    "psi = Torsion([6, 8, 14, 16])"
   ]
  },
  {
   "cell_type": "code",
   "execution_count": 5,
   "metadata": {},
   "outputs": [
    {
     "name": "stdout",
     "output_type": "stream",
     "text": [
      "[MindSPONGE] Using fully connected neighbour list (not updated).\n"
     ]
    }
   ],
   "source": [
    "min_opt = SteepestDescent(system.trainable_params(), 1e-7)\n",
    "mini = Sponge(system, potential, min_opt, metrics={'phi': phi, 'psi': psi})"
   ]
  },
  {
   "cell_type": "code",
   "execution_count": 6,
   "metadata": {},
   "outputs": [
    {
     "name": "stdout",
     "output_type": "stream",
     "text": [
      "[MindSPONGE] Started simulation at 2023-03-24 17:52:34\n",
      "[MindSPONGE] Step: 0, E_pot: -55.75643, phi: -3.140886, psi: -3.1410766\n",
      "[MindSPONGE] Step: 10, E_pot: -58.41481, phi: -3.1339903, psi: -3.1368215\n",
      "[MindSPONGE] Step: 20, E_pot: -60.197777, phi: -3.1276336, psi: -3.1337032\n",
      "[MindSPONGE] Step: 30, E_pot: -61.60443, phi: -3.1219037, psi: -3.1313035\n",
      "[MindSPONGE] Step: 40, E_pot: -62.77914, phi: -3.1167603, psi: -3.1294105\n",
      "[MindSPONGE] Step: 50, E_pot: -63.786407, phi: -3.1121268, psi: -3.1279025\n",
      "[MindSPONGE] Step: 60, E_pot: -64.66443, phi: -3.107924, psi: -3.126701\n",
      "[MindSPONGE] Step: 70, E_pot: -65.43921, phi: -3.1040812, psi: -3.125749\n",
      "[MindSPONGE] Step: 80, E_pot: -66.13011, phi: -3.100538, psi: -3.125002\n",
      "[MindSPONGE] Step: 90, E_pot: -66.75129, phi: -3.0972445, psi: -3.1244242\n",
      "[MindSPONGE] Finished simulation at 2023-03-24 17:52:38\n",
      "[MindSPONGE] Simulation time: 4.40 seconds.\n",
      "--------------------------------------------------------------------------------\n"
     ]
    },
    {
     "data": {
      "text/plain": [
       "<mindsponge.core.sponge.Sponge at 0x7fa09179f670>"
      ]
     },
     "execution_count": 6,
     "metadata": {},
     "output_type": "execute_result"
    }
   ],
   "source": [
    "run_info = RunInfo(10)\n",
    "mini.run(100, callbacks=[run_info])"
   ]
  },
  {
   "cell_type": "code",
   "execution_count": 7,
   "metadata": {},
   "outputs": [],
   "source": [
    "its = ITS(\n",
    "    sim_temp=300,\n",
    "    temp_min=270,\n",
    "    temp_max=470,\n",
    "    temp_bin=100,\n",
    "    update_pace=100,\n",
    "    unlinear_temp=True,\n",
    ")"
   ]
  },
  {
   "cell_type": "code",
   "execution_count": 8,
   "metadata": {},
   "outputs": [
    {
     "name": "stdout",
     "output_type": "stream",
     "text": [
      "[MindSPONGE] Using fully connected neighbour list (not updated).\n"
     ]
    }
   ],
   "source": [
    "sim = WithEnergyCell(system, potential, wrapper=its)"
   ]
  },
  {
   "cell_type": "code",
   "execution_count": 9,
   "metadata": {},
   "outputs": [],
   "source": [
    "vgen = VelocityGenerator(300)\n",
    "velocity = vgen(system.coordinate.shape, system.atom_mass)\n",
    "opt = UpdaterMD(\n",
    "    system,\n",
    "    integrator=VelocityVerlet(system),\n",
    "    thermostat=Langevin(system, 300),\n",
    "    time_step=1e-3,\n",
    "    velocity=velocity\n",
    ")\n"
   ]
  },
  {
   "cell_type": "code",
   "execution_count": 10,
   "metadata": {},
   "outputs": [],
   "source": [
    "md = Sponge(sim, optimizer=opt, metrics={'phi': phi, 'psi': psi})"
   ]
  },
  {
   "cell_type": "code",
   "execution_count": 11,
   "metadata": {},
   "outputs": [
    {
     "name": "stdout",
     "output_type": "stream",
     "text": [
      "[MindSPONGE] Started simulation at 2023-03-24 17:52:45\n",
      "[MindSPONGE] Step: 0, E_pot: -79.554825, E_kin: 112.45297, E_tot: 32.898148, Temperature: 429.36456, phi: -3.109254, psi: -3.1288488\n",
      "[MindSPONGE] Step: 10, E_pot: -89.68758, E_kin: 35.787235, E_tot: -53.90034, Temperature: 136.64175, phi: 3.0601716, psi: -3.141152\n",
      "[MindSPONGE] Step: 20, E_pot: -128.85558, E_kin: 75.28584, E_tot: -53.569733, Temperature: 287.45416, phi: 3.1299484, psi: -3.0893805\n",
      "[MindSPONGE] Step: 30, E_pot: -109.16362, E_kin: 58.659058, E_tot: -50.504562, Temperature: 223.97026, phi: -3.009509, psi: -3.0363805\n",
      "[MindSPONGE] Step: 40, E_pot: -121.480675, E_kin: 69.40384, E_tot: -52.076836, Temperature: 264.99567, phi: -2.935812, psi: -3.0161312\n",
      "[MindSPONGE] Step: 50, E_pot: -90.83605, E_kin: 52.4665, E_tot: -38.369553, Temperature: 200.32602, phi: -2.9698148, psi: -3.1073575\n",
      "[MindSPONGE] Step: 60, E_pot: -123.61399, E_kin: 78.51181, E_tot: -45.10218, Temperature: 299.77142, phi: -3.0945632, psi: 3.0413573\n",
      "[MindSPONGE] Step: 70, E_pot: -90.97513, E_kin: 57.92643, E_tot: -33.0487, Temperature: 221.17296, phi: -3.080182, psi: 3.0707304\n",
      "[MindSPONGE] Step: 80, E_pot: -115.315475, E_kin: 74.1255, E_tot: -41.189972, Temperature: 283.0238, phi: -2.8724597, psi: -3.0373936\n",
      "[MindSPONGE] Step: 90, E_pot: -108.4251, E_kin: 84.73303, E_tot: -23.69207, Temperature: 323.52515, phi: -2.6124408, psi: -2.8834047\n",
      "[MindSPONGE] Step: 100, E_pot: -80.832405, E_kin: 65.87013, E_tot: -14.962273, Temperature: 251.50336, phi: -2.529687, psi: -2.879421\n",
      "[MindSPONGE] Step: 110, E_pot: -104.952324, E_kin: 93.122055, E_tot: -11.830269, Temperature: 355.55585, phi: -2.6034858, psi: -2.845993\n",
      "[MindSPONGE] Step: 120, E_pot: -76.770355, E_kin: 61.360123, E_tot: -15.410233, Temperature: 234.28339, phi: -2.6665037, psi: -2.813682\n",
      "[MindSPONGE] Step: 130, E_pot: -99.06123, E_kin: 90.08008, E_tot: -8.981155, Temperature: 343.94104, phi: -2.5930717, psi: -2.795879\n",
      "[MindSPONGE] Step: 140, E_pot: -88.30439, E_kin: 78.79561, E_tot: -9.508781, Temperature: 300.85504, phi: -2.4559956, psi: -2.733953\n",
      "[MindSPONGE] Step: 150, E_pot: -92.048676, E_kin: 81.95181, E_tot: -10.096863, Temperature: 312.90594, phi: -2.3076763, psi: -2.7187011\n",
      "[MindSPONGE] Step: 160, E_pot: -83.02005, E_kin: 78.63631, E_tot: -4.3837433, Temperature: 300.2468, phi: -2.2744155, psi: -2.7096395\n",
      "[MindSPONGE] Step: 170, E_pot: -74.040726, E_kin: 80.41497, E_tot: 6.3742447, Temperature: 307.03802, phi: -2.2866168, psi: -2.711644\n",
      "[MindSPONGE] Step: 180, E_pot: -67.431625, E_kin: 69.777176, E_tot: 2.3455505, Temperature: 266.42114, phi: -2.250486, psi: -2.6995547\n",
      "[MindSPONGE] Step: 190, E_pot: -87.90264, E_kin: 91.13811, E_tot: 3.235466, Temperature: 347.9808, phi: -2.1258342, psi: -2.6050386\n",
      "[MindSPONGE] Step: 200, E_pot: -67.036415, E_kin: 67.78377, E_tot: 0.7473526, Temperature: 258.80997, phi: -2.0692203, psi: -2.5596614\n",
      "[MindSPONGE] Step: 210, E_pot: -86.504265, E_kin: 90.696686, E_tot: 4.192421, Temperature: 346.29538, phi: -2.0523705, psi: -2.581747\n",
      "[MindSPONGE] Step: 220, E_pot: -77.593254, E_kin: 85.43282, E_tot: 7.839569, Temperature: 326.19705, phi: -2.0231166, psi: -2.615275\n",
      "[MindSPONGE] Step: 230, E_pot: -66.41476, E_kin: 73.19894, E_tot: 6.7841797, Temperature: 279.486, phi: -2.020472, psi: -2.5640368\n",
      "[MindSPONGE] Step: 240, E_pot: -55.804688, E_kin: 77.99265, E_tot: 22.187965, Temperature: 297.7892, phi: -1.9828616, psi: -2.5045998\n",
      "[MindSPONGE] Step: 250, E_pot: -92.238525, E_kin: 90.74727, E_tot: -1.4912567, Temperature: 346.4885, phi: -1.9867545, psi: -2.5016527\n",
      "[MindSPONGE] Step: 260, E_pot: -56.387714, E_kin: 65.73255, E_tot: 9.344837, Temperature: 250.97806, phi: -2.0479841, psi: -2.5046859\n",
      "[MindSPONGE] Step: 270, E_pot: -88.27668, E_kin: 104.67962, E_tot: 16.402939, Temperature: 399.6846, phi: -2.1046584, psi: -2.618219\n",
      "[MindSPONGE] Step: 280, E_pot: -68.843956, E_kin: 69.55408, E_tot: 0.71012115, Temperature: 265.5693, phi: -2.2224998, psi: -2.6727352\n",
      "[MindSPONGE] Step: 290, E_pot: -64.0102, E_kin: 78.93449, E_tot: 14.924286, Temperature: 301.3853, phi: -2.2657487, psi: -2.6518974\n",
      "[MindSPONGE] Step: 300, E_pot: -66.06726, E_kin: 83.46385, E_tot: 17.396591, Temperature: 318.67917, phi: -2.1754253, psi: -2.541019\n",
      "[MindSPONGE] Step: 310, E_pot: -82.35772, E_kin: 89.884224, E_tot: 7.5265045, Temperature: 343.19327, phi: -2.1472297, psi: -2.599689\n",
      "[MindSPONGE] Step: 320, E_pot: -65.09798, E_kin: 94.576584, E_tot: 29.478607, Temperature: 361.10947, phi: -2.1631064, psi: -2.8022187\n",
      "[MindSPONGE] Step: 330, E_pot: -74.535065, E_kin: 98.85327, E_tot: 24.318207, Temperature: 377.4386, phi: -2.2333584, psi: -2.9470127\n",
      "[MindSPONGE] Step: 340, E_pot: -58.53387, E_kin: 88.934586, E_tot: 30.400715, Temperature: 339.56738, phi: -2.2719908, psi: -2.9205105\n",
      "[MindSPONGE] Step: 350, E_pot: -90.850975, E_kin: 124.32489, E_tot: 33.473915, Temperature: 474.69357, phi: -2.2087424, psi: -2.870931\n",
      "[MindSPONGE] Step: 360, E_pot: -73.79964, E_kin: 116.4232, E_tot: 42.623566, Temperature: 444.5236, phi: -2.1173978, psi: -2.8880181\n",
      "[MindSPONGE] Step: 370, E_pot: -52.137035, E_kin: 85.54749, E_tot: 33.410458, Temperature: 326.6349, phi: -2.1025271, psi: -2.9507928\n",
      "[MindSPONGE] Step: 380, E_pot: -90.60259, E_kin: 117.73514, E_tot: 27.132545, Temperature: 449.53278, phi: -2.2579608, psi: -3.12004\n",
      "[MindSPONGE] Step: 390, E_pot: -63.957336, E_kin: 91.81946, E_tot: 27.862122, Temperature: 350.5823, phi: -2.526095, psi: 2.9925084\n",
      "[MindSPONGE] Step: 400, E_pot: -72.49778, E_kin: 99.72058, E_tot: 27.222801, Temperature: 380.75012, phi: -2.6244957, psi: 2.920681\n",
      "[MindSPONGE] Step: 410, E_pot: -76.616844, E_kin: 96.07091, E_tot: 19.454063, Temperature: 366.81506, phi: -2.5540452, psi: 2.9016125\n",
      "[MindSPONGE] Step: 420, E_pot: -77.92143, E_kin: 104.71113, E_tot: 26.789696, Temperature: 399.8049, phi: -2.4568539, psi: 2.8818853\n",
      "[MindSPONGE] Step: 430, E_pot: -64.91701, E_kin: 91.62443, E_tot: 26.70742, Temperature: 349.83765, phi: -2.5444987, psi: 2.825138\n",
      "[MindSPONGE] Step: 440, E_pot: -96.55469, E_kin: 116.62351, E_tot: 20.068825, Temperature: 445.2884, phi: -2.6569397, psi: 2.7056644\n",
      "[MindSPONGE] Step: 450, E_pot: -72.04751, E_kin: 88.0417, E_tot: 15.994194, Temperature: 336.15817, phi: -2.7349403, psi: 2.6513743\n",
      "[MindSPONGE] Step: 460, E_pot: -115.854034, E_kin: 119.593094, E_tot: 3.7390594, Temperature: 456.62677, phi: -2.7586086, psi: 2.7264013\n",
      "[MindSPONGE] Step: 470, E_pot: -55.29274, E_kin: 57.356213, E_tot: 2.0634727, Temperature: 218.99577, phi: -2.7413554, psi: 2.7344654\n",
      "[MindSPONGE] Step: 480, E_pot: -91.55657, E_kin: 97.39079, E_tot: 5.834221, Temperature: 371.8546, phi: -2.789754, psi: 2.636436\n",
      "[MindSPONGE] Step: 490, E_pot: -87.53452, E_kin: 89.133026, E_tot: 1.5985031, Temperature: 340.32504, phi: -2.8011537, psi: 2.480142\n",
      "[MindSPONGE] Step: 500, E_pot: -97.291565, E_kin: 110.70805, E_tot: 13.416489, Temperature: 422.70218, phi: -2.8778312, psi: 2.387948\n",
      "[MindSPONGE] Step: 510, E_pot: -75.901535, E_kin: 83.14145, E_tot: 7.239914, Temperature: 317.44818, phi: -2.855388, psi: 2.2976484\n",
      "[MindSPONGE] Step: 520, E_pot: -82.774475, E_kin: 93.90171, E_tot: 11.127235, Temperature: 358.53268, phi: -2.7576272, psi: 2.2790468\n",
      "[MindSPONGE] Step: 530, E_pot: -67.104996, E_kin: 87.87813, E_tot: 20.773132, Temperature: 335.53363, phi: -2.734983, psi: 2.3537347\n",
      "[MindSPONGE] Step: 540, E_pot: -82.341866, E_kin: 99.589584, E_tot: 17.247719, Temperature: 380.24997, phi: -2.7337646, psi: 2.3698683\n",
      "[MindSPONGE] Step: 550, E_pot: -83.14047, E_kin: 87.40067, E_tot: 4.2602005, Temperature: 333.71063, phi: -2.753706, psi: 2.381806\n",
      "[MindSPONGE] Step: 560, E_pot: -79.65416, E_kin: 81.054634, E_tot: 1.4004745, Temperature: 309.48038, phi: -2.643787, psi: 2.3661098\n",
      "[MindSPONGE] Step: 570, E_pot: -76.16379, E_kin: 78.125244, E_tot: 1.9614563, Temperature: 298.29547, phi: -2.4941657, psi: 2.3819518\n",
      "[MindSPONGE] Step: 580, E_pot: -81.988235, E_kin: 92.037476, E_tot: 10.04924, Temperature: 351.41473, phi: -2.3874533, psi: 2.404073\n",
      "[MindSPONGE] Step: 590, E_pot: -108.5876, E_kin: 120.1905, E_tot: 11.602898, Temperature: 458.90775, phi: -2.3277194, psi: 2.37218\n",
      "[MindSPONGE] Step: 600, E_pot: -80.46775, E_kin: 97.381165, E_tot: 16.913414, Temperature: 371.81784, phi: -2.3353872, psi: 2.2857127\n",
      "[MindSPONGE] Step: 610, E_pot: -83.079994, E_kin: 89.52045, E_tot: 6.4404526, Temperature: 341.8043, phi: -2.25894, psi: 2.2474008\n",
      "[MindSPONGE] Step: 620, E_pot: -77.54577, E_kin: 96.10083, E_tot: 18.555061, Temperature: 366.92932, phi: -2.1222095, psi: 2.2938583\n",
      "[MindSPONGE] Step: 630, E_pot: -62.79263, E_kin: 76.032326, E_tot: 13.2396965, Temperature: 290.30435, phi: -2.053981, psi: 2.4058716\n",
      "[MindSPONGE] Step: 640, E_pot: -95.61563, E_kin: 107.41972, E_tot: 11.804092, Temperature: 410.1468, phi: -1.9788679, psi: 2.4560888\n",
      "[MindSPONGE] Step: 650, E_pot: -66.19002, E_kin: 92.89355, E_tot: 26.70353, Temperature: 354.68338, phi: -2.0158749, psi: 2.488034\n",
      "[MindSPONGE] Step: 660, E_pot: -68.85643, E_kin: 99.59895, E_tot: 30.742523, Temperature: 380.28574, phi: -1.9949363, psi: 2.6142406\n",
      "[MindSPONGE] Step: 670, E_pot: -86.2314, E_kin: 116.03827, E_tot: 29.80687, Temperature: 443.05386, phi: -1.8083787, psi: 2.684676\n",
      "[MindSPONGE] Step: 680, E_pot: -66.53824, E_kin: 105.140976, E_tot: 38.602737, Temperature: 401.44614, phi: -1.6497853, psi: 2.6781716\n",
      "[MindSPONGE] Step: 690, E_pot: -58.444733, E_kin: 99.112915, E_tot: 40.668182, Temperature: 378.42996, phi: -1.4895214, psi: 2.6283715\n",
      "[MindSPONGE] Step: 700, E_pot: -83.545654, E_kin: 128.27307, E_tot: 44.727417, Temperature: 489.76843, phi: -1.5004193, psi: 2.6239133\n",
      "[MindSPONGE] Step: 710, E_pot: -99.13471, E_kin: 128.95508, E_tot: 29.820366, Temperature: 492.37244, phi: -1.5385165, psi: 2.689122\n",
      "[MindSPONGE] Step: 720, E_pot: -48.310383, E_kin: 91.91741, E_tot: 43.60703, Temperature: 350.95633, phi: -1.4006668, psi: 2.7335937\n",
      "[MindSPONGE] Step: 730, E_pot: -65.7333, E_kin: 118.59579, E_tot: 52.862488, Temperature: 452.81888, phi: -1.2566763, psi: 2.8671756\n",
      "[MindSPONGE] Step: 740, E_pot: -85.7136, E_kin: 129.47412, E_tot: 43.76052, Temperature: 494.35422, phi: -1.1286607, psi: 2.9270961\n",
      "[MindSPONGE] Step: 750, E_pot: -55.584354, E_kin: 101.30072, E_tot: 45.716366, Temperature: 386.7834, phi: -1.1989888, psi: 2.9966242\n",
      "[MindSPONGE] Step: 760, E_pot: -64.80912, E_kin: 105.0599, E_tot: 40.25078, Temperature: 401.13657, phi: -1.2891052, psi: 3.011341\n",
      "[MindSPONGE] Step: 770, E_pot: -79.47891, E_kin: 121.00101, E_tot: 41.522095, Temperature: 462.00244, phi: -1.2524012, psi: 2.9987025\n",
      "[MindSPONGE] Step: 780, E_pot: -46.46978, E_kin: 89.89784, E_tot: 43.428062, Temperature: 343.24524, phi: -1.2060518, psi: 3.0977168\n",
      "[MindSPONGE] Step: 790, E_pot: -61.00038, E_kin: 103.05492, E_tot: 42.054535, Temperature: 393.4812, phi: -1.1489351, psi: -3.091225\n",
      "[MindSPONGE] Step: 800, E_pot: -53.297718, E_kin: 91.33827, E_tot: 38.040554, Temperature: 348.74506, phi: -1.1160012, psi: -3.056792\n",
      "[MindSPONGE] Step: 810, E_pot: -50.9484, E_kin: 91.043205, E_tot: 40.094807, Temperature: 347.61844, phi: -1.0988652, psi: 3.1412768\n",
      "[MindSPONGE] Step: 820, E_pot: -64.57445, E_kin: 95.043625, E_tot: 30.469177, Temperature: 362.89273, phi: -1.0955937, psi: 3.0729196\n",
      "[MindSPONGE] Step: 830, E_pot: -72.93723, E_kin: 103.09005, E_tot: 30.152817, Temperature: 393.61536, phi: -1.0124199, psi: 3.0897043\n",
      "[MindSPONGE] Step: 840, E_pot: -46.423428, E_kin: 83.78285, E_tot: 37.359425, Temperature: 319.8972, phi: -0.9131217, psi: -3.1193917\n",
      "[MindSPONGE] Step: 850, E_pot: -46.49804, E_kin: 77.45607, E_tot: 30.95803, Temperature: 295.74045, phi: -0.88619375, psi: -3.077249\n",
      "[MindSPONGE] Step: 860, E_pot: -53.034695, E_kin: 91.66823, E_tot: 38.633533, Temperature: 350.00488, phi: -0.9592648, psi: -3.102844\n",
      "[MindSPONGE] Step: 870, E_pot: -73.31574, E_kin: 106.98097, E_tot: 33.66523, Temperature: 408.47156, phi: -1.2056711, psi: -3.120471\n",
      "[MindSPONGE] Step: 880, E_pot: -64.26688, E_kin: 106.06746, E_tot: 41.800583, Temperature: 404.98358, phi: -1.2195892, psi: 3.082752\n",
      "[MindSPONGE] Step: 890, E_pot: -70.96372, E_kin: 101.6088, E_tot: 30.64508, Temperature: 387.9597, phi: -1.1461552, psi: 3.0474422\n",
      "[MindSPONGE] Step: 900, E_pot: -61.882565, E_kin: 94.17049, E_tot: 32.28792, Temperature: 359.55893, phi: -1.1375902, psi: 3.0136116\n",
      "[MindSPONGE] Step: 910, E_pot: -70.45923, E_kin: 115.77487, E_tot: 45.315643, Temperature: 442.04816, phi: -1.1952524, psi: 2.8988948\n",
      "[MindSPONGE] Step: 920, E_pot: -91.36116, E_kin: 125.80152, E_tot: 34.44036, Temperature: 480.3316, phi: -1.3845106, psi: 2.7477684\n",
      "[MindSPONGE] Step: 930, E_pot: -63.615807, E_kin: 96.81973, E_tot: 33.203926, Temperature: 369.6742, phi: -1.5014642, psi: 2.6746638\n",
      "[MindSPONGE] Step: 940, E_pot: -67.589386, E_kin: 98.89213, E_tot: 31.302742, Temperature: 377.58698, phi: -1.5134243, psi: 2.667072\n",
      "[MindSPONGE] Step: 950, E_pot: -76.20552, E_kin: 92.1651, E_tot: 15.959579, Temperature: 351.90204, phi: -1.4945841, psi: 2.7122467\n",
      "[MindSPONGE] Step: 960, E_pot: -62.494026, E_kin: 79.75379, E_tot: 17.259766, Temperature: 304.51352, phi: -1.4643428, psi: 2.7650561\n",
      "[MindSPONGE] Step: 970, E_pot: -93.296074, E_kin: 95.541405, E_tot: 2.2453308, Temperature: 364.79333, phi: -1.6007073, psi: 2.6651988\n",
      "[MindSPONGE] Step: 980, E_pot: -102.63095, E_kin: 91.85039, E_tot: -10.780563, Temperature: 350.70038, phi: -1.6473167, psi: 2.4859228\n",
      "[MindSPONGE] Step: 990, E_pot: -79.738815, E_kin: 61.680397, E_tot: -18.058418, Temperature: 235.50624, phi: -1.5997243, psi: 2.3585577\n",
      "[MindSPONGE] Finished simulation at 2023-03-24 17:53:03\n",
      "[MindSPONGE] Simulation time: 18.11 seconds.\n",
      "--------------------------------------------------------------------------------\n"
     ]
    },
    {
     "data": {
      "text/plain": [
       "<mindsponge.core.sponge.Sponge at 0x7f9ef1b74580>"
      ]
     },
     "execution_count": 11,
     "metadata": {},
     "output_type": "execute_result"
    }
   ],
   "source": [
    "cb_h5md = WriteH5MD(system, 'tutorial_a03.h5md', save_freq=10)\n",
    "md.run(1000, callbacks=[run_info, cb_h5md])"
   ]
  }
 ],
 "metadata": {
  "kernelspec": {
   "display_name": "mindspore-1.10",
   "language": "python",
   "name": "python3"
  },
  "language_info": {
   "codemirror_mode": {
    "name": "ipython",
    "version": 3
   },
   "file_extension": ".py",
   "mimetype": "text/x-python",
   "name": "python",
   "nbconvert_exporter": "python",
   "pygments_lexer": "ipython3",
   "version": "3.8.13"
  },
  "orig_nbformat": 4
 },
 "nbformat": 4,
 "nbformat_minor": 2
}
