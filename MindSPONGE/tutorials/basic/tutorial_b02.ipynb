{
 "cells": [
  {
   "cell_type": "code",
   "execution_count": 1,
   "id": "b698676e-9a49-489d-a396-d717a4ef6b09",
   "metadata": {},
   "outputs": [
    {
     "name": "stderr",
     "output_type": "stream",
     "text": [
      "[WARNING] ME(311912:139923945248000,MainProcess):2023-03-25-16:44:24.582.318 [mindspore/run_check/_check_version.py:75] Can not found cuda libs, please confirm that the correct cuda version has been installed, you can refer to the installation guidelines: https://www.mindspore.cn/install\n"
     ]
    }
   ],
   "source": [
    "from mindspore import context\n",
    "from mindsponge import Sponge\n",
    "from mindsponge import Molecule\n",
    "from mindsponge import ForceField\n",
    "from mindsponge import UpdaterMD\n",
    "from mindsponge.control import VelocityVerlet, Langevin\n",
    "from mindsponge.callback import WriteH5MD, RunInfo"
   ]
  },
  {
   "cell_type": "code",
   "execution_count": 2,
   "id": "71c58271-41cd-4f15-a88a-4ac371a09a61",
   "metadata": {},
   "outputs": [],
   "source": [
    "context.set_context(mode=context.PYNATIVE_MODE, device_target=\"GPU\")"
   ]
  },
  {
   "attachments": {},
   "cell_type": "markdown",
   "id": "103887d0-1c8b-49fe-933c-27cec1001c3f",
   "metadata": {},
   "source": [
    "## 使用力场模板\n",
    "\n",
    "MindSPONGE中支持yaml格式的力场参数信息配置，其中大体分为`模板`和`参数`两个大类。`模板`中主要存储系统中的原子名称、原子类型、原子质量、原子序数、成键关系等基本信息，也是一般都不需要去改动的信息。`参数`中顾名思义就是存储一些力场参数，比如键长相互作用$E_b=k_b(l-l_0)^2$中的$(k_b,l_0)$就是一组力场参数。不同的原子组合形成的键、角度、二面角还有其他的一些远程相互作用等，都会对应于不同的参数，在不同的力场中千差万别。\n",
    "\n",
    "比如这是一个三点水的模板配置信息：\n",
    "\n",
    "```yaml\n",
    "template:\n",
    "  WAT:\n",
    "    atom_name: [O, H1, H2]\n",
    "    atom_type: [OW, HW, HW]\n",
    "    atom_mass: [16.00, 1.008, 1.008]\n",
    "    atomic_number: [8, 1, 1]\n",
    "    bond:\n",
    "    - [0, 1]\n",
    "    - [0, 2]\n",
    "    head_atom: null\n",
    "    tail_atom: null\n",
    "```\n",
    "\n",
    "以及一个三点水的力场参数信息：\n",
    "\n",
    "```yaml\n",
    "template:\n",
    "  base: water.tip3p.yaml\n",
    "parameters:\n",
    "  bond_energy:\n",
    "    length_unit: nm\n",
    "    energy_unit: kj/mol\n",
    "    parameter_names:\n",
    "      atoms: [bond_length, force_constant]\n",
    "    parameters:\n",
    "      OW-HW: [0.09572, 502416]\n",
    "  angle_energy:\n",
    "    length_unit: nm\n",
    "    energy_unit: kj/mol\n",
    "    parameter_names:\n",
    "      atoms: [bond_angle, force_constant]\n",
    "    parameters:\n",
    "      HW-OW-HW: [1.824218, 628.02]\n",
    "  coulomb_energy:\n",
    "    length_unit: nm\n",
    "    energy_unit: kj/mol\n",
    "  vdw_energy:\n",
    "    length_unit: nm\n",
    "    energy_unit: kj/mol\n",
    "    parameter_names:\n",
    "      atoms: [sigma, epsilon]\n",
    "    parameters:\n",
    "      OW: [0.315061, 0.636386]\n",
    "      HW: [0.0, 0.0]\n",
    "```\n",
    "\n",
    "用户可以根据不同的力场自定义一个这样的yaml文件，然后就可以在MindSPONGE平台上非常方便的进行分子动力学模拟。"
   ]
  },
  {
   "cell_type": "code",
   "execution_count": 3,
   "id": "f4b59501-20e9-4b79-a33d-0376ef25232d",
   "metadata": {},
   "outputs": [],
   "source": [
    "system = Molecule(template='water.tip3p.yaml')"
   ]
  },
  {
   "cell_type": "code",
   "execution_count": 4,
   "id": "12adc305-1db8-47a8-bb6f-df1ad83a2040",
   "metadata": {},
   "outputs": [],
   "source": [
    "potential = ForceField(system, parameters='TIP3P')"
   ]
  },
  {
   "cell_type": "code",
   "execution_count": 5,
   "id": "56f70d3b-92e3-41e4-8119-ef0395e8b279",
   "metadata": {},
   "outputs": [],
   "source": [
    "opt = UpdaterMD(system,\n",
    "                integrator=VelocityVerlet(system),\n",
    "                thermostat=Langevin(system, 300),\n",
    "                time_step=1e-3)"
   ]
  },
  {
   "cell_type": "code",
   "execution_count": 6,
   "id": "1fb210d5-8c8d-4f79-848f-d4cd3d5549a7",
   "metadata": {},
   "outputs": [
    {
     "name": "stdout",
     "output_type": "stream",
     "text": [
      "[MindSPONGE] Using fully connected neighbour list (not updated).\n"
     ]
    }
   ],
   "source": [
    "md = Sponge(system, potential, opt)"
   ]
  },
  {
   "cell_type": "code",
   "execution_count": 7,
   "id": "9e28a60d-fe84-4afb-8c94-37fda8b56bba",
   "metadata": {},
   "outputs": [],
   "source": [
    "run_info = RunInfo(10)\n",
    "cb_h5md = WriteH5MD(system, 'tutorial_b02.h5md', save_freq=10, write_velocity=True, write_force=True)"
   ]
  },
  {
   "cell_type": "code",
   "execution_count": 8,
   "id": "26add33b-e30b-4940-9aa7-8231d56e96f5",
   "metadata": {},
   "outputs": [
    {
     "name": "stdout",
     "output_type": "stream",
     "text": [
      "[MindSPONGE] Started simulation at 2023-03-25 16:44:36\n",
      "[MindSPONGE] Step: 0, E_pot: 9.203461, E_kin: 0.0, E_tot: 9.203461, Temperature: 0.0\n",
      "[MindSPONGE] Step: 10, E_pot: 1.1315365, E_kin: 5.2428923, E_tot: 6.3744287, Temperature: 210.19167\n",
      "[MindSPONGE] Step: 20, E_pot: 3.115917, E_kin: 5.5845838, E_tot: 8.7005005, Temperature: 223.89035\n",
      "[MindSPONGE] Step: 30, E_pot: 5.0809994, E_kin: 4.040018, E_tot: 9.121017, Temperature: 161.9675\n",
      "[MindSPONGE] Step: 40, E_pot: 0.2771599, E_kin: 7.0890293, E_tot: 7.366189, Temperature: 284.20474\n",
      "[MindSPONGE] Step: 50, E_pot: 2.061215, E_kin: 5.700026, E_tot: 7.761241, Temperature: 228.51852\n",
      "[MindSPONGE] Step: 60, E_pot: 2.2719703, E_kin: 3.269556, E_tot: 5.5415263, Temperature: 131.07907\n",
      "[MindSPONGE] Step: 70, E_pot: 3.2417796, E_kin: 3.2043552, E_tot: 6.4461346, Temperature: 128.46512\n",
      "[MindSPONGE] Step: 80, E_pot: 1.85303, E_kin: 2.5436788, E_tot: 4.3967085, Temperature: 101.97808\n",
      "[MindSPONGE] Step: 90, E_pot: 0.35244513, E_kin: 1.7013304, E_tot: 2.0537755, Temperature: 68.20767\n",
      "[MindSPONGE] Step: 100, E_pot: 0.6237339, E_kin: 1.6063812, E_tot: 2.230115, Temperature: 64.401085\n",
      "[MindSPONGE] Step: 110, E_pot: 1.3619488, E_kin: 2.042964, E_tot: 3.404913, Temperature: 81.90404\n",
      "[MindSPONGE] Step: 120, E_pot: 0.9093556, E_kin: 1.8599615, E_tot: 2.7693172, Temperature: 74.56732\n",
      "[MindSPONGE] Step: 130, E_pot: 1.302007, E_kin: 4.37712, E_tot: 5.6791267, Temperature: 175.4822\n",
      "[MindSPONGE] Step: 140, E_pot: 0.8245823, E_kin: 1.1575662, E_tot: 1.9821484, Temperature: 46.40774\n",
      "[MindSPONGE] Step: 150, E_pot: 0.29354805, E_kin: 1.4152251, E_tot: 1.7087731, Temperature: 56.737488\n",
      "[MindSPONGE] Step: 160, E_pot: 2.1687348, E_kin: 5.074325, E_tot: 7.24306, Temperature: 203.43367\n",
      "[MindSPONGE] Step: 170, E_pot: 0.37649828, E_kin: 4.201195, E_tot: 4.577693, Temperature: 168.4292\n",
      "[MindSPONGE] Step: 180, E_pot: 0.40266624, E_kin: 1.8589283, E_tot: 2.2615945, Temperature: 74.5259\n",
      "[MindSPONGE] Step: 190, E_pot: 1.4158895, E_kin: 2.0971751, E_tot: 3.5130646, Temperature: 84.0774\n",
      "[MindSPONGE] Step: 200, E_pot: 1.1729865, E_kin: 1.7061441, E_tot: 2.8791306, Temperature: 68.40066\n",
      "[MindSPONGE] Step: 210, E_pot: 2.1361575, E_kin: 3.524219, E_tot: 5.6603765, Temperature: 141.28871\n",
      "[MindSPONGE] Step: 220, E_pot: 3.243944, E_kin: 0.8084982, E_tot: 4.052442, Temperature: 32.413326\n",
      "[MindSPONGE] Step: 230, E_pot: 0.5053355, E_kin: 5.2512417, E_tot: 5.756577, Temperature: 210.52641\n",
      "[MindSPONGE] Step: 240, E_pot: 5.607173, E_kin: 4.9136305, E_tot: 10.520803, Temperature: 196.99132\n",
      "[MindSPONGE] Step: 250, E_pot: 5.900083, E_kin: 2.702818, E_tot: 8.602901, Temperature: 108.35809\n",
      "[MindSPONGE] Step: 260, E_pot: 1.6152599, E_kin: 10.631886, E_tot: 12.247146, Temperature: 426.24063\n",
      "[MindSPONGE] Step: 270, E_pot: 10.443216, E_kin: 2.9300706, E_tot: 13.373287, Temperature: 117.46884\n",
      "[MindSPONGE] Step: 280, E_pot: 2.8450813, E_kin: 9.14711, E_tot: 11.992191, Temperature: 366.71484\n",
      "[MindSPONGE] Step: 290, E_pot: 6.6024756, E_kin: 8.585288, E_tot: 15.187763, Temperature: 344.19095\n",
      "[MindSPONGE] Step: 300, E_pot: 7.1376867, E_kin: 1.6205281, E_tot: 8.758215, Temperature: 64.96825\n",
      "[MindSPONGE] Step: 310, E_pot: 1.3346825, E_kin: 9.519507, E_tot: 10.85419, Temperature: 381.64453\n",
      "[MindSPONGE] Step: 320, E_pot: 6.224601, E_kin: 8.436563, E_tot: 14.661163, Temperature: 338.22842\n",
      "[MindSPONGE] Step: 330, E_pot: 4.9786706, E_kin: 7.34386, E_tot: 12.322531, Temperature: 294.42114\n",
      "[MindSPONGE] Step: 340, E_pot: 1.6698735, E_kin: 19.684, E_tot: 21.353874, Temperature: 789.14703\n",
      "[MindSPONGE] Step: 350, E_pot: 6.374134, E_kin: 14.523589, E_tot: 20.897724, Temperature: 582.26215\n",
      "[MindSPONGE] Step: 360, E_pot: 0.95373213, E_kin: 13.252643, E_tot: 14.206375, Temperature: 531.3089\n",
      "[MindSPONGE] Step: 370, E_pot: 3.657885, E_kin: 7.5019217, E_tot: 11.159807, Temperature: 300.75793\n",
      "[MindSPONGE] Step: 380, E_pot: 1.6393894, E_kin: 8.316336, E_tot: 9.955725, Temperature: 333.40845\n",
      "[MindSPONGE] Step: 390, E_pot: 2.3279867, E_kin: 10.291038, E_tot: 12.619024, Temperature: 412.57578\n",
      "[MindSPONGE] Step: 400, E_pot: 4.20715, E_kin: 8.286198, E_tot: 12.493347, Temperature: 332.20016\n",
      "[MindSPONGE] Step: 410, E_pot: 4.1865005, E_kin: 4.269945, E_tot: 8.456446, Temperature: 171.18546\n",
      "[MindSPONGE] Step: 420, E_pot: 1.8759227, E_kin: 9.298042, E_tot: 11.173965, Temperature: 372.7658\n",
      "[MindSPONGE] Step: 430, E_pot: 0.9908254, E_kin: 6.5261507, E_tot: 7.5169764, Temperature: 261.63852\n",
      "[MindSPONGE] Step: 440, E_pot: 1.8078296, E_kin: 3.5274677, E_tot: 5.3352976, Temperature: 141.41896\n",
      "[MindSPONGE] Step: 450, E_pot: 3.548747, E_kin: 2.2501545, E_tot: 5.7989016, Temperature: 90.210464\n",
      "[MindSPONGE] Step: 460, E_pot: 0.12151326, E_kin: 1.5685196, E_tot: 1.6900328, Temperature: 62.883183\n",
      "[MindSPONGE] Step: 470, E_pot: 1.91273, E_kin: 2.027968, E_tot: 3.940698, Temperature: 81.30283\n",
      "[MindSPONGE] Step: 480, E_pot: 3.0235164, E_kin: 1.0336219, E_tot: 4.0571384, Temperature: 41.438713\n",
      "[MindSPONGE] Step: 490, E_pot: 0.34139112, E_kin: 2.6903014, E_tot: 3.0316925, Temperature: 107.8563\n",
      "[MindSPONGE] Step: 500, E_pot: 2.115101, E_kin: 3.1510487, E_tot: 5.2661495, Temperature: 126.328026\n",
      "[MindSPONGE] Step: 510, E_pot: 0.7735197, E_kin: 0.27752718, E_tot: 1.0510468, Temperature: 11.126283\n",
      "[MindSPONGE] Step: 520, E_pot: 0.48332897, E_kin: 4.921597, E_tot: 5.404926, Temperature: 197.3107\n",
      "[MindSPONGE] Step: 530, E_pot: 1.1596032, E_kin: 2.8837295, E_tot: 4.0433326, Temperature: 115.610985\n",
      "[MindSPONGE] Step: 540, E_pot: 0.85048217, E_kin: 2.9170427, E_tot: 3.767525, Temperature: 116.94653\n",
      "[MindSPONGE] Step: 550, E_pot: 0.8400072, E_kin: 2.2854939, E_tot: 3.1255012, Temperature: 91.62724\n",
      "[MindSPONGE] Step: 560, E_pot: 0.4088761, E_kin: 3.465886, E_tot: 3.8747623, Temperature: 138.9501\n",
      "[MindSPONGE] Step: 570, E_pot: 1.0194571, E_kin: 3.1869698, E_tot: 4.2064266, Temperature: 127.76812\n",
      "[MindSPONGE] Step: 580, E_pot: 2.4648488, E_kin: 0.8182286, E_tot: 3.2830772, Temperature: 32.80343\n",
      "[MindSPONGE] Step: 590, E_pot: 0.9120302, E_kin: 1.8209969, E_tot: 2.733027, Temperature: 73.005196\n",
      "[MindSPONGE] Step: 600, E_pot: 0.74113095, E_kin: 1.9335173, E_tot: 2.6746483, Temperature: 77.516235\n",
      "[MindSPONGE] Step: 610, E_pot: 1.2914697, E_kin: 0.8166045, E_tot: 2.1080742, Temperature: 32.738316\n",
      "[MindSPONGE] Step: 620, E_pot: 1.7453182, E_kin: 4.0585237, E_tot: 5.8038416, Temperature: 162.70941\n",
      "[MindSPONGE] Step: 630, E_pot: 2.3502576, E_kin: 9.018724, E_tot: 11.368982, Temperature: 361.56775\n",
      "[MindSPONGE] Step: 640, E_pot: 1.6035012, E_kin: 7.047345, E_tot: 8.6508465, Temperature: 282.53363\n",
      "[MindSPONGE] Step: 650, E_pot: 5.6812572, E_kin: 7.8154845, E_tot: 13.496742, Temperature: 313.32892\n",
      "[MindSPONGE] Step: 660, E_pot: 6.9012985, E_kin: 4.239932, E_tot: 11.141231, Temperature: 169.98221\n",
      "[MindSPONGE] Step: 670, E_pot: 4.11138, E_kin: 6.5634766, E_tot: 10.674856, Temperature: 263.13492\n",
      "[MindSPONGE] Step: 680, E_pot: 0.7239615, E_kin: 10.739456, E_tot: 11.463418, Temperature: 430.55325\n",
      "[MindSPONGE] Step: 690, E_pot: 1.1521163, E_kin: 6.8134365, E_tot: 7.965553, Temperature: 273.15604\n",
      "[MindSPONGE] Step: 700, E_pot: 4.828558, E_kin: 3.9733229, E_tot: 8.801881, Temperature: 159.29364\n",
      "[MindSPONGE] Step: 710, E_pot: 3.7902455, E_kin: 2.8723624, E_tot: 6.662608, Temperature: 115.155266\n",
      "[MindSPONGE] Step: 720, E_pot: 1.6727, E_kin: 4.344017, E_tot: 6.016717, Temperature: 174.15506\n",
      "[MindSPONGE] Step: 730, E_pot: 0.26905608, E_kin: 7.245019, E_tot: 7.5140753, Temperature: 290.45853\n",
      "[MindSPONGE] Step: 740, E_pot: 2.392808, E_kin: 5.735867, E_tot: 8.128675, Temperature: 229.95543\n",
      "[MindSPONGE] Step: 750, E_pot: 4.1788244, E_kin: 3.8040457, E_tot: 7.98287, Temperature: 152.50719\n",
      "[MindSPONGE] Step: 760, E_pot: 1.7496551, E_kin: 6.8048286, E_tot: 8.554483, Temperature: 272.81094\n",
      "[MindSPONGE] Step: 770, E_pot: 5.884109, E_kin: 4.618152, E_tot: 10.502261, Temperature: 185.14534\n",
      "[MindSPONGE] Step: 780, E_pot: 2.6579504, E_kin: 5.762884, E_tot: 8.420835, Temperature: 231.03856\n",
      "[MindSPONGE] Step: 790, E_pot: 3.734509, E_kin: 8.626703, E_tot: 12.361212, Temperature: 345.85132\n",
      "[MindSPONGE] Step: 800, E_pot: 5.999613, E_kin: 0.64504683, E_tot: 6.6446595, Temperature: 25.860434\n",
      "[MindSPONGE] Step: 810, E_pot: 0.3648289, E_kin: 8.386131, E_tot: 8.75096, Temperature: 336.20657\n",
      "[MindSPONGE] Step: 820, E_pot: 10.671373, E_kin: 7.8475876, E_tot: 18.51896, Temperature: 314.61597\n",
      "[MindSPONGE] Step: 830, E_pot: 5.1433396, E_kin: 5.718113, E_tot: 10.861452, Temperature: 229.24365\n",
      "[MindSPONGE] Step: 840, E_pot: 7.4452353, E_kin: 17.189735, E_tot: 24.634972, Temperature: 689.15\n",
      "[MindSPONGE] Step: 850, E_pot: 13.034952, E_kin: 5.3959827, E_tot: 18.430935, Temperature: 216.3292\n",
      "[MindSPONGE] Step: 860, E_pot: 0.32365784, E_kin: 20.067455, E_tot: 20.391113, Temperature: 804.5201\n",
      "[MindSPONGE] Step: 870, E_pot: 8.469125, E_kin: 12.527299, E_tot: 20.996424, Temperature: 502.22928\n",
      "[MindSPONGE] Step: 880, E_pot: 5.173615, E_kin: 8.880796, E_tot: 14.054411, Temperature: 356.03812\n",
      "[MindSPONGE] Step: 890, E_pot: 2.6533542, E_kin: 12.904645, E_tot: 15.557999, Temperature: 517.35736\n",
      "[MindSPONGE] Step: 900, E_pot: 7.0541635, E_kin: 4.198536, E_tot: 11.252699, Temperature: 168.3226\n",
      "[MindSPONGE] Step: 910, E_pot: 1.778229, E_kin: 11.391216, E_tot: 13.169445, Temperature: 456.68283\n",
      "[MindSPONGE] Step: 920, E_pot: 8.829182, E_kin: 11.065445, E_tot: 19.894627, Temperature: 443.62238\n",
      "[MindSPONGE] Step: 930, E_pot: 4.1857224, E_kin: 5.173728, E_tot: 9.35945, Temperature: 207.41882\n",
      "[MindSPONGE] Step: 940, E_pot: 2.8264089, E_kin: 11.798817, E_tot: 14.625225, Temperature: 473.02383\n",
      "[MindSPONGE] Step: 950, E_pot: 8.344209, E_kin: 3.9612722, E_tot: 12.305481, Temperature: 158.81052\n",
      "[MindSPONGE] Step: 960, E_pot: 0.13839659, E_kin: 9.145076, E_tot: 9.283472, Temperature: 366.6333\n",
      "[MindSPONGE] Step: 970, E_pot: 3.6977875, E_kin: 4.6533165, E_tot: 8.351104, Temperature: 186.55511\n",
      "[MindSPONGE] Step: 980, E_pot: 3.8688283, E_kin: 1.7088077, E_tot: 5.577636, Temperature: 68.50744\n",
      "[MindSPONGE] Step: 990, E_pot: 0.92666644, E_kin: 6.185611, E_tot: 7.112277, Temperature: 247.98601\n",
      "[MindSPONGE] Finished simulation at 2023-03-25 16:44:42\n",
      "[MindSPONGE] Simulation time: 5.77 seconds.\n",
      "--------------------------------------------------------------------------------\n"
     ]
    },
    {
     "data": {
      "text/plain": [
       "<mindsponge.core.sponge.Sponge at 0x7f42906c9be0>"
      ]
     },
     "execution_count": 8,
     "metadata": {},
     "output_type": "execute_result"
    }
   ],
   "source": [
    "md.run(1000, callbacks=[run_info, cb_h5md])"
   ]
  },
  {
   "cell_type": "markdown",
   "id": "89a5690f-75e9-4ca4-b133-5e50932f9101",
   "metadata": {},
   "source": [
    "![](../../docs/tutorial_b02.gif)"
   ]
  }
 ],
 "metadata": {
  "kernelspec": {
   "display_name": "mindspore-1.9",
   "language": "python",
   "name": "python3"
  },
  "language_info": {
   "codemirror_mode": {
    "name": "ipython",
    "version": 3
   },
   "file_extension": ".py",
   "mimetype": "text/x-python",
   "name": "python",
   "nbconvert_exporter": "python",
   "pygments_lexer": "ipython3",
   "version": "3.8.13"
  },
  "vscode": {
   "interpreter": {
    "hash": "768f82fbbece3f0acd424cda825de8aa44edbfaa38d8a3df4ff1437f7ae7861f"
   }
  }
 },
 "nbformat": 4,
 "nbformat_minor": 5
}
