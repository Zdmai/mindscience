{
 "cells": [
  {
   "cell_type": "code",
   "execution_count": 1,
   "id": "6543a19e-f04b-4d32-8c26-476931cbbbda",
   "metadata": {},
   "outputs": [
    {
     "name": "stderr",
     "output_type": "stream",
     "text": [
      "[WARNING] ME(311691:139766241875200,MainProcess):2023-03-25-16:43:39.513.623 [mindspore/run_check/_check_version.py:75] Can not found cuda libs, please confirm that the correct cuda version has been installed, you can refer to the installation guidelines: https://www.mindspore.cn/install\n"
     ]
    }
   ],
   "source": [
    "import numpy as np\n",
    "from mindspore import context\n",
    "from mindsponge import Sponge\n",
    "from mindsponge import Molecule\n",
    "from mindsponge import ForceFieldBase\n",
    "from mindsponge import UpdaterMD\n",
    "\n",
    "from mindsponge.potential import BondEnergy, AngleEnergy\n",
    "from mindsponge.callback import WriteH5MD, RunInfo\n",
    "from mindsponge.function import VelocityGenerator\n",
    "from mindsponge.control import LeapFrog, BerendsenThermostat"
   ]
  },
  {
   "cell_type": "markdown",
   "id": "a35b79c3-9560-430a-a6f1-c72b820e7b9d",
   "metadata": {},
   "source": [
    "## 图模式选择与GPU选择\n",
    "\n",
    "一般情况下，使用MindSpore的静态图模式GRAPH_MODE会取得更好的速度增益，而动态图模式PYNATIVE_MODE更多的被用于进行Debug。在硬件平台上，如果没有华为的Ascend专用硬件，一般都是在GPU上运行，才有一定的速度保障。如果有多张卡，可以通过device_id进行选择。"
   ]
  },
  {
   "cell_type": "code",
   "execution_count": 2,
   "id": "6f876c41-e1d6-4a32-8f96-0e6cd26e559e",
   "metadata": {},
   "outputs": [],
   "source": [
    "context.set_context(mode=context.PYNATIVE_MODE, device_target=\"GPU\")"
   ]
  },
  {
   "attachments": {},
   "cell_type": "markdown",
   "id": "ecededb8-a743-413e-b5d0-11eec3436e88",
   "metadata": {},
   "source": [
    "## 创建分子对象\n",
    "\n",
    "一个分子，可以是三个原子组成的水分子，也可以是上万个原子组成的蛋白质。在MindSPONGE中，为不同类型的分子提供了多种定义形式。当定义一个小体系$H_2O$时，我们可以直接用常规的列表来定义分子中所包含的原子种类、原子坐标以及键连信息等。在后续的案例中我们也会讲到，还可以通过配置文件等方式来进行定义，这两种方式都是支持的。"
   ]
  },
  {
   "cell_type": "code",
   "execution_count": 3,
   "id": "ebdee15c-926a-4c59-9ff9-50625798762f",
   "metadata": {},
   "outputs": [],
   "source": [
    "system = Molecule(atoms=['O', 'H', 'H'],\n",
    "                  coordinate=[[0, 0, 0], [0.1, 0, 0], [-0.0333, 0.0943, 0]],\n",
    "                  bond=[[[0, 1], [0, 2]]])"
   ]
  },
  {
   "cell_type": "markdown",
   "id": "ebd0e9a7-5b52-4e98-b6e1-c39ec069a8ae",
   "metadata": {},
   "source": [
    "## 能量项定义\n",
    "\n",
    "不同的分子体系会有不同的能量项的需求。比如当前定义的$H_2O$分子，因为只有3个原子，因此涉及到的能量项只有近程相互作用中的键相互作用和角相互作用：\n",
    "\n",
    "$$\n",
    "E_{bond}=\\frac{1}{2}k_b(l-l_0)^2\\\\\n",
    "E_{angle}=\\frac{1}{2}k_a(a-a_0)^2\n",
    "$$"
   ]
  },
  {
   "cell_type": "code",
   "execution_count": 4,
   "id": "87adb0e2-79e1-4f8a-be8d-f9692fd1e1d0",
   "metadata": {},
   "outputs": [],
   "source": [
    "bond_energy = BondEnergy(index=system.bond,\n",
    "                         force_constant=[[345000, 345000]],\n",
    "                         bond_length=[[0.1, 0.1]])"
   ]
  },
  {
   "cell_type": "code",
   "execution_count": 5,
   "id": "63c9db0d-91ce-4e34-8470-aadd27218194",
   "metadata": {},
   "outputs": [],
   "source": [
    "angle_energy = AngleEnergy(index=[[1, 0, 2]],\n",
    "                           force_constant=[[383]],\n",
    "                           bond_angle=[[109.47 / 180 * np.pi]])"
   ]
  },
  {
   "cell_type": "code",
   "execution_count": 6,
   "id": "6d232d05-edf6-4593-ac40-aecf0e562e1c",
   "metadata": {},
   "outputs": [],
   "source": [
    "potential = ForceFieldBase(energy=[bond_energy, angle_energy])"
   ]
  },
  {
   "cell_type": "markdown",
   "id": "c3afb783-e6a4-4bdf-9e2a-21f02412c3f6",
   "metadata": {},
   "source": [
    "## 速度生成器\n",
    "\n",
    "根据指定的温度，我们可以计算出系统平均运动动能，进而通过标准正态分布生成随机的一组原子运动速度，用于初始化系统。"
   ]
  },
  {
   "cell_type": "code",
   "execution_count": 7,
   "id": "20adeb34-0636-498b-a6ba-fcb23902136d",
   "metadata": {},
   "outputs": [],
   "source": [
    "vgen = VelocityGenerator(300)\n",
    "velocity = vgen(system.coordinate.shape, system.atom_mass)"
   ]
  },
  {
   "attachments": {},
   "cell_type": "markdown",
   "id": "272fec0d-9eb4-4882-a886-00aad2cb3941",
   "metadata": {},
   "source": [
    "## 分子动力学更新器\n",
    "\n",
    "如果不对系统施加任何的限制，任由系统去演化的话，就只需要配置integrator积分器，常见的算法有LeapFrog与VelocityVerlet，在MindSPONGE的control中都是支持的。通过前面配置的各项势能项，利用MindSpore框架的自动微分，就可以计算出当前受力以及下一步的位移，进而实现分子系统的演化。\n",
    "\n",
    "如果需要对系统施加以一定的控制，比如控制系统的温度，或者是控制系统的压强，在MindSPONGE的control中可以调用BerendsenThermostat、Barostat等算法，来跑一个NVT的系统，避免系统演化中可能出现的温度震荡现象。"
   ]
  },
  {
   "cell_type": "code",
   "execution_count": 8,
   "id": "c411534c-1ac0-42a3-93b8-cf140d89cf49",
   "metadata": {},
   "outputs": [],
   "source": [
    "opt = UpdaterMD(system,\n",
    "                integrator=LeapFrog(system),\n",
    "                thermostat=BerendsenThermostat(system, 300),\n",
    "                time_step=1e-3,\n",
    "                velocity=velocity)"
   ]
  },
  {
   "cell_type": "code",
   "execution_count": 9,
   "id": "d7433369-20e8-4caa-bcce-195a803ba4e8",
   "metadata": {},
   "outputs": [
    {
     "name": "stdout",
     "output_type": "stream",
     "text": [
      "[MindSPONGE] Using fully connected neighbour list (not updated).\n"
     ]
    }
   ],
   "source": [
    "md = Sponge(system, potential, opt)"
   ]
  },
  {
   "cell_type": "markdown",
   "id": "d1e2217a-5e76-4ef1-82e6-cda9cbe9b8d7",
   "metadata": {},
   "source": [
    "## 信息回调\n",
    "\n",
    "基于MindSpore的信息回调系统CallBack，我们可以创建一些符合自己需求的信息回调机制，比如使用RunInfo在屏幕上对系统能量进行输出，或者是通过WriteH5MD将轨迹输出到hdf5/h5md文件中。\n",
    "\n",
    "关于h5md格式的轨迹输出，可以使用改进版的VMD-h5mdplugin进行可视化，相关安装和说明链接为：https://gitee.com/helloyesterday/VMD-h5mdplugin"
   ]
  },
  {
   "cell_type": "code",
   "execution_count": 10,
   "id": "c84061d8-c1dc-425f-9145-494eacf7f126",
   "metadata": {},
   "outputs": [],
   "source": [
    "run_info = RunInfo(10)\n",
    "cb_h5md = WriteH5MD(system, 'tutorial_b01.h5md', save_freq=10, write_velocity=True, write_force=True)"
   ]
  },
  {
   "cell_type": "code",
   "execution_count": 11,
   "id": "924cfb6b-d196-4ecb-bf75-cecd3810a496",
   "metadata": {},
   "outputs": [
    {
     "name": "stdout",
     "output_type": "stream",
     "text": [
      "[MindSPONGE] Started simulation at 2023-03-25 16:44:02\n",
      "[MindSPONGE] Step: 0, E_pot: 3.2556585e-05, E_kin: 6.66741, E_tot: 6.6674423, Temperature: 267.30173\n",
      "[MindSPONGE] Step: 10, E_pot: 0.2623255, E_kin: 6.230069, E_tot: 6.4923944, Temperature: 249.76837\n",
      "[MindSPONGE] Step: 20, E_pot: 0.42653275, E_kin: 6.102941, E_tot: 6.529474, Temperature: 244.6717\n",
      "[MindSPONGE] Step: 30, E_pot: 1.231245, E_kin: 5.2712297, E_tot: 6.502475, Temperature: 211.32774\n",
      "[MindSPONGE] Step: 40, E_pot: 1.3103048, E_kin: 5.3203263, E_tot: 6.630631, Temperature: 213.29607\n",
      "[MindSPONGE] Step: 50, E_pot: 2.2382655, E_kin: 4.522948, E_tot: 6.7612133, Temperature: 181.32854\n",
      "[MindSPONGE] Step: 60, E_pot: 1.9889731, E_kin: 4.938925, E_tot: 6.927898, Temperature: 198.00539\n",
      "[MindSPONGE] Step: 70, E_pot: 2.6617455, E_kin: 4.49003, E_tot: 7.1517754, Temperature: 180.00882\n",
      "[MindSPONGE] Step: 80, E_pot: 2.1318464, E_kin: 5.154306, E_tot: 7.2861524, Temperature: 206.64018\n",
      "[MindSPONGE] Step: 90, E_pot: 2.4322348, E_kin: 5.095665, E_tot: 7.5278997, Temperature: 204.28922\n",
      "[MindSPONGE] Step: 100, E_pot: 1.926029, E_kin: 5.6759725, E_tot: 7.602001, Temperature: 227.5542\n",
      "[MindSPONGE] Step: 110, E_pot: 1.9348841, E_kin: 5.8695626, E_tot: 7.8044467, Temperature: 235.31538\n",
      "[MindSPONGE] Step: 120, E_pot: 1.76174, E_kin: 6.0473976, E_tot: 7.8091373, Temperature: 242.44493\n",
      "[MindSPONGE] Step: 130, E_pot: 1.6292735, E_kin: 6.2893558, E_tot: 7.918629, Temperature: 252.14523\n",
      "[MindSPONGE] Step: 140, E_pot: 1.9685967, E_kin: 5.907239, E_tot: 7.8758354, Temperature: 236.82585\n",
      "[MindSPONGE] Step: 150, E_pot: 1.8731165, E_kin: 6.035723, E_tot: 7.9088397, Temperature: 241.9769\n",
      "[MindSPONGE] Step: 160, E_pot: 2.6143444, E_kin: 5.3362064, E_tot: 7.950551, Temperature: 213.93271\n",
      "[MindSPONGE] Step: 170, E_pot: 2.6194458, E_kin: 5.398627, E_tot: 8.018072, Temperature: 216.4352\n",
      "[MindSPONGE] Step: 180, E_pot: 3.1848016, E_kin: 5.067301, E_tot: 8.252102, Temperature: 203.15207\n",
      "[MindSPONGE] Step: 190, E_pot: 3.2035975, E_kin: 5.1993084, E_tot: 8.402906, Temperature: 208.44437\n",
      "[MindSPONGE] Step: 200, E_pot: 2.9559376, E_kin: 5.739461, E_tot: 8.695398, Temperature: 230.0995\n",
      "[MindSPONGE] Step: 210, E_pot: 2.9895844, E_kin: 5.8654637, E_tot: 8.855048, Temperature: 235.15105\n",
      "[MindSPONGE] Step: 220, E_pot: 1.9945819, E_kin: 6.9590273, E_tot: 8.953609, Temperature: 278.99286\n",
      "[MindSPONGE] Step: 230, E_pot: 2.1386023, E_kin: 6.937654, E_tot: 9.076256, Temperature: 278.136\n",
      "[MindSPONGE] Step: 240, E_pot: 1.1929753, E_kin: 7.7195663, E_tot: 8.912541, Temperature: 309.4835\n",
      "[MindSPONGE] Step: 250, E_pot: 1.4284681, E_kin: 7.6075764, E_tot: 9.036044, Temperature: 304.9937\n",
      "[MindSPONGE] Step: 260, E_pot: 1.1697042, E_kin: 7.614041, E_tot: 8.783745, Temperature: 305.2529\n",
      "[MindSPONGE] Step: 270, E_pot: 1.4515812, E_kin: 7.494479, E_tot: 8.94606, Temperature: 300.45956\n",
      "[MindSPONGE] Step: 280, E_pot: 1.6692163, E_kin: 7.141367, E_tot: 8.810583, Temperature: 286.30304\n",
      "[MindSPONGE] Step: 290, E_pot: 1.9402802, E_kin: 7.0572205, E_tot: 8.9975, Temperature: 282.9295\n",
      "[MindSPONGE] Step: 300, E_pot: 1.9461113, E_kin: 7.047146, E_tot: 8.9932575, Temperature: 282.5256\n",
      "[MindSPONGE] Step: 310, E_pot: 2.0546596, E_kin: 7.058752, E_tot: 9.113412, Temperature: 282.99094\n",
      "[MindSPONGE] Step: 320, E_pot: 1.5473055, E_kin: 7.535639, E_tot: 9.082944, Temperature: 302.10968\n",
      "[MindSPONGE] Step: 330, E_pot: 1.4953818, E_kin: 7.5604634, E_tot: 9.055845, Temperature: 303.10492\n",
      "[MindSPONGE] Step: 340, E_pot: 0.85522634, E_kin: 8.06739, E_tot: 8.922617, Temperature: 323.428\n",
      "[MindSPONGE] Step: 350, E_pot: 0.85151625, E_kin: 7.9637465, E_tot: 8.815263, Temperature: 319.27286\n",
      "[MindSPONGE] Step: 360, E_pot: 0.6050521, E_kin: 8.075805, E_tot: 8.680857, Temperature: 323.76535\n",
      "[MindSPONGE] Step: 370, E_pot: 0.7283342, E_kin: 7.8951545, E_tot: 8.623488, Temperature: 316.52295\n",
      "[MindSPONGE] Step: 380, E_pot: 1.0245976, E_kin: 7.547306, E_tot: 8.571903, Temperature: 302.57745\n",
      "[MindSPONGE] Step: 390, E_pot: 1.129555, E_kin: 7.4684114, E_tot: 8.597966, Temperature: 299.4145\n",
      "[MindSPONGE] Step: 400, E_pot: 1.8112575, E_kin: 6.7960596, E_tot: 8.607317, Temperature: 272.45938\n",
      "[MindSPONGE] Step: 410, E_pot: 1.716778, E_kin: 6.971515, E_tot: 8.688293, Temperature: 279.49353\n",
      "[MindSPONGE] Step: 420, E_pot: 2.5021625, E_kin: 6.2366533, E_tot: 8.738815, Temperature: 250.03232\n",
      "[MindSPONGE] Step: 430, E_pot: 2.0812197, E_kin: 6.7722673, E_tot: 8.853487, Temperature: 271.50552\n",
      "[MindSPONGE] Step: 440, E_pot: 2.6307046, E_kin: 6.2967806, E_tot: 8.927485, Temperature: 252.44287\n",
      "[MindSPONGE] Step: 450, E_pot: 1.8968703, E_kin: 7.132597, E_tot: 9.029468, Temperature: 285.95142\n",
      "[MindSPONGE] Step: 460, E_pot: 2.0356474, E_kin: 7.0189867, E_tot: 9.054634, Temperature: 281.3967\n",
      "[MindSPONGE] Step: 470, E_pot: 1.2374011, E_kin: 7.843507, E_tot: 9.080908, Temperature: 314.45233\n",
      "[MindSPONGE] Step: 480, E_pot: 1.1387454, E_kin: 7.8488317, E_tot: 8.987577, Temperature: 314.66583\n",
      "[MindSPONGE] Step: 490, E_pot: 0.606449, E_kin: 8.309433, E_tot: 8.915882, Temperature: 333.13168\n",
      "[MindSPONGE] Step: 500, E_pot: 0.7076554, E_kin: 8.012749, E_tot: 8.720404, Temperature: 321.2374\n",
      "[MindSPONGE] Step: 510, E_pot: 0.57101834, E_kin: 8.032359, E_tot: 8.603377, Temperature: 322.0236\n",
      "[MindSPONGE] Step: 520, E_pot: 1.3002985, E_kin: 7.1513634, E_tot: 8.451662, Temperature: 286.7038\n",
      "[MindSPONGE] Step: 530, E_pot: 1.3497673, E_kin: 7.0633755, E_tot: 8.413143, Temperature: 283.1763\n",
      "[MindSPONGE] Step: 540, E_pot: 2.6272612, E_kin: 5.8796206, E_tot: 8.506882, Temperature: 235.71861\n",
      "[MindSPONGE] Step: 550, E_pot: 2.5204172, E_kin: 6.098382, E_tot: 8.618799, Temperature: 244.48892\n",
      "[MindSPONGE] Step: 560, E_pot: 3.5080295, E_kin: 5.4588537, E_tot: 8.966883, Temperature: 218.84973\n",
      "[MindSPONGE] Step: 570, E_pot: 3.1867576, E_kin: 5.9484315, E_tot: 9.135189, Temperature: 238.4773\n",
      "[MindSPONGE] Step: 580, E_pot: 3.13759, E_kin: 6.3237333, E_tot: 9.461323, Temperature: 253.52344\n",
      "[MindSPONGE] Step: 590, E_pot: 2.843007, E_kin: 6.701213, E_tot: 9.54422, Temperature: 268.6569\n",
      "[MindSPONGE] Step: 600, E_pot: 2.0709782, E_kin: 7.530341, E_tot: 9.601319, Temperature: 301.8973\n",
      "[MindSPONGE] Step: 610, E_pot: 2.0171213, E_kin: 7.578828, E_tot: 9.595949, Temperature: 303.84116\n",
      "[MindSPONGE] Step: 620, E_pot: 1.435545, E_kin: 7.992395, E_tot: 9.42794, Temperature: 320.4214\n",
      "[MindSPONGE] Step: 630, E_pot: 1.5871258, E_kin: 7.8507338, E_tot: 9.43786, Temperature: 314.74207\n",
      "[MindSPONGE] Step: 640, E_pot: 1.7153189, E_kin: 7.526225, E_tot: 9.241544, Temperature: 301.73227\n",
      "[MindSPONGE] Step: 650, E_pot: 1.8098874, E_kin: 7.5204377, E_tot: 9.330325, Temperature: 301.50027\n",
      "[MindSPONGE] Step: 660, E_pot: 2.519105, E_kin: 6.7218504, E_tot: 9.240955, Temperature: 269.48425\n",
      "[MindSPONGE] Step: 670, E_pot: 2.253208, E_kin: 7.127817, E_tot: 9.381025, Temperature: 285.7598\n",
      "[MindSPONGE] Step: 680, E_pot: 3.0845733, E_kin: 6.3257327, E_tot: 9.410306, Temperature: 253.60359\n",
      "[MindSPONGE] Step: 690, E_pot: 2.35082, E_kin: 7.1638126, E_tot: 9.514633, Temperature: 287.20288\n",
      "[MindSPONGE] Step: 700, E_pot: 2.9430223, E_kin: 6.6560555, E_tot: 9.599077, Temperature: 266.8465\n",
      "[MindSPONGE] Step: 710, E_pot: 1.9728992, E_kin: 7.634734, E_tot: 9.607634, Temperature: 306.0825\n",
      "[MindSPONGE] Step: 720, E_pot: 2.2491193, E_kin: 7.453874, E_tot: 9.702993, Temperature: 298.83167\n",
      "[MindSPONGE] Step: 730, E_pot: 1.4277935, E_kin: 8.197009, E_tot: 9.624803, Temperature: 328.62454\n",
      "[MindSPONGE] Step: 740, E_pot: 1.4432466, E_kin: 8.264301, E_tot: 9.707548, Temperature: 331.32236\n",
      "[MindSPONGE] Step: 750, E_pot: 1.0271136, E_kin: 8.513493, E_tot: 9.5406065, Temperature: 341.3126\n",
      "[MindSPONGE] Step: 760, E_pot: 0.8714028, E_kin: 8.685735, E_tot: 9.5571375, Temperature: 348.21793\n",
      "[MindSPONGE] Step: 770, E_pot: 0.9598892, E_kin: 8.341942, E_tot: 9.301831, Temperature: 334.435\n",
      "[MindSPONGE] Step: 780, E_pot: 0.8101715, E_kin: 8.42975, E_tot: 9.239922, Temperature: 337.95532\n",
      "[MindSPONGE] Step: 790, E_pot: 1.2609444, E_kin: 7.761939, E_tot: 9.022883, Temperature: 311.18222\n",
      "[MindSPONGE] Step: 800, E_pot: 1.2754093, E_kin: 7.686344, E_tot: 8.961754, Temperature: 308.15158\n",
      "[MindSPONGE] Step: 810, E_pot: 1.5575027, E_kin: 7.3728228, E_tot: 8.9303255, Temperature: 295.58224\n",
      "[MindSPONGE] Step: 820, E_pot: 1.7224131, E_kin: 7.1908474, E_tot: 8.91326, Temperature: 288.2867\n",
      "[MindSPONGE] Step: 830, E_pot: 1.3730212, E_kin: 7.6426687, E_tot: 9.01569, Temperature: 306.40057\n",
      "[MindSPONGE] Step: 840, E_pot: 1.5405649, E_kin: 7.4382935, E_tot: 8.978858, Temperature: 298.20703\n",
      "[MindSPONGE] Step: 850, E_pot: 0.83009875, E_kin: 8.215633, E_tot: 9.0457325, Temperature: 329.37122\n",
      "[MindSPONGE] Step: 860, E_pot: 0.9289824, E_kin: 8.002514, E_tot: 8.931497, Temperature: 320.82706\n",
      "[MindSPONGE] Step: 870, E_pot: 0.51144195, E_kin: 8.399727, E_tot: 8.911169, Temperature: 336.75165\n",
      "[MindSPONGE] Step: 880, E_pot: 0.76781774, E_kin: 7.999266, E_tot: 8.767084, Temperature: 320.69687\n",
      "[MindSPONGE] Step: 890, E_pot: 0.81853515, E_kin: 7.9338055, E_tot: 8.75234, Temperature: 318.0725\n",
      "[MindSPONGE] Step: 900, E_pot: 1.4845195, E_kin: 7.217902, E_tot: 8.702421, Temperature: 289.37137\n",
      "[MindSPONGE] Step: 910, E_pot: 1.615962, E_kin: 7.1722813, E_tot: 8.788243, Temperature: 287.5424\n",
      "[MindSPONGE] Step: 920, E_pot: 2.5084434, E_kin: 6.3919506, E_tot: 8.900394, Temperature: 256.25833\n",
      "[MindSPONGE] Step: 930, E_pot: 2.2325168, E_kin: 6.810092, E_tot: 9.042608, Temperature: 273.02194\n",
      "[MindSPONGE] Step: 940, E_pot: 2.8976412, E_kin: 6.321377, E_tot: 9.219018, Temperature: 253.42896\n",
      "[MindSPONGE] Step: 950, E_pot: 2.1252139, E_kin: 7.124246, E_tot: 9.24946, Temperature: 285.61664\n",
      "[MindSPONGE] Step: 960, E_pot: 2.4009304, E_kin: 6.9387274, E_tot: 9.339658, Temperature: 278.17905\n",
      "[MindSPONGE] Step: 970, E_pot: 1.6076249, E_kin: 7.5824256, E_tot: 9.19005, Temperature: 303.98538\n",
      "[MindSPONGE] Step: 980, E_pot: 1.7113154, E_kin: 7.484096, E_tot: 9.195412, Temperature: 300.0433\n",
      "[MindSPONGE] Step: 990, E_pot: 1.4701128, E_kin: 7.535281, E_tot: 9.005394, Temperature: 302.09537\n",
      "[MindSPONGE] Finished simulation at 2023-03-25 16:44:07\n",
      "[MindSPONGE] Simulation time: 4.45 seconds.\n",
      "--------------------------------------------------------------------------------\n"
     ]
    },
    {
     "data": {
      "text/plain": [
       "<mindsponge.core.sponge.Sponge at 0x7f1cd7a80e80>"
      ]
     },
     "execution_count": 11,
     "metadata": {},
     "output_type": "execute_result"
    }
   ],
   "source": [
    "md.run(1000, callbacks=[run_info, cb_h5md])"
   ]
  },
  {
   "cell_type": "markdown",
   "id": "e0bfd201-98dd-4326-bb4b-5300ae1db0d0",
   "metadata": {},
   "source": [
    "上述运行结果的轨迹输出如下图所示，该结果展示使用了VMD-h5mdplugin插件，在VMD中对分子运行轨迹进行了可视化。\n",
    "\n",
    "![](../../docs/tutorial_b01.gif)"
   ]
  }
 ],
 "metadata": {
  "kernelspec": {
   "display_name": "mindspore-1.9",
   "language": "python",
   "name": "python3"
  },
  "language_info": {
   "codemirror_mode": {
    "name": "ipython",
    "version": 3
   },
   "file_extension": ".py",
   "mimetype": "text/x-python",
   "name": "python",
   "nbconvert_exporter": "python",
   "pygments_lexer": "ipython3",
   "version": "3.8.13"
  },
  "vscode": {
   "interpreter": {
    "hash": "768f82fbbece3f0acd424cda825de8aa44edbfaa38d8a3df4ff1437f7ae7861f"
   }
  }
 },
 "nbformat": 4,
 "nbformat_minor": 5
}
