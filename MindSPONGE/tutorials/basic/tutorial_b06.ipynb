{
 "cells": [
  {
   "cell_type": "code",
   "execution_count": 1,
   "id": "624a40e7-de43-4c51-8e2e-d2eea73ceb8d",
   "metadata": {},
   "outputs": [],
   "source": [
    "from mindsponge import Sponge\n",
    "from mindsponge import ForceField\n",
    "from mindsponge.optimizer import SteepestDescent\n",
    "from mindsponge.control import VelocityVerlet\n",
    "from mindsponge.callback import WriteH5MD, RunInfo\n",
    "from mindsponge.control import Langevin\n",
    "from mindsponge import set_global_units\n",
    "from mindsponge import Protein\n",
    "from mindsponge import UpdaterMD\n",
    "from mindsponge.function import VelocityGenerator\n",
    "from mindspore import context"
   ]
  },
  {
   "cell_type": "code",
   "execution_count": 2,
   "id": "5e67abd9",
   "metadata": {},
   "outputs": [],
   "source": [
    "context.set_context(mode=context.PYNATIVE_MODE, device_target=\"GPU\")"
   ]
  },
  {
   "attachments": {},
   "cell_type": "markdown",
   "id": "8b9397c0-5a6a-4338-9fa4-5b5ce46e0e58",
   "metadata": {},
   "source": [
    "## 单位设置\n",
    "\n",
    "这里我们提到的全局单位设置，主要是指输入输出的长度单位和能量单位，在MindSPONGE的计算过程中会自动根据默认单位进行计算，再将返回的结果转换成用户定义的单位。常用的长度单位是nm和A，一般在PDB文件里面是用A为单位。能量单位比较常用的是kJ/mol和kcal/mol。"
   ]
  },
  {
   "cell_type": "code",
   "execution_count": 3,
   "id": "c6bfe6a3-1f67-40ed-ba0d-33c0168c3f79",
   "metadata": {},
   "outputs": [],
   "source": [
    "set_global_units('nm', 'kj/mol')"
   ]
  },
  {
   "attachments": {},
   "cell_type": "markdown",
   "id": "83cbf326-a968-4cf5-a405-1ba7c97576d6",
   "metadata": {},
   "source": [
    "## 蛋白质案例\n",
    "\n",
    "我们提供了一些简单的蛋白质案例以供测试，一般用pdb(Protein Data Bank)格式来存储蛋白质文件。下述案例就是一个不含H原子的pdb文件（该构象来自于MEGAProtein的预测结果）。\n",
    "\n",
    "![](../../docs/case2-1.png)\n",
    "\n",
    "在使用MindSPONGE构建Protein对象时，会自动为其在相对合理的位置补充H原子（如下图所示）。而这一过程之后，最好对其进行一次能量最小化的操作，以确保得到的构象中不会存在太多的冲突，比如两个原子距离太近等。\n",
    "\n",
    "![](../../docs/case2-3.png)\n",
    "\n",
    "如果使用常用的蛋白质可视化算法NewCartoon来展示的话，可以更清晰的看到这个构象中所存在的$\\alpha$螺旋和$\\beta$折叠等区域：\n",
    "\n",
    "![](../../docs/case2-2.png)"
   ]
  },
  {
   "cell_type": "code",
   "execution_count": 4,
   "id": "66371d6d-a10c-47ff-99fb-6568f64ccddf",
   "metadata": {},
   "outputs": [
    {
     "name": "stdout",
     "output_type": "stream",
     "text": [
      "1 H-Adding task complete.\n"
     ]
    }
   ],
   "source": [
    "pdb_name = 'case2.pdb'\n",
    "system = Protein(pdb=pdb_name, rebuild_hydrogen=True)"
   ]
  },
  {
   "cell_type": "code",
   "execution_count": 5,
   "id": "1d313558-c263-4324-9a44-459dd2335de1",
   "metadata": {},
   "outputs": [],
   "source": [
    "energy = ForceField(system, 'AMBER.FF14SB')"
   ]
  },
  {
   "cell_type": "code",
   "execution_count": 6,
   "id": "7d85face-7806-4ee4-8f24-2889f073a099",
   "metadata": {},
   "outputs": [],
   "source": [
    "min_opt = SteepestDescent(system.trainable_params(), 1e-7)"
   ]
  },
  {
   "cell_type": "code",
   "execution_count": 7,
   "id": "07ff76ae-4624-4fa4-92d3-e98d24638206",
   "metadata": {},
   "outputs": [
    {
     "name": "stdout",
     "output_type": "stream",
     "text": [
      "[MindSPONGE] Using fully connected neighbour list (not updated).\n"
     ]
    }
   ],
   "source": [
    "md = Sponge(system, energy, min_opt)"
   ]
  },
  {
   "cell_type": "code",
   "execution_count": 8,
   "id": "51d64e25-7d63-46e0-977a-b0626b1ed361",
   "metadata": {},
   "outputs": [
    {
     "name": "stdout",
     "output_type": "stream",
     "text": [
      "[MindSPONGE] Started simulation at 2023-03-25 17:06:51\n",
      "[MindSPONGE] Step: 0, E_pot: 141277.78\n",
      "[MindSPONGE] Step: 10, E_pot: 96736.516\n",
      "[MindSPONGE] Step: 20, E_pot: 75656.484\n",
      "[MindSPONGE] Step: 30, E_pot: 62071.25\n",
      "[MindSPONGE] Step: 40, E_pot: 52376.703\n",
      "[MindSPONGE] Step: 50, E_pot: 45027.332\n",
      "[MindSPONGE] Step: 60, E_pot: 39223.36\n",
      "[MindSPONGE] Step: 70, E_pot: 34505.496\n",
      "[MindSPONGE] Step: 80, E_pot: 30588.41\n",
      "[MindSPONGE] Step: 90, E_pot: 27282.955\n",
      "[MindSPONGE] Step: 100, E_pot: 24456.77\n",
      "[MindSPONGE] Step: 110, E_pot: 22013.086\n",
      "[MindSPONGE] Step: 120, E_pot: 19879.0\n",
      "[MindSPONGE] Step: 130, E_pot: 17998.316\n",
      "[MindSPONGE] Step: 140, E_pot: 16327.084\n",
      "[MindSPONGE] Step: 150, E_pot: 14830.459\n",
      "[MindSPONGE] Step: 160, E_pot: 13480.793\n",
      "[MindSPONGE] Step: 170, E_pot: 12255.748\n",
      "[MindSPONGE] Step: 180, E_pot: 11137.307\n",
      "[MindSPONGE] Step: 190, E_pot: 10110.74\n",
      "[MindSPONGE] Step: 200, E_pot: 9163.99\n",
      "[MindSPONGE] Step: 210, E_pot: 8287.027\n",
      "[MindSPONGE] Step: 220, E_pot: 7471.5547\n",
      "[MindSPONGE] Step: 230, E_pot: 6710.5654\n",
      "[MindSPONGE] Step: 240, E_pot: 5998.159\n",
      "[MindSPONGE] Step: 250, E_pot: 5329.3037\n",
      "[MindSPONGE] Step: 260, E_pot: 4699.6885\n",
      "[MindSPONGE] Step: 270, E_pot: 4105.592\n",
      "[MindSPONGE] Step: 280, E_pot: 3543.8262\n",
      "[MindSPONGE] Step: 290, E_pot: 3011.5742\n",
      "[MindSPONGE] Step: 300, E_pot: 2506.375\n",
      "[MindSPONGE] Step: 310, E_pot: 2026.0918\n",
      "[MindSPONGE] Step: 320, E_pot: 1568.8008\n",
      "[MindSPONGE] Step: 330, E_pot: 1132.8135\n",
      "[MindSPONGE] Step: 340, E_pot: 716.6133\n",
      "[MindSPONGE] Step: 350, E_pot: 318.81885\n",
      "[MindSPONGE] Step: 360, E_pot: -61.802734\n",
      "[MindSPONGE] Step: 370, E_pot: -426.3545\n",
      "[MindSPONGE] Step: 380, E_pot: -775.8584\n",
      "[MindSPONGE] Step: 390, E_pot: -1111.2505\n",
      "[MindSPONGE] Step: 400, E_pot: -1433.3892\n",
      "[MindSPONGE] Step: 410, E_pot: -1743.085\n",
      "[MindSPONGE] Step: 420, E_pot: -2041.0557\n",
      "[MindSPONGE] Step: 430, E_pot: -2328.0132\n",
      "[MindSPONGE] Step: 440, E_pot: -2604.5527\n",
      "[MindSPONGE] Step: 450, E_pot: -2871.312\n",
      "[MindSPONGE] Step: 460, E_pot: -3128.8213\n",
      "[MindSPONGE] Step: 470, E_pot: -3377.6138\n",
      "[MindSPONGE] Step: 480, E_pot: -3618.1768\n",
      "[MindSPONGE] Step: 490, E_pot: -3850.958\n",
      "[MindSPONGE] Finished simulation at 2023-03-25 17:07:44\n",
      "[MindSPONGE] Simulation time: 52.88 seconds.\n",
      "--------------------------------------------------------------------------------\n"
     ]
    },
    {
     "data": {
      "text/plain": [
       "<mindsponge.core.sponge.Sponge at 0x7f4bd8dff520>"
      ]
     },
     "execution_count": 8,
     "metadata": {},
     "output_type": "execute_result"
    }
   ],
   "source": [
    "run_info = RunInfo(10)\n",
    "md.run(500, callbacks=[run_info])"
   ]
  },
  {
   "cell_type": "code",
   "execution_count": 9,
   "id": "ee6d410b-a152-4785-9a67-322996b09bfd",
   "metadata": {},
   "outputs": [],
   "source": [
    "vgen = VelocityGenerator(300)\n",
    "velocity = vgen(system.coordinate.shape, system.atom_mass)"
   ]
  },
  {
   "cell_type": "code",
   "execution_count": 10,
   "id": "a4208b35-3d46-4b71-9144-f0e8d6959f74",
   "metadata": {},
   "outputs": [],
   "source": [
    "opt = UpdaterMD(system,\n",
    "                integrator=VelocityVerlet(system),\n",
    "                thermostat=Langevin(system, 300),\n",
    "                time_step=1e-3,\n",
    "                velocity=velocity)"
   ]
  },
  {
   "cell_type": "code",
   "execution_count": 11,
   "id": "0a7bcba5-5ac0-4f46-94aa-f078f3e3ffb1",
   "metadata": {},
   "outputs": [
    {
     "name": "stdout",
     "output_type": "stream",
     "text": [
      "[MindSPONGE] Using fully connected neighbour list (not updated).\n"
     ]
    }
   ],
   "source": [
    "md = Sponge(system, energy, min_opt)"
   ]
  },
  {
   "cell_type": "code",
   "execution_count": 12,
   "id": "bf16e327-09fb-42dd-91ea-320b9acad87d",
   "metadata": {},
   "outputs": [],
   "source": [
    "cb_h5md = WriteH5MD(system, 'tutorial_b06.h5md', save_freq=10, write_velocity=True, write_force=True)"
   ]
  },
  {
   "cell_type": "code",
   "execution_count": 13,
   "id": "c1084b9b-4df7-46c0-8a34-ccb19df6a153",
   "metadata": {},
   "outputs": [
    {
     "name": "stdout",
     "output_type": "stream",
     "text": [
      "[MindSPONGE] Started simulation at 2023-03-25 17:07:53\n",
      "[MindSPONGE] Step: 0, E_pot: -4076.3872, E_kin: 9260.689, E_tot: 5184.3022, Temperature: 293.72495\n",
      "[MindSPONGE] Step: 10, E_pot: -3176.852, E_kin: 8410.569, E_tot: 5233.7173, Temperature: 266.76132\n",
      "[MindSPONGE] Step: 20, E_pot: -3971.753, E_kin: 9656.892, E_tot: 5685.1387, Temperature: 306.29144\n",
      "[MindSPONGE] Step: 30, E_pot: -3090.626, E_kin: 8912.391, E_tot: 5821.7646, Temperature: 282.6778\n",
      "[MindSPONGE] Step: 40, E_pot: -4246.1826, E_kin: 10109.949, E_tot: 5863.7666, Temperature: 320.66122\n",
      "[MindSPONGE] Step: 50, E_pot: -4114.4224, E_kin: 9827.102, E_tot: 5712.679, Temperature: 311.69006\n",
      "[MindSPONGE] Step: 60, E_pot: -4198.6094, E_kin: 9763.93, E_tot: 5565.3203, Temperature: 309.68643\n",
      "[MindSPONGE] Step: 70, E_pot: -4347.147, E_kin: 9700.381, E_tot: 5353.234, Temperature: 307.6708\n",
      "[MindSPONGE] Step: 80, E_pot: -4473.815, E_kin: 9753.679, E_tot: 5279.864, Temperature: 309.36127\n",
      "[MindSPONGE] Step: 90, E_pot: -4314.6777, E_kin: 9675.145, E_tot: 5360.467, Temperature: 306.87036\n",
      "[MindSPONGE] Step: 100, E_pot: -4425.331, E_kin: 9533.029, E_tot: 5107.698, Temperature: 302.36282\n",
      "[MindSPONGE] Step: 110, E_pot: -4282.015, E_kin: 9581.415, E_tot: 5299.4, Temperature: 303.8975\n",
      "[MindSPONGE] Step: 120, E_pot: -4321.133, E_kin: 9498.308, E_tot: 5177.175, Temperature: 301.26157\n",
      "[MindSPONGE] Step: 130, E_pot: -4483.913, E_kin: 9621.045, E_tot: 5137.132, Temperature: 305.15448\n",
      "[MindSPONGE] Step: 140, E_pot: -4433.949, E_kin: 9803.871, E_tot: 5369.922, Temperature: 310.95322\n",
      "[MindSPONGE] Step: 150, E_pot: -4461.0522, E_kin: 9912.877, E_tot: 5451.8247, Temperature: 314.4106\n",
      "[MindSPONGE] Step: 160, E_pot: -4392.1523, E_kin: 9798.041, E_tot: 5405.8887, Temperature: 310.76834\n",
      "[MindSPONGE] Step: 170, E_pot: -4431.09, E_kin: 9752.038, E_tot: 5320.948, Temperature: 309.30923\n",
      "[MindSPONGE] Step: 180, E_pot: -4515.0293, E_kin: 9859.267, E_tot: 5344.2373, Temperature: 312.71024\n",
      "[MindSPONGE] Step: 190, E_pot: -4568.287, E_kin: 9873.384, E_tot: 5305.0967, Temperature: 313.15802\n",
      "[MindSPONGE] Step: 200, E_pot: -4483.929, E_kin: 9720.525, E_tot: 5236.596, Temperature: 308.30972\n",
      "[MindSPONGE] Step: 210, E_pot: -4927.27, E_kin: 9819.631, E_tot: 4892.361, Temperature: 311.4531\n",
      "[MindSPONGE] Step: 220, E_pot: -4797.657, E_kin: 9663.768, E_tot: 4866.1104, Temperature: 306.50952\n",
      "[MindSPONGE] Step: 230, E_pot: -4908.121, E_kin: 9756.238, E_tot: 4848.117, Temperature: 309.44244\n",
      "[MindSPONGE] Step: 240, E_pot: -4758.152, E_kin: 9522.545, E_tot: 4764.393, Temperature: 302.03033\n",
      "[MindSPONGE] Step: 250, E_pot: -4653.3086, E_kin: 9376.506, E_tot: 4723.1973, Temperature: 297.39835\n",
      "[MindSPONGE] Step: 260, E_pot: -4872.17, E_kin: 9715.42, E_tot: 4843.25, Temperature: 308.1478\n",
      "[MindSPONGE] Step: 270, E_pot: -4978.1465, E_kin: 9732.26, E_tot: 4754.1133, Temperature: 308.68192\n",
      "[MindSPONGE] Step: 280, E_pot: -4998.1064, E_kin: 9922.057, E_tot: 4923.95, Temperature: 314.70178\n",
      "[MindSPONGE] Step: 290, E_pot: -4977.8438, E_kin: 9806.251, E_tot: 4828.407, Temperature: 311.02872\n",
      "[MindSPONGE] Step: 300, E_pot: -4886.545, E_kin: 9630.645, E_tot: 4744.0996, Temperature: 305.45895\n",
      "[MindSPONGE] Step: 310, E_pot: -5097.324, E_kin: 9839.1455, E_tot: 4741.8213, Temperature: 312.07205\n",
      "[MindSPONGE] Step: 320, E_pot: -5011.562, E_kin: 9738.431, E_tot: 4726.8687, Temperature: 308.87762\n",
      "[MindSPONGE] Step: 330, E_pot: -5173.617, E_kin: 9804.504, E_tot: 4630.8867, Temperature: 310.9733\n",
      "[MindSPONGE] Step: 340, E_pot: -5278.841, E_kin: 9766.0625, E_tot: 4487.2217, Temperature: 309.75406\n",
      "[MindSPONGE] Step: 350, E_pot: -5316.471, E_kin: 9788.314, E_tot: 4471.8433, Temperature: 310.4598\n",
      "[MindSPONGE] Step: 360, E_pot: -5281.918, E_kin: 9541.516, E_tot: 4259.5977, Temperature: 302.63202\n",
      "[MindSPONGE] Step: 370, E_pot: -5686.3867, E_kin: 9838.504, E_tot: 4152.117, Temperature: 312.05173\n",
      "[MindSPONGE] Step: 380, E_pot: -5367.4966, E_kin: 9477.392, E_tot: 4109.895, Temperature: 300.59818\n",
      "[MindSPONGE] Step: 390, E_pot: -5396.171, E_kin: 9584.196, E_tot: 4188.0254, Temperature: 303.98575\n",
      "[MindSPONGE] Step: 400, E_pot: -5326.0654, E_kin: 9566.043, E_tot: 4239.9775, Temperature: 303.40997\n",
      "[MindSPONGE] Step: 410, E_pot: -5337.9316, E_kin: 9613.819, E_tot: 4275.8877, Temperature: 304.9253\n",
      "[MindSPONGE] Step: 420, E_pot: -5407.235, E_kin: 9571.779, E_tot: 4164.5444, Temperature: 303.5919\n",
      "[MindSPONGE] Step: 430, E_pot: -5647.9634, E_kin: 9678.24, E_tot: 4030.2769, Temperature: 306.96857\n",
      "[MindSPONGE] Step: 440, E_pot: -5616.7466, E_kin: 9657.447, E_tot: 4040.7007, Temperature: 306.30905\n",
      "[MindSPONGE] Step: 450, E_pot: -5562.0664, E_kin: 9581.924, E_tot: 4019.8574, Temperature: 303.91364\n",
      "[MindSPONGE] Step: 460, E_pot: -5550.6553, E_kin: 9534.189, E_tot: 3983.5342, Temperature: 302.39966\n",
      "[MindSPONGE] Step: 470, E_pot: -5372.5137, E_kin: 9428.331, E_tot: 4055.8174, Temperature: 299.04208\n",
      "[MindSPONGE] Step: 480, E_pot: -5336.764, E_kin: 9310.889, E_tot: 3974.1245, Temperature: 295.3171\n",
      "[MindSPONGE] Step: 490, E_pot: -5624.4023, E_kin: 9576.635, E_tot: 3952.2324, Temperature: 303.7459\n",
      "[MindSPONGE] Step: 500, E_pot: -5693.1904, E_kin: 9572.951, E_tot: 3879.7607, Temperature: 303.6291\n",
      "[MindSPONGE] Step: 510, E_pot: -5777.493, E_kin: 9607.461, E_tot: 3829.9678, Temperature: 304.72363\n",
      "[MindSPONGE] Step: 520, E_pot: -5771.67, E_kin: 9601.918, E_tot: 3830.248, Temperature: 304.54782\n",
      "[MindSPONGE] Step: 530, E_pot: -5926.9434, E_kin: 9724.934, E_tot: 3797.9902, Temperature: 308.44955\n",
      "[MindSPONGE] Step: 540, E_pot: -5754.6523, E_kin: 9435.695, E_tot: 3681.043, Temperature: 299.27567\n",
      "[MindSPONGE] Step: 550, E_pot: -5940.0464, E_kin: 9522.998, E_tot: 3582.9517, Temperature: 302.04468\n",
      "[MindSPONGE] Step: 560, E_pot: -5715.902, E_kin: 9424.126, E_tot: 3708.224, Temperature: 298.90872\n",
      "[MindSPONGE] Step: 570, E_pot: -5963.2695, E_kin: 9626.564, E_tot: 3663.295, Temperature: 305.32953\n",
      "[MindSPONGE] Step: 580, E_pot: -5882.4062, E_kin: 9611.502, E_tot: 3729.0957, Temperature: 304.85178\n",
      "[MindSPONGE] Step: 590, E_pot: -5668.0947, E_kin: 9333.411, E_tot: 3665.3164, Temperature: 296.03146\n",
      "[MindSPONGE] Step: 600, E_pot: -5709.7114, E_kin: 9437.997, E_tot: 3728.2856, Temperature: 299.34866\n",
      "[MindSPONGE] Step: 610, E_pot: -5786.814, E_kin: 9526.593, E_tot: 3739.7788, Temperature: 302.1587\n",
      "[MindSPONGE] Step: 620, E_pot: -5704.275, E_kin: 9469.971, E_tot: 3765.6958, Temperature: 300.3628\n",
      "[MindSPONGE] Step: 630, E_pot: -5821.748, E_kin: 9700.543, E_tot: 3878.795, Temperature: 307.67593\n",
      "[MindSPONGE] Step: 640, E_pot: -5758.632, E_kin: 9758.091, E_tot: 3999.459, Temperature: 309.5012\n",
      "[MindSPONGE] Step: 650, E_pot: -5767.3076, E_kin: 9573.717, E_tot: 3806.4092, Temperature: 303.65332\n",
      "[MindSPONGE] Step: 660, E_pot: -5746.741, E_kin: 9716.732, E_tot: 3969.9912, Temperature: 308.18942\n",
      "[MindSPONGE] Step: 670, E_pot: -5862.371, E_kin: 9740.15, E_tot: 3877.7793, Temperature: 308.9322\n",
      "[MindSPONGE] Step: 680, E_pot: -5779.091, E_kin: 9574.299, E_tot: 3795.208, Temperature: 303.6718\n",
      "[MindSPONGE] Step: 690, E_pot: -5711.6973, E_kin: 9436.049, E_tot: 3724.3516, Temperature: 299.2869\n",
      "[MindSPONGE] Step: 700, E_pot: -6040.1387, E_kin: 9734.167, E_tot: 3694.0283, Temperature: 308.7424\n",
      "[MindSPONGE] Step: 710, E_pot: -5812.04, E_kin: 9463.547, E_tot: 3651.5068, Temperature: 300.15903\n",
      "[MindSPONGE] Step: 720, E_pot: -5808.866, E_kin: 9519.353, E_tot: 3710.4863, Temperature: 301.92908\n",
      "[MindSPONGE] Step: 730, E_pot: -6012.506, E_kin: 9579.188, E_tot: 3566.6826, Temperature: 303.8269\n",
      "[MindSPONGE] Step: 740, E_pot: -5863.2246, E_kin: 9454.891, E_tot: 3591.666, Temperature: 299.8845\n",
      "[MindSPONGE] Step: 750, E_pot: -5908.9736, E_kin: 9411.094, E_tot: 3502.12, Temperature: 298.49536\n",
      "[MindSPONGE] Step: 760, E_pot: -6067.136, E_kin: 9500.632, E_tot: 3433.4956, Temperature: 301.3353\n",
      "[MindSPONGE] Step: 770, E_pot: -6103.989, E_kin: 9435.38, E_tot: 3331.391, Temperature: 299.26566\n",
      "[MindSPONGE] Step: 780, E_pot: -6196.867, E_kin: 9425.111, E_tot: 3228.2441, Temperature: 298.93997\n",
      "[MindSPONGE] Step: 790, E_pot: -6045.8345, E_kin: 9396.265, E_tot: 3350.4302, Temperature: 298.02502\n",
      "[MindSPONGE] Step: 800, E_pot: -5998.179, E_kin: 9315.795, E_tot: 3317.6157, Temperature: 295.47275\n",
      "[MindSPONGE] Step: 810, E_pot: -6109.032, E_kin: 9441.731, E_tot: 3332.6992, Temperature: 299.4671\n",
      "[MindSPONGE] Step: 820, E_pot: -6153.2373, E_kin: 9596.421, E_tot: 3443.1836, Temperature: 304.37344\n",
      "[MindSPONGE] Step: 830, E_pot: -6085.3906, E_kin: 9558.443, E_tot: 3473.0527, Temperature: 303.1689\n",
      "[MindSPONGE] Step: 840, E_pot: -6296.563, E_kin: 9679.506, E_tot: 3382.9429, Temperature: 307.0087\n",
      "[MindSPONGE] Step: 850, E_pot: -6176.1377, E_kin: 9502.432, E_tot: 3326.294, Temperature: 301.39236\n",
      "[MindSPONGE] Step: 860, E_pot: -6085.606, E_kin: 9422.514, E_tot: 3336.9077, Temperature: 298.85757\n",
      "[MindSPONGE] Step: 870, E_pot: -6037.157, E_kin: 9330.703, E_tot: 3293.546, Temperature: 295.9456\n",
      "[MindSPONGE] Step: 880, E_pot: -6021.5205, E_kin: 9448.856, E_tot: 3427.336, Temperature: 299.69308\n",
      "[MindSPONGE] Step: 890, E_pot: -6058.58, E_kin: 9440.082, E_tot: 3381.502, Temperature: 299.4148\n",
      "[MindSPONGE] Step: 900, E_pot: -6130.8115, E_kin: 9451.489, E_tot: 3320.6777, Temperature: 299.7766\n",
      "[MindSPONGE] Step: 910, E_pot: -6213.8105, E_kin: 9488.184, E_tot: 3274.373, Temperature: 300.94046\n",
      "[MindSPONGE] Step: 920, E_pot: -6389.741, E_kin: 9524.89, E_tot: 3135.1484, Temperature: 302.10468\n",
      "[MindSPONGE] Step: 930, E_pot: -6136.5903, E_kin: 9194.539, E_tot: 3057.9487, Temperature: 291.62683\n",
      "[MindSPONGE] Step: 940, E_pot: -6236.7495, E_kin: 9320.016, E_tot: 3083.266, Temperature: 295.6066\n",
      "[MindSPONGE] Step: 950, E_pot: -6102.872, E_kin: 9281.578, E_tot: 3178.706, Temperature: 294.38748\n",
      "[MindSPONGE] Step: 960, E_pot: -6108.763, E_kin: 9225.693, E_tot: 3116.9302, Temperature: 292.61496\n",
      "[MindSPONGE] Step: 970, E_pot: -6402.396, E_kin: 9621.711, E_tot: 3219.315, Temperature: 305.1756\n",
      "[MindSPONGE] Step: 980, E_pot: -6301.62, E_kin: 9422.732, E_tot: 3121.1123, Temperature: 298.86453\n",
      "[MindSPONGE] Step: 990, E_pot: -6099.584, E_kin: 9290.1455, E_tot: 3190.5615, Temperature: 294.6592\n",
      "[MindSPONGE] Step: 1000, E_pot: -6268.833, E_kin: 9577.109, E_tot: 3308.2764, Temperature: 303.76096\n",
      "[MindSPONGE] Step: 1010, E_pot: -6412.346, E_kin: 9870.119, E_tot: 3457.773, Temperature: 313.05447\n",
      "[MindSPONGE] Step: 1020, E_pot: -6380.756, E_kin: 9794.027, E_tot: 3413.2715, Temperature: 310.64102\n",
      "[MindSPONGE] Step: 1030, E_pot: -6173.523, E_kin: 9610.82, E_tot: 3437.2974, Temperature: 304.83017\n",
      "[MindSPONGE] Step: 1040, E_pot: -5742.019, E_kin: 9361.381, E_tot: 3619.3618, Temperature: 296.9186\n",
      "[MindSPONGE] Step: 1050, E_pot: -5739.2617, E_kin: 9456.348, E_tot: 3717.086, Temperature: 299.9307\n",
      "[MindSPONGE] Step: 1060, E_pot: -6030.1064, E_kin: 9591.247, E_tot: 3561.1406, Temperature: 304.20938\n",
      "[MindSPONGE] Step: 1070, E_pot: -6133.5605, E_kin: 9629.08, E_tot: 3495.5195, Temperature: 305.4093\n",
      "[MindSPONGE] Step: 1080, E_pot: -6172.757, E_kin: 9460.41, E_tot: 3287.6533, Temperature: 300.05957\n",
      "[MindSPONGE] Step: 1090, E_pot: -6031.71, E_kin: 9432.288, E_tot: 3400.5781, Temperature: 299.1676\n",
      "[MindSPONGE] Step: 1100, E_pot: -6075.6704, E_kin: 9524.367, E_tot: 3448.6968, Temperature: 302.0881\n",
      "[MindSPONGE] Step: 1110, E_pot: -6078.0186, E_kin: 9349.707, E_tot: 3271.6885, Temperature: 296.54834\n",
      "[MindSPONGE] Step: 1120, E_pot: -6195.175, E_kin: 9401.146, E_tot: 3205.9717, Temperature: 298.17987\n",
      "[MindSPONGE] Step: 1130, E_pot: -6348.4453, E_kin: 9447.196, E_tot: 3098.751, Temperature: 299.64044\n",
      "[MindSPONGE] Step: 1140, E_pot: -6350.3022, E_kin: 9430.71, E_tot: 3080.4077, Temperature: 299.11755\n",
      "[MindSPONGE] Step: 1150, E_pot: -6279.7, E_kin: 9461.715, E_tot: 3182.0146, Temperature: 300.10095\n",
      "[MindSPONGE] Step: 1160, E_pot: -6323.91, E_kin: 9549.806, E_tot: 3225.8955, Temperature: 302.89496\n",
      "[MindSPONGE] Step: 1170, E_pot: -6352.503, E_kin: 9421.674, E_tot: 3069.171, Temperature: 298.83093\n",
      "[MindSPONGE] Step: 1180, E_pot: -6212.8403, E_kin: 9172.471, E_tot: 2959.6304, Temperature: 290.92688\n",
      "[MindSPONGE] Step: 1190, E_pot: -6314.192, E_kin: 9372.146, E_tot: 3057.9546, Temperature: 297.26007\n",
      "[MindSPONGE] Step: 1200, E_pot: -6392.03, E_kin: 9540.3545, E_tot: 3148.3247, Temperature: 302.59518\n",
      "[MindSPONGE] Step: 1210, E_pot: -6585.546, E_kin: 9569.287, E_tot: 2983.7412, Temperature: 303.51285\n",
      "[MindSPONGE] Step: 1220, E_pot: -6622.842, E_kin: 9329.379, E_tot: 2706.537, Temperature: 295.9036\n",
      "[MindSPONGE] Step: 1230, E_pot: -6397.005, E_kin: 9222.889, E_tot: 2825.8838, Temperature: 292.526\n",
      "[MindSPONGE] Step: 1240, E_pot: -6497.5127, E_kin: 9460.045, E_tot: 2962.5322, Temperature: 300.04797\n",
      "[MindSPONGE] Step: 1250, E_pot: -6213.34, E_kin: 9415.667, E_tot: 3202.3271, Temperature: 298.64044\n",
      "[MindSPONGE] Step: 1260, E_pot: -6245.3477, E_kin: 9474.118, E_tot: 3228.7705, Temperature: 300.49432\n",
      "[MindSPONGE] Step: 1270, E_pot: -6255.3403, E_kin: 9427.428, E_tot: 3172.0874, Temperature: 299.01343\n",
      "[MindSPONGE] Step: 1280, E_pot: -6262.9287, E_kin: 9374.795, E_tot: 3111.8662, Temperature: 297.34406\n",
      "[MindSPONGE] Step: 1290, E_pot: -6218.1426, E_kin: 9271.885, E_tot: 3053.7422, Temperature: 294.08002\n",
      "[MindSPONGE] Step: 1300, E_pot: -6337.1143, E_kin: 9350.615, E_tot: 3013.501, Temperature: 296.57715\n",
      "[MindSPONGE] Step: 1310, E_pot: -6377.0054, E_kin: 9405.766, E_tot: 3028.7603, Temperature: 298.3264\n",
      "[MindSPONGE] Step: 1320, E_pot: -6488.9595, E_kin: 9509.195, E_tot: 3020.2358, Temperature: 301.6069\n",
      "[MindSPONGE] Step: 1330, E_pot: -6242.094, E_kin: 9366.1, E_tot: 3124.0054, Temperature: 297.0683\n",
      "[MindSPONGE] Step: 1340, E_pot: -6547.89, E_kin: 9586.061, E_tot: 3038.1704, Temperature: 304.04486\n",
      "[MindSPONGE] Step: 1350, E_pot: -6343.209, E_kin: 9302.055, E_tot: 2958.8457, Temperature: 295.03693\n",
      "[MindSPONGE] Step: 1360, E_pot: -6622.0605, E_kin: 9441.849, E_tot: 2819.788, Temperature: 299.47083\n",
      "[MindSPONGE] Step: 1370, E_pot: -6353.443, E_kin: 9313.002, E_tot: 2959.559, Temperature: 295.38416\n",
      "[MindSPONGE] Step: 1380, E_pot: -6434.0728, E_kin: 9338.627, E_tot: 2904.5542, Temperature: 296.1969\n",
      "[MindSPONGE] Step: 1390, E_pot: -6466.618, E_kin: 9271.944, E_tot: 2805.3262, Temperature: 294.0819\n",
      "[MindSPONGE] Step: 1400, E_pot: -6477.232, E_kin: 9345.421, E_tot: 2868.189, Temperature: 296.41238\n",
      "[MindSPONGE] Step: 1410, E_pot: -6302.824, E_kin: 9377.749, E_tot: 3074.9248, Temperature: 297.43777\n",
      "[MindSPONGE] Step: 1420, E_pot: -6460.125, E_kin: 9588.195, E_tot: 3128.0703, Temperature: 304.11258\n",
      "[MindSPONGE] Step: 1430, E_pot: -6372.23, E_kin: 9315.379, E_tot: 2943.149, Temperature: 295.45956\n",
      "[MindSPONGE] Step: 1440, E_pot: -6430.6035, E_kin: 9312.75, E_tot: 2882.1465, Temperature: 295.37616\n",
      "[MindSPONGE] Step: 1450, E_pot: -6541.743, E_kin: 9529.482, E_tot: 2987.7393, Temperature: 302.25034\n",
      "[MindSPONGE] Step: 1460, E_pot: -6506.0117, E_kin: 9304.113, E_tot: 2798.1016, Temperature: 295.10223\n",
      "[MindSPONGE] Step: 1470, E_pot: -6494.083, E_kin: 9378.137, E_tot: 2884.0537, Temperature: 297.45007\n",
      "[MindSPONGE] Step: 1480, E_pot: -6486.428, E_kin: 9391.191, E_tot: 2904.7632, Temperature: 297.8641\n",
      "[MindSPONGE] Step: 1490, E_pot: -6521.3247, E_kin: 9322.268, E_tot: 2800.9429, Temperature: 295.67804\n",
      "[MindSPONGE] Step: 1500, E_pot: -6610.4155, E_kin: 9517.077, E_tot: 2906.6616, Temperature: 301.8569\n",
      "[MindSPONGE] Step: 1510, E_pot: -6627.5806, E_kin: 9432.785, E_tot: 2805.2046, Temperature: 299.18335\n",
      "[MindSPONGE] Step: 1520, E_pot: -6450.271, E_kin: 9418.562, E_tot: 2968.2905, Temperature: 298.7322\n",
      "[MindSPONGE] Step: 1530, E_pot: -6323.7114, E_kin: 9382.167, E_tot: 3058.4556, Temperature: 297.5779\n",
      "[MindSPONGE] Step: 1540, E_pot: -6290.626, E_kin: 9383.225, E_tot: 3092.5986, Temperature: 297.61142\n",
      "[MindSPONGE] Step: 1550, E_pot: -6397.745, E_kin: 9407.453, E_tot: 3009.708, Temperature: 298.37988\n",
      "[MindSPONGE] Step: 1560, E_pot: -6274.293, E_kin: 9280.127, E_tot: 3005.834, Temperature: 294.34146\n",
      "[MindSPONGE] Step: 1570, E_pot: -6470.1343, E_kin: 9451.399, E_tot: 2981.2651, Temperature: 299.77374\n",
      "[MindSPONGE] Step: 1580, E_pot: -6476.0547, E_kin: 9481.023, E_tot: 3004.9688, Temperature: 300.71335\n",
      "[MindSPONGE] Step: 1590, E_pot: -6394.1626, E_kin: 9342.58, E_tot: 2948.4175, Temperature: 296.3223\n",
      "[MindSPONGE] Step: 1600, E_pot: -6509.494, E_kin: 9315.732, E_tot: 2806.2383, Temperature: 295.47076\n",
      "[MindSPONGE] Step: 1610, E_pot: -6551.114, E_kin: 9200.353, E_tot: 2649.2388, Temperature: 291.81122\n",
      "[MindSPONGE] Step: 1620, E_pot: -6497.729, E_kin: 9199.629, E_tot: 2701.9, Temperature: 291.78827\n",
      "[MindSPONGE] Step: 1630, E_pot: -6812.129, E_kin: 9541.112, E_tot: 2728.9834, Temperature: 302.61923\n",
      "[MindSPONGE] Step: 1640, E_pot: -6668.226, E_kin: 9385.506, E_tot: 2717.2798, Temperature: 297.6838\n",
      "[MindSPONGE] Step: 1650, E_pot: -6487.2773, E_kin: 9203.057, E_tot: 2715.7793, Temperature: 291.89697\n",
      "[MindSPONGE] Step: 1660, E_pot: -6695.564, E_kin: 9392.602, E_tot: 2697.0376, Temperature: 297.90884\n",
      "[MindSPONGE] Step: 1670, E_pot: -6386.8975, E_kin: 9215.8, E_tot: 2828.9023, Temperature: 292.30115\n",
      "[MindSPONGE] Step: 1680, E_pot: -6469.9688, E_kin: 9486.298, E_tot: 3016.329, Temperature: 300.88065\n",
      "[MindSPONGE] Step: 1690, E_pot: -6535.4883, E_kin: 9319.715, E_tot: 2784.2266, Temperature: 295.59708\n",
      "[MindSPONGE] Step: 1700, E_pot: -6389.917, E_kin: 9206.718, E_tot: 2816.8008, Temperature: 292.0131\n",
      "[MindSPONGE] Step: 1710, E_pot: -6395.0146, E_kin: 9155.589, E_tot: 2760.5742, Temperature: 290.39142\n",
      "[MindSPONGE] Step: 1720, E_pot: -6624.759, E_kin: 9397.405, E_tot: 2772.6465, Temperature: 298.06122\n",
      "[MindSPONGE] Step: 1730, E_pot: -6407.642, E_kin: 9187.018, E_tot: 2779.3755, Temperature: 291.38824\n",
      "[MindSPONGE] Step: 1740, E_pot: -6564.579, E_kin: 9337.314, E_tot: 2772.7354, Temperature: 296.1553\n",
      "[MindSPONGE] Step: 1750, E_pot: -6448.801, E_kin: 9149.672, E_tot: 2700.871, Temperature: 290.20374\n",
      "[MindSPONGE] Step: 1760, E_pot: -6581.6084, E_kin: 9207.512, E_tot: 2625.9033, Temperature: 292.0383\n",
      "[MindSPONGE] Step: 1770, E_pot: -6584.191, E_kin: 9350.31, E_tot: 2766.1187, Temperature: 296.56744\n",
      "[MindSPONGE] Step: 1780, E_pot: -6470.8984, E_kin: 9371.279, E_tot: 2900.3809, Temperature: 297.23257\n",
      "[MindSPONGE] Step: 1790, E_pot: -6355.328, E_kin: 9367.659, E_tot: 3012.331, Temperature: 297.11774\n",
      "[MindSPONGE] Step: 1800, E_pot: -6452.6577, E_kin: 9501.973, E_tot: 3049.315, Temperature: 301.3778\n",
      "[MindSPONGE] Step: 1810, E_pot: -6286.545, E_kin: 9388.874, E_tot: 3102.329, Temperature: 297.79062\n",
      "[MindSPONGE] Step: 1820, E_pot: -6288.292, E_kin: 9412.384, E_tot: 3124.0918, Temperature: 298.5363\n",
      "[MindSPONGE] Step: 1830, E_pot: -6359.0767, E_kin: 9414.67, E_tot: 3055.5933, Temperature: 298.6088\n",
      "[MindSPONGE] Step: 1840, E_pot: -6297.17, E_kin: 9414.984, E_tot: 3117.8145, Temperature: 298.61877\n",
      "[MindSPONGE] Step: 1850, E_pot: -6608.4565, E_kin: 9620.178, E_tot: 3011.7212, Temperature: 305.12698\n",
      "[MindSPONGE] Step: 1860, E_pot: -6504.258, E_kin: 9461.17, E_tot: 2956.912, Temperature: 300.08365\n",
      "[MindSPONGE] Step: 1870, E_pot: -6246.7446, E_kin: 9145.761, E_tot: 2899.016, Temperature: 290.07968\n",
      "[MindSPONGE] Step: 1880, E_pot: -6596.0938, E_kin: 9450.641, E_tot: 2854.5469, Temperature: 299.7497\n",
      "[MindSPONGE] Step: 1890, E_pot: -6688.5664, E_kin: 9502.321, E_tot: 2813.755, Temperature: 301.38885\n",
      "[MindSPONGE] Step: 1900, E_pot: -6514.878, E_kin: 9373.898, E_tot: 2859.0205, Temperature: 297.31564\n",
      "[MindSPONGE] Step: 1910, E_pot: -6487.3984, E_kin: 9401.641, E_tot: 2914.2422, Temperature: 298.19553\n",
      "[MindSPONGE] Step: 1920, E_pot: -6417.772, E_kin: 9232.368, E_tot: 2814.5962, Temperature: 292.82666\n",
      "[MindSPONGE] Step: 1930, E_pot: -6211.411, E_kin: 9178.822, E_tot: 2967.4111, Temperature: 291.1283\n",
      "[MindSPONGE] Step: 1940, E_pot: -6134.917, E_kin: 9192.784, E_tot: 3057.8672, Temperature: 291.57117\n",
      "[MindSPONGE] Step: 1950, E_pot: -6363.0845, E_kin: 9445.736, E_tot: 3082.6519, Temperature: 299.59415\n",
      "[MindSPONGE] Step: 1960, E_pot: -6584.3755, E_kin: 9606.755, E_tot: 3022.3794, Temperature: 304.70123\n",
      "[MindSPONGE] Step: 1970, E_pot: -6551.421, E_kin: 9437.52, E_tot: 2886.0986, Temperature: 299.33353\n",
      "[MindSPONGE] Step: 1980, E_pot: -6698.872, E_kin: 9415.133, E_tot: 2716.2607, Temperature: 298.62347\n",
      "[MindSPONGE] Step: 1990, E_pot: -6598.118, E_kin: 9297.424, E_tot: 2699.3057, Temperature: 294.89008\n",
      "[MindSPONGE] Finished simulation at 2023-03-25 17:11:59\n",
      "[MindSPONGE] Simulation time: 4 minutes 6 seconds.\n",
      "--------------------------------------------------------------------------------\n"
     ]
    },
    {
     "data": {
      "text/plain": [
       "<mindsponge.core.sponge.Sponge at 0x7f4bd0270550>"
      ]
     },
     "execution_count": 13,
     "metadata": {},
     "output_type": "execute_result"
    }
   ],
   "source": [
    "md.change_optimizer(opt)\n",
    "md.run(2000, callbacks=[run_info, cb_h5md])"
   ]
  }
 ],
 "metadata": {
  "kernelspec": {
   "display_name": "mindspore-1.9",
   "language": "python",
   "name": "python3"
  },
  "language_info": {
   "codemirror_mode": {
    "name": "ipython",
    "version": 3
   },
   "file_extension": ".py",
   "mimetype": "text/x-python",
   "name": "python",
   "nbconvert_exporter": "python",
   "pygments_lexer": "ipython3",
   "version": "3.9.16"
  },
  "vscode": {
   "interpreter": {
    "hash": "768f82fbbece3f0acd424cda825de8aa44edbfaa38d8a3df4ff1437f7ae7861f"
   }
  }
 },
 "nbformat": 4,
 "nbformat_minor": 5
}
