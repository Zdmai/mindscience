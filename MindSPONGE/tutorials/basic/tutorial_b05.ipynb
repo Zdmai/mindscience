{
 "cells": [
  {
   "cell_type": "code",
   "execution_count": 1,
   "id": "6cb602d4-e208-42ac-88fc-9e9768c77589",
   "metadata": {},
   "outputs": [],
   "source": [
    "from mindsponge import Sponge\n",
    "from mindsponge import Molecule\n",
    "from mindsponge import ForceField\n",
    "from mindsponge import UpdaterMD\n",
    "from mindsponge import WithEnergyCell\n",
    "from mindsponge.control import VelocityVerlet, Langevin, BerendsenBarostat\n",
    "from mindsponge.function import VelocityGenerator\n",
    "from mindsponge.callback import WriteH5MD, RunInfo\n",
    "from mindsponge.optimizer import SteepestDescent\n",
    "from mindspore import context"
   ]
  },
  {
   "cell_type": "code",
   "execution_count": 2,
   "id": "f9571cf2",
   "metadata": {},
   "outputs": [],
   "source": [
    "context.set_context(mode=context.PYNATIVE_MODE, device_target=\"GPU\")"
   ]
  },
  {
   "cell_type": "code",
   "execution_count": 3,
   "id": "6a33a60b-08b8-42f4-8a78-b6553d418e4e",
   "metadata": {},
   "outputs": [
    {
     "data": {
      "text/plain": [
       "Parameter (name=pbc_box, shape=(1, 3), dtype=Float32, requires_grad=True)"
      ]
     },
     "execution_count": 3,
     "metadata": {},
     "output_type": "execute_result"
    }
   ],
   "source": [
    "system = Molecule(template='water.spce.yaml')\n",
    "system.set_pbc_box([0.4, 0.4, 0.4])"
   ]
  },
  {
   "cell_type": "markdown",
   "id": "c199fd38-25ff-40bf-bc35-02255f10017e",
   "metadata": {},
   "source": [
    "如果定义了周期性的盒子，那么还可以使用repeat_box功能来扩展/复制系统，比如可以这样将系统复制1000份"
   ]
  },
  {
   "cell_type": "code",
   "execution_count": 4,
   "id": "d1be6458-a40f-428c-8667-35472bd7a811",
   "metadata": {},
   "outputs": [
    {
     "data": {
      "text/plain": [
       "Molecule<>"
      ]
     },
     "execution_count": 4,
     "metadata": {},
     "output_type": "execute_result"
    }
   ],
   "source": [
    "system.repeat_box([10, 10, 10])"
   ]
  },
  {
   "cell_type": "markdown",
   "id": "39ebe6b6-f38e-4789-bd3a-21ebfd571324",
   "metadata": {},
   "source": [
    "得到的分子系统的示意图如下所示：\n",
    "![](../../docs/tutorial_b05.png)"
   ]
  },
  {
   "cell_type": "code",
   "execution_count": 5,
   "id": "013928f0-8217-48b8-87b8-4983e42c4db8",
   "metadata": {},
   "outputs": [],
   "source": [
    "potential = ForceField(system, parameters='SPCE')"
   ]
  },
  {
   "cell_type": "code",
   "execution_count": 6,
   "id": "eaa250b5-17e8-4513-9a35-3f25ad00fb72",
   "metadata": {},
   "outputs": [],
   "source": [
    "opt = SteepestDescent(system.trainable_params(), 1e-6)"
   ]
  },
  {
   "cell_type": "code",
   "execution_count": 7,
   "id": "45386747-2f06-4157-8557-43cfed2f35ce",
   "metadata": {},
   "outputs": [
    {
     "name": "stdout",
     "output_type": "stream",
     "text": [
      "[MindSPONGE] Calculate the neighbour list using the inter-atomic distances.\n"
     ]
    },
    {
     "name": "stderr",
     "output_type": "stream",
     "text": [
      "[WARNING] KERNEL(331109,7fc8fc612500,python):2023-03-25-17:04:35.306.002 [mindspore/ccsrc/plugin/device/gpu/kernel/gpu_kernel.cc:40] CheckDeviceSm] It is recommended to use devices with a computing capacity >= 7, but the current device's computing capacity is 6\n"
     ]
    }
   ],
   "source": [
    "sim = WithEnergyCell(system, potential, cutoff=1.0)\n",
    "md = Sponge(sim, optimizer=opt)"
   ]
  },
  {
   "cell_type": "code",
   "execution_count": 8,
   "id": "ec6d41b5-8da8-4add-a2b7-6e6754be5742",
   "metadata": {},
   "outputs": [
    {
     "name": "stdout",
     "output_type": "stream",
     "text": [
      "[MindSPONGE] Started simulation at 2023-03-25 17:04:36\n",
      "[MindSPONGE] Step: 0, E_pot: -8148.4155\n",
      "[MindSPONGE] Step: 10, E_pot: -8682.079\n",
      "[MindSPONGE] Step: 20, E_pot: -8715.706\n",
      "[MindSPONGE] Step: 30, E_pot: -8718.024\n",
      "[MindSPONGE] Step: 40, E_pot: -8718.347\n",
      "[MindSPONGE] Step: 50, E_pot: -8718.359\n",
      "[MindSPONGE] Step: 60, E_pot: -8718.654\n",
      "[MindSPONGE] Step: 70, E_pot: -8718.68\n",
      "[MindSPONGE] Step: 80, E_pot: -8718.667\n",
      "[MindSPONGE] Step: 90, E_pot: -8718.668\n",
      "[MindSPONGE] Finished simulation at 2023-03-25 17:04:42\n",
      "[MindSPONGE] Simulation time: 6.48 seconds.\n",
      "--------------------------------------------------------------------------------\n"
     ]
    },
    {
     "data": {
      "text/plain": [
       "<mindsponge.core.sponge.Sponge at 0x7fc844f7f9a0>"
      ]
     },
     "execution_count": 8,
     "metadata": {},
     "output_type": "execute_result"
    }
   ],
   "source": [
    "run_info = RunInfo(10)\n",
    "md.run(100, callbacks=[run_info])"
   ]
  },
  {
   "cell_type": "code",
   "execution_count": 9,
   "id": "d30ca198-6e5e-4ec2-a64c-99d1e254f959",
   "metadata": {},
   "outputs": [],
   "source": [
    "temp = 300\n",
    "vgen = VelocityGenerator(temp)\n",
    "velocity = vgen(system.coordinate.shape, system.atom_mass)"
   ]
  },
  {
   "cell_type": "code",
   "execution_count": 10,
   "id": "73e8a6d6-7f4b-4b0e-9fc8-1965bd5fb32b",
   "metadata": {},
   "outputs": [],
   "source": [
    "opt = UpdaterMD(system,\n",
    "                integrator=VelocityVerlet(system),\n",
    "                thermostat=Langevin(system, temp),\n",
    "                barostat=BerendsenBarostat(system, 1),\n",
    "                velocity=velocity,\n",
    "                time_step=5e-4)\n",
    "md = Sponge(sim, optimizer=opt)"
   ]
  },
  {
   "cell_type": "code",
   "execution_count": 11,
   "id": "7a20e0e2-8906-4f88-b315-804ac193aa9a",
   "metadata": {},
   "outputs": [
    {
     "data": {
      "text/plain": [
       "<mindsponge.core.sponge.Sponge at 0x7fc8240d1eb0>"
      ]
     },
     "execution_count": 11,
     "metadata": {},
     "output_type": "execute_result"
    }
   ],
   "source": [
    "md.change_optimizer(opt)"
   ]
  },
  {
   "cell_type": "code",
   "execution_count": 12,
   "id": "dc3c3c5c-4106-44ce-99f8-d842983762d9",
   "metadata": {},
   "outputs": [],
   "source": [
    "cb_h5md = WriteH5MD(system, 'tutorial_b05.h5md', save_freq=10)"
   ]
  },
  {
   "cell_type": "code",
   "execution_count": 13,
   "id": "173b4f21-81f0-4e06-9375-09132fcd254d",
   "metadata": {},
   "outputs": [
    {
     "name": "stdout",
     "output_type": "stream",
     "text": [
      "[MindSPONGE] Started simulation at 2023-03-25 17:04:52\n",
      "[MindSPONGE] Step: 0, E_pot: -8718.6875, E_kin: 10966.965, E_tot: 2248.2773, Temperature: 293.2139, Pressure: 145.61816, Volume: 64.0\n",
      "[MindSPONGE] Step: 10, E_pot: -7376.2607, E_kin: 9809.651, E_tot: 2433.3906, Temperature: 262.27185, Pressure: -1758.2952, Volume: 63.981518\n",
      "[MindSPONGE] Step: 20, E_pot: -8241.714, E_kin: 10733.006, E_tot: 2491.292, Temperature: 286.95874, Pressure: -148.62729, Volume: 63.963696\n",
      "[MindSPONGE] Step: 30, E_pot: -7553.7617, E_kin: 10259.131, E_tot: 2705.3691, Temperature: 274.28915, Pressure: -2323.9917, Volume: 63.938736\n",
      "[MindSPONGE] Step: 40, E_pot: -8418.33, E_kin: 11064.234, E_tot: 2645.9043, Temperature: 295.8145, Pressure: -935.2876, Volume: 63.911556\n",
      "[MindSPONGE] Step: 50, E_pot: -8651.418, E_kin: 11306.675, E_tot: 2655.2568, Temperature: 302.29642, Pressure: -3316.3555, Volume: 63.877\n",
      "[MindSPONGE] Step: 60, E_pot: -9305.027, E_kin: 11871.907, E_tot: 2566.88, Temperature: 317.40854, Pressure: -1859.9004, Volume: 63.836464\n",
      "[MindSPONGE] Step: 70, E_pot: -10039.786, E_kin: 12471.578, E_tot: 2431.792, Temperature: 333.44138, Pressure: -4363.7266, Volume: 63.7907\n",
      "[MindSPONGE] Step: 80, E_pot: -10142.21, E_kin: 12468.605, E_tot: 2326.3955, Temperature: 333.36194, Pressure: -2608.6167, Volume: 63.736313\n",
      "[MindSPONGE] Step: 90, E_pot: -10792.928, E_kin: 13040.143, E_tot: 2247.2148, Temperature: 348.6426, Pressure: -4828.916, Volume: 63.68685\n",
      "[MindSPONGE] Step: 100, E_pot: -10497.924, E_kin: 12438.337, E_tot: 1940.4131, Temperature: 332.55264, Pressure: -2953.1978, Volume: 63.624683\n",
      "[MindSPONGE] Step: 110, E_pot: -11000.708, E_kin: 12687.299, E_tot: 1686.5908, Temperature: 339.20892, Pressure: -4801.3457, Volume: 63.576954\n",
      "[MindSPONGE] Step: 120, E_pot: -10703.019, E_kin: 12128.213, E_tot: 1425.1943, Temperature: 324.26114, Pressure: -3301.058, Volume: 63.5112\n",
      "[MindSPONGE] Step: 130, E_pot: -11187.02, E_kin: 12465.764, E_tot: 1278.7441, Temperature: 333.28595, Pressure: -4307.086, Volume: 63.46714\n",
      "[MindSPONGE] Step: 140, E_pot: -11065.09, E_kin: 12212.338, E_tot: 1147.248, Temperature: 326.5103, Pressure: -4051.3516, Volume: 63.399323\n",
      "[MindSPONGE] Step: 150, E_pot: -11631.348, E_kin: 12626.21, E_tot: 994.8623, Temperature: 337.57565, Pressure: -3689.6785, Volume: 63.352844\n",
      "[MindSPONGE] Step: 160, E_pot: -11671.14, E_kin: 12607.373, E_tot: 936.2334, Temperature: 337.07202, Pressure: -4390.815, Volume: 63.288677\n",
      "[MindSPONGE] Step: 170, E_pot: -12079.683, E_kin: 12772.615, E_tot: 692.9326, Temperature: 341.48996, Pressure: -3372.8699, Volume: 63.239075\n",
      "[MindSPONGE] Step: 180, E_pot: -12247.037, E_kin: 12815.68, E_tot: 568.6426, Temperature: 342.64133, Pressure: -4528.7754, Volume: 63.178513\n",
      "[MindSPONGE] Step: 190, E_pot: -12435.85, E_kin: 12699.842, E_tot: 263.9922, Temperature: 339.54428, Pressure: -3189.1807, Volume: 63.125507\n",
      "[MindSPONGE] Step: 200, E_pot: -12860.119, E_kin: 12937.939, E_tot: 77.82031, Temperature: 345.9101, Pressure: -4408.963, Volume: 63.0696\n",
      "[MindSPONGE] Step: 210, E_pot: -13009.461, E_kin: 12782.324, E_tot: -227.13672, Temperature: 341.7495, Pressure: -3009.284, Volume: 63.01595\n",
      "[MindSPONGE] Step: 220, E_pot: -13548.992, E_kin: 13177.949, E_tot: -371.04297, Temperature: 352.32703, Pressure: -4425.6675, Volume: 62.963467\n",
      "[MindSPONGE] Step: 230, E_pot: -13709.277, E_kin: 13116.084, E_tot: -593.19336, Temperature: 350.67297, Pressure: -2907.0652, Volume: 62.907608\n",
      "[MindSPONGE] Step: 240, E_pot: -14280.865, E_kin: 13530.571, E_tot: -750.29395, Temperature: 361.75476, Pressure: -4335.3315, Volume: 62.858757\n",
      "[MindSPONGE] Step: 250, E_pot: -14394.436, E_kin: 13344.6455, E_tot: -1049.79, Temperature: 356.7838, Pressure: -2923.0378, Volume: 62.802734\n",
      "[MindSPONGE] Step: 260, E_pot: -14872.325, E_kin: 13390.584, E_tot: -1481.7412, Temperature: 358.01205, Pressure: -3924.1064, Volume: 62.757713\n",
      "[MindSPONGE] Step: 270, E_pot: -15138.234, E_kin: 13394.55, E_tot: -1743.6846, Temperature: 358.11804, Pressure: -2995.6343, Volume: 62.70264\n",
      "[MindSPONGE] Step: 280, E_pot: -15611.752, E_kin: 13739.621, E_tot: -1872.1309, Temperature: 367.3439, Pressure: -3682.4004, Volume: 62.661682\n",
      "[MindSPONGE] Step: 290, E_pot: -15861.648, E_kin: 13792.432, E_tot: -2069.2168, Temperature: 368.7559, Pressure: -2931.8765, Volume: 62.606773\n",
      "[MindSPONGE] Step: 300, E_pot: -16138.4795, E_kin: 13790.257, E_tot: -2348.2227, Temperature: 368.69772, Pressure: -3314.9343, Volume: 62.56861\n",
      "[MindSPONGE] Step: 310, E_pot: -16512.803, E_kin: 13803.301, E_tot: -2709.502, Temperature: 369.04648, Pressure: -2897.0261, Volume: 62.518505\n",
      "[MindSPONGE] Step: 320, E_pot: -16846.076, E_kin: 13817.242, E_tot: -3028.834, Temperature: 369.4192, Pressure: -2809.3652, Volume: 62.48257\n",
      "[MindSPONGE] Step: 330, E_pot: -17226.004, E_kin: 13944.875, E_tot: -3281.129, Temperature: 372.83163, Pressure: -2688.723, Volume: 62.43878\n",
      "[MindSPONGE] Step: 340, E_pot: -17322.098, E_kin: 13904.207, E_tot: -3417.8906, Temperature: 371.74432, Pressure: -2730.726, Volume: 62.404026\n",
      "[MindSPONGE] Step: 350, E_pot: -17628.62, E_kin: 13954.69, E_tot: -3673.9287, Temperature: 373.09402, Pressure: -2231.4058, Volume: 62.364174\n",
      "[MindSPONGE] Step: 360, E_pot: -17800.664, E_kin: 14001.253, E_tot: -3799.4111, Temperature: 374.33893, Pressure: -2405.405, Volume: 62.33482\n",
      "[MindSPONGE] Step: 370, E_pot: -18141.678, E_kin: 14037.051, E_tot: -4104.627, Temperature: 375.29602, Pressure: -2204.0376, Volume: 62.298172\n",
      "[MindSPONGE] Step: 380, E_pot: -18438.797, E_kin: 13985.287, E_tot: -4453.51, Temperature: 373.91208, Pressure: -2208.164, Volume: 62.26895\n",
      "[MindSPONGE] Step: 390, E_pot: -18874.643, E_kin: 13953.956, E_tot: -4920.6865, Temperature: 373.0744, Pressure: -2445.9453, Volume: 62.232876\n",
      "[MindSPONGE] Step: 400, E_pot: -19216.498, E_kin: 14157.025, E_tot: -5059.4727, Temperature: 378.5037, Pressure: -2304.2214, Volume: 62.20033\n",
      "[MindSPONGE] Step: 410, E_pot: -19682.895, E_kin: 14253.257, E_tot: -5429.6377, Temperature: 381.07654, Pressure: -2583.2979, Volume: 62.163013\n",
      "[MindSPONGE] Step: 420, E_pot: -20088.992, E_kin: 14323.735, E_tot: -5765.257, Temperature: 382.96088, Pressure: -2512.7815, Volume: 62.127686\n",
      "[MindSPONGE] Step: 430, E_pot: -20375.047, E_kin: 14214.727, E_tot: -6160.3203, Temperature: 380.0464, Pressure: -2721.145, Volume: 62.087585\n",
      "[MindSPONGE] Step: 440, E_pot: -20531.543, E_kin: 14082.922, E_tot: -6448.621, Temperature: 376.52243, Pressure: -2611.8936, Volume: 62.050953\n",
      "[MindSPONGE] Step: 450, E_pot: -20788.426, E_kin: 14008.639, E_tot: -6779.787, Temperature: 374.5364, Pressure: -2532.563, Volume: 62.01195\n",
      "[MindSPONGE] Step: 460, E_pot: -20958.443, E_kin: 13817.715, E_tot: -7140.7285, Temperature: 369.43185, Pressure: -2504.1191, Volume: 61.977856\n",
      "[MindSPONGE] Step: 470, E_pot: -21092.014, E_kin: 13614.527, E_tot: -7477.4863, Temperature: 363.99942, Pressure: -2304.5203, Volume: 61.94047\n",
      "[MindSPONGE] Step: 480, E_pot: -21320.697, E_kin: 13589.469, E_tot: -7731.2285, Temperature: 363.3294, Pressure: -2262.3464, Volume: 61.9107\n",
      "[MindSPONGE] Step: 490, E_pot: -21511.986, E_kin: 13419.442, E_tot: -8092.544, Temperature: 358.7836, Pressure: -2401.3052, Volume: 61.874252\n",
      "[MindSPONGE] Step: 500, E_pot: -21906.652, E_kin: 13728.34, E_tot: -8178.3125, Temperature: 367.0423, Pressure: -2073.4395, Volume: 61.84472\n",
      "[MindSPONGE] Step: 510, E_pot: -22034.402, E_kin: 13658.329, E_tot: -8376.073, Temperature: 365.17047, Pressure: -2558.4236, Volume: 61.810204\n",
      "[MindSPONGE] Step: 520, E_pot: -22451.672, E_kin: 13860.318, E_tot: -8591.354, Temperature: 370.5709, Pressure: -1866.3972, Volume: 61.78011\n",
      "[MindSPONGE] Step: 530, E_pot: -22557.598, E_kin: 13779.854, E_tot: -8777.744, Temperature: 368.4196, Pressure: -2632.6445, Volume: 61.748\n",
      "[MindSPONGE] Step: 540, E_pot: -23019.227, E_kin: 14014.138, E_tot: -9005.089, Temperature: 374.68344, Pressure: -1863.474, Volume: 61.715847\n",
      "[MindSPONGE] Step: 550, E_pot: -22995.135, E_kin: 13650.875, E_tot: -9344.26, Temperature: 364.9712, Pressure: -2631.207, Volume: 61.683506\n",
      "[MindSPONGE] Step: 560, E_pot: -23358.078, E_kin: 13987.038, E_tot: -9371.04, Temperature: 373.95886, Pressure: -1508.9832, Volume: 61.654587\n",
      "[MindSPONGE] Step: 570, E_pot: -23247.742, E_kin: 13602.966, E_tot: -9644.776, Temperature: 363.6903, Pressure: -2467.1206, Volume: 61.626663\n",
      "[MindSPONGE] Step: 580, E_pot: -23503.023, E_kin: 13703.8955, E_tot: -9799.128, Temperature: 366.38873, Pressure: -1383.893, Volume: 61.599358\n",
      "[MindSPONGE] Step: 590, E_pot: -23561.953, E_kin: 13540.12, E_tot: -10021.833, Temperature: 362.01004, Pressure: -2370.1313, Volume: 61.573414\n",
      "[MindSPONGE] Step: 600, E_pot: -23918.85, E_kin: 13557.577, E_tot: -10361.272, Temperature: 362.47678, Pressure: -1476.415, Volume: 61.545696\n",
      "[MindSPONGE] Step: 610, E_pot: -24021.535, E_kin: 13433.272, E_tot: -10588.263, Temperature: 359.15335, Pressure: -2617.3806, Volume: 61.518\n",
      "[MindSPONGE] Step: 620, E_pot: -24331.535, E_kin: 13452.945, E_tot: -10878.59, Temperature: 359.67932, Pressure: -1546.4983, Volume: 61.487343\n",
      "[MindSPONGE] Step: 630, E_pot: -24464.021, E_kin: 13438.551, E_tot: -11025.471, Temperature: 359.2945, Pressure: -2690.1182, Volume: 61.45863\n",
      "[MindSPONGE] Step: 640, E_pot: -24573.854, E_kin: 13163.683, E_tot: -11410.171, Temperature: 351.9456, Pressure: -1626.4836, Volume: 61.426758\n",
      "[MindSPONGE] Step: 650, E_pot: -24869.64, E_kin: 13153.449, E_tot: -11716.191, Temperature: 351.67197, Pressure: -2656.2324, Volume: 61.39895\n",
      "[MindSPONGE] Step: 660, E_pot: -25105.617, E_kin: 13083.828, E_tot: -12021.789, Temperature: 349.81058, Pressure: -1705.4115, Volume: 61.364925\n",
      "[MindSPONGE] Step: 670, E_pot: -25353.057, E_kin: 13036.447, E_tot: -12316.609, Temperature: 348.5438, Pressure: -2882.2017, Volume: 61.336906\n",
      "[MindSPONGE] Step: 680, E_pot: -25479.008, E_kin: 12986.239, E_tot: -12492.769, Temperature: 347.20142, Pressure: -1831.1522, Volume: 61.298058\n",
      "[MindSPONGE] Step: 690, E_pot: -25647.566, E_kin: 13044.914, E_tot: -12602.652, Temperature: 348.77014, Pressure: -2735.232, Volume: 61.271786\n",
      "[MindSPONGE] Step: 700, E_pot: -25756.125, E_kin: 12978.54, E_tot: -12777.585, Temperature: 346.99557, Pressure: -2173.2524, Volume: 61.231976\n",
      "[MindSPONGE] Step: 710, E_pot: -25985.04, E_kin: 12933.603, E_tot: -13051.437, Temperature: 345.79413, Pressure: -2364.7761, Volume: 61.205112\n",
      "[MindSPONGE] Step: 720, E_pot: -26082.125, E_kin: 12852.309, E_tot: -13229.816, Temperature: 343.62064, Pressure: -2289.872, Volume: 61.16816\n",
      "[MindSPONGE] Step: 730, E_pot: -26118.473, E_kin: 12737.424, E_tot: -13381.049, Temperature: 340.54907, Pressure: -2169.795, Volume: 61.140736\n",
      "[MindSPONGE] Step: 740, E_pot: -26328.314, E_kin: 12898.189, E_tot: -13430.125, Temperature: 344.84732, Pressure: -2449.5417, Volume: 61.105923\n",
      "[MindSPONGE] Step: 750, E_pot: -26546.615, E_kin: 13041.325, E_tot: -13505.29, Temperature: 348.6742, Pressure: -2065.7578, Volume: 61.076256\n",
      "[MindSPONGE] Step: 760, E_pot: -26598.521, E_kin: 12837.241, E_tot: -13761.28, Temperature: 343.2178, Pressure: -2637.2441, Volume: 61.042206\n",
      "[MindSPONGE] Step: 770, E_pot: -26773.957, E_kin: 12743.947, E_tot: -14030.01, Temperature: 340.7235, Pressure: -1706.6863, Volume: 61.012417\n",
      "[MindSPONGE] Step: 780, E_pot: -26840.52, E_kin: 12714.428, E_tot: -14126.092, Temperature: 339.93423, Pressure: -2781.4585, Volume: 60.981483\n",
      "[MindSPONGE] Step: 790, E_pot: -27080.23, E_kin: 12909.22, E_tot: -14171.011, Temperature: 345.1422, Pressure: -1768.9286, Volume: 60.949432\n",
      "[MindSPONGE] Step: 800, E_pot: -27091.402, E_kin: 12794.103, E_tot: -14297.3, Temperature: 342.06442, Pressure: -2595.7983, Volume: 60.918\n",
      "[MindSPONGE] Step: 810, E_pot: -27347.094, E_kin: 12829.98, E_tot: -14517.113, Temperature: 343.02368, Pressure: -1822.3162, Volume: 60.888004\n",
      "[MindSPONGE] Step: 820, E_pot: -27558.516, E_kin: 12881.881, E_tot: -14676.635, Temperature: 344.4113, Pressure: -2751.8843, Volume: 60.85522\n",
      "[MindSPONGE] Step: 830, E_pot: -27842.9, E_kin: 13026.98, E_tot: -14815.92, Temperature: 348.2907, Pressure: -1723.9514, Volume: 60.823032\n",
      "[MindSPONGE] Step: 840, E_pot: -27992.928, E_kin: 12909.067, E_tot: -15083.86, Temperature: 345.13815, Pressure: -2635.879, Volume: 60.79305\n",
      "[MindSPONGE] Step: 850, E_pot: -28106.828, E_kin: 12840.1, E_tot: -15266.729, Temperature: 343.29422, Pressure: -1688.377, Volume: 60.760166\n",
      "[MindSPONGE] Step: 860, E_pot: -28087.42, E_kin: 12799.098, E_tot: -15288.322, Temperature: 342.198, Pressure: -2422.0344, Volume: 60.733597\n",
      "[MindSPONGE] Step: 870, E_pot: -28359.99, E_kin: 12893.619, E_tot: -15466.371, Temperature: 344.72513, Pressure: -1747.6263, Volume: 60.70192\n",
      "[MindSPONGE] Step: 880, E_pot: -28541.146, E_kin: 13003.841, E_tot: -15537.306, Temperature: 347.67203, Pressure: -2293.7646, Volume: 60.67617\n",
      "[MindSPONGE] Step: 890, E_pot: -28714.56, E_kin: 13044.325, E_tot: -15670.235, Temperature: 348.7544, Pressure: -1835.4636, Volume: 60.645363\n",
      "[MindSPONGE] Step: 900, E_pot: -28718.365, E_kin: 12889.148, E_tot: -15829.217, Temperature: 344.6056, Pressure: -2309.5342, Volume: 60.618183\n",
      "[MindSPONGE] Step: 910, E_pot: -28702.566, E_kin: 12667.324, E_tot: -16035.242, Temperature: 338.6749, Pressure: -1532.0795, Volume: 60.589756\n",
      "[MindSPONGE] Step: 920, E_pot: -28977.645, E_kin: 12689.598, E_tot: -16288.047, Temperature: 339.2704, Pressure: -2429.9587, Volume: 60.564713\n",
      "[MindSPONGE] Step: 930, E_pot: -29182.822, E_kin: 12664.759, E_tot: -16518.062, Temperature: 338.6063, Pressure: -1612.1635, Volume: 60.533356\n",
      "[MindSPONGE] Step: 940, E_pot: -29297.371, E_kin: 12706.35, E_tot: -16591.021, Temperature: 339.71826, Pressure: -2327.461, Volume: 60.508507\n",
      "[MindSPONGE] Step: 950, E_pot: -29185.115, E_kin: 12499.375, E_tot: -16685.74, Temperature: 334.1846, Pressure: -1358.2803, Volume: 60.480564\n",
      "[MindSPONGE] Step: 960, E_pot: -29217.455, E_kin: 12336.418, E_tot: -16881.037, Temperature: 329.82773, Pressure: -2323.154, Volume: 60.458485\n",
      "[MindSPONGE] Step: 970, E_pot: -29326.29, E_kin: 12337.395, E_tot: -16988.895, Temperature: 329.85385, Pressure: -1276.5222, Volume: 60.429302\n",
      "[MindSPONGE] Step: 980, E_pot: -29701.736, E_kin: 12577.096, E_tot: -17124.64, Temperature: 336.26254, Pressure: -2537.9363, Volume: 60.408638\n",
      "[MindSPONGE] Step: 990, E_pot: -29863.57, E_kin: 12616.3125, E_tot: -17247.258, Temperature: 337.31104, Pressure: -1657.3461, Volume: 60.37375\n",
      "[MindSPONGE] Finished simulation at 2023-03-25 17:05:47\n",
      "[MindSPONGE] Simulation time: 54.97 seconds.\n",
      "--------------------------------------------------------------------------------\n"
     ]
    },
    {
     "data": {
      "text/plain": [
       "<mindsponge.core.sponge.Sponge at 0x7fc8240d1eb0>"
      ]
     },
     "execution_count": 13,
     "metadata": {},
     "output_type": "execute_result"
    }
   ],
   "source": [
    "md.run(1000, callbacks=[run_info, cb_h5md])"
   ]
  }
 ],
 "metadata": {
  "kernelspec": {
   "display_name": "mindspore-1.9",
   "language": "python",
   "name": "python3"
  },
  "language_info": {
   "codemirror_mode": {
    "name": "ipython",
    "version": 3
   },
   "file_extension": ".py",
   "mimetype": "text/x-python",
   "name": "python",
   "nbconvert_exporter": "python",
   "pygments_lexer": "ipython3",
   "version": "3.9.16"
  },
  "vscode": {
   "interpreter": {
    "hash": "768f82fbbece3f0acd424cda825de8aa44edbfaa38d8a3df4ff1437f7ae7861f"
   }
  }
 },
 "nbformat": 4,
 "nbformat_minor": 5
}
